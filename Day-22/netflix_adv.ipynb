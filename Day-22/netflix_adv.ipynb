{
 "cells": [
  {
   "cell_type": "markdown",
   "metadata": {
    "application/vnd.databricks.v1+cell": {
     "cellMetadata": {
      "byteLimit": 2048000,
      "rowLimit": 10000
     },
     "inputWidgets": {},
     "nuid": "24955cf3-9ded-4d18-ab71-539d53d204a7",
     "showTitle": false,
     "tableResultSettingsMap": {},
     "title": ""
    }
   },
   "source": [
    "## Data Loading"
   ]
  },
  {
   "cell_type": "code",
   "execution_count": 0,
   "metadata": {
    "application/vnd.databricks.v1+cell": {
     "cellMetadata": {
      "byteLimit": 2048000,
      "rowLimit": 10000
     },
     "inputWidgets": {},
     "nuid": "2339cef6-7730-4a9b-b0ce-0206e66e2722",
     "showTitle": false,
     "tableResultSettingsMap": {},
     "title": ""
    }
   },
   "outputs": [],
   "source": [
    "from pyspark.sql.types import StructType, StructField, StringType, IntegerType, DoubleType\n",
    "\n",
    "titles_schema = StructType([\n",
    "    StructField(\"id\", StringType()),\n",
    "    StructField(\"title\", StringType()),\n",
    "    StructField(\"type\", StringType()),\n",
    "    StructField(\"description\", StringType()),\n",
    "    StructField(\"release_year\", IntegerType()),\n",
    "    StructField(\"age_certification\", StringType()),\n",
    "    StructField(\"runtime\", IntegerType()),\n",
    "    StructField(\"genres\", StringType()),  # will fix later\n",
    "    StructField(\"production_countries\", StringType()),  # will fix later\n",
    "    StructField(\"seasons\", IntegerType()),\n",
    "    StructField(\"imdb_id\", StringType()),\n",
    "    StructField(\"imdb_score\", DoubleType()),\n",
    "    StructField(\"imdb_votes\", IntegerType()),\n",
    "    StructField(\"tmdb_popularity\", DoubleType()),\n",
    "    StructField(\"tmdb_score\", DoubleType())\n",
    "])\n",
    "\n",
    "credits_schema = StructType([\n",
    "    StructField(\"person_id\", IntegerType()),\n",
    "    StructField(\"id\", StringType()),\n",
    "    StructField(\"name\", StringType()),\n",
    "    StructField(\"character\", StringType()),\n",
    "    StructField(\"role\", StringType())\n",
    "])"
   ]
  },
  {
   "cell_type": "code",
   "execution_count": 0,
   "metadata": {
    "application/vnd.databricks.v1+cell": {
     "cellMetadata": {
      "byteLimit": 2048000,
      "rowLimit": 10000
     },
     "inputWidgets": {},
     "nuid": "b13e67eb-708b-452b-bb33-06231240991a",
     "showTitle": false,
     "tableResultSettingsMap": {},
     "title": ""
    }
   },
   "outputs": [],
   "source": [
    "# titles_df = spark.read.format(\"csv\") \\\n",
    "#     .option(\"header\",\"true\") \\\n",
    "#     .schema(titles_schema) \\\n",
    "#     .load(\"/Volumes/workspace/default/netflix/titles.csv\") \n",
    "# titles_df.write.format(\"delta\").mode(\"overwrite\").saveAsTable(\"titles_df\")"
   ]
  },
  {
   "cell_type": "code",
   "execution_count": 0,
   "metadata": {
    "application/vnd.databricks.v1+cell": {
     "cellMetadata": {
      "byteLimit": 2048000,
      "rowLimit": 10000
     },
     "inputWidgets": {},
     "nuid": "c59d4df4-29dc-4765-b0e1-f2f99b11bd3a",
     "showTitle": false,
     "tableResultSettingsMap": {},
     "title": ""
    }
   },
   "outputs": [],
   "source": [
    "titles_df = spark.read.table(\"titles_df\")"
   ]
  },
  {
   "cell_type": "code",
   "execution_count": 0,
   "metadata": {
    "application/vnd.databricks.v1+cell": {
     "cellMetadata": {
      "byteLimit": 2048000,
      "rowLimit": 10000
     },
     "inputWidgets": {},
     "nuid": "f528646c-6409-4b6e-ad20-ec339df514b5",
     "showTitle": false,
     "tableResultSettingsMap": {},
     "title": ""
    }
   },
   "outputs": [],
   "source": [
    "# credits_df = spark.read.format(\"csv\") \\\n",
    "#     .option(\"header\",\"true\") \\\n",
    "#     .schema(credits_schema) \\\n",
    "#     .load(\"/Volumes/workspace/default/netflix/credits.csv\") \n",
    "# credits_df.write.format(\"delta\").mode(\"overwrite\").saveAsTable(\"credits_df\")"
   ]
  },
  {
   "cell_type": "code",
   "execution_count": 0,
   "metadata": {
    "application/vnd.databricks.v1+cell": {
     "cellMetadata": {
      "byteLimit": 2048000,
      "rowLimit": 10000
     },
     "inputWidgets": {},
     "nuid": "3b87f7c7-8698-494f-a5fb-dde3f67cc33f",
     "showTitle": false,
     "tableResultSettingsMap": {},
     "title": ""
    }
   },
   "outputs": [],
   "source": [
    "credits_df = spark.read.table(\"credits_df\")"
   ]
  },
  {
   "cell_type": "markdown",
   "metadata": {
    "application/vnd.databricks.v1+cell": {
     "cellMetadata": {
      "byteLimit": 2048000,
      "rowLimit": 10000
     },
     "inputWidgets": {},
     "nuid": "207af426-86ee-41d6-aaf1-03e4246a7114",
     "showTitle": false,
     "tableResultSettingsMap": {},
     "title": ""
    }
   },
   "source": [
    "## Data Cleaning"
   ]
  },
  {
   "cell_type": "code",
   "execution_count": 0,
   "metadata": {
    "application/vnd.databricks.v1+cell": {
     "cellMetadata": {
      "byteLimit": 2048000,
      "rowLimit": 10000
     },
     "inputWidgets": {},
     "nuid": "3b13a5ba-f03b-48d9-9eb4-ab3da884027b",
     "showTitle": false,
     "tableResultSettingsMap": {},
     "title": ""
    }
   },
   "outputs": [],
   "source": [
    "from pyspark.sql.functions import from_json\n",
    "from pyspark.sql.types import ArrayType, StringType\n",
    "\n",
    "titles_df = titles_df.withColumn(\"genres_array\", from_json(\"genres\", ArrayType(StringType()))) \\\n",
    "    .withColumn(\"countries_array\", from_json(\"production_countries\", ArrayType(StringType())))"
   ]
  },
  {
   "cell_type": "code",
   "execution_count": 0,
   "metadata": {
    "application/vnd.databricks.v1+cell": {
     "cellMetadata": {
      "byteLimit": 2048000,
      "rowLimit": 10000
     },
     "inputWidgets": {},
     "nuid": "0394ee47-704e-408b-9e60-d420b5f556e5",
     "showTitle": false,
     "tableResultSettingsMap": {},
     "title": ""
    }
   },
   "outputs": [
    {
     "output_type": "stream",
     "name": "stdout",
     "output_type": "stream",
     "text": [
      "[('id', 'string'), ('title', 'string'), ('type', 'string'), ('description', 'string'), ('release_year', 'int'), ('age_certification', 'string'), ('runtime', 'int'), ('genres', 'string'), ('production_countries', 'string'), ('seasons', 'int'), ('imdb_id', 'string'), ('imdb_score', 'double'), ('imdb_votes', 'int'), ('tmdb_popularity', 'double'), ('tmdb_score', 'double'), ('genres_array', 'array<string>'), ('countries_array', 'array<string>')]\n"
     ]
    },
    {
     "output_type": "display_data",
     "data": {
      "text/html": [
       "<style scoped>\n",
       "  .table-result-container {\n",
       "    max-height: 300px;\n",
       "    overflow: auto;\n",
       "  }\n",
       "  table, th, td {\n",
       "    border: 1px solid black;\n",
       "    border-collapse: collapse;\n",
       "  }\n",
       "  th, td {\n",
       "    padding: 5px;\n",
       "  }\n",
       "  th {\n",
       "    text-align: left;\n",
       "  }\n",
       "</style><div class='table-result-container'><table class='table-result'><thead style='background-color: white'><tr><th>id</th><th>title</th><th>type</th><th>description</th><th>release_year</th><th>age_certification</th><th>runtime</th><th>genres</th><th>production_countries</th><th>seasons</th><th>imdb_id</th><th>imdb_score</th><th>imdb_votes</th><th>tmdb_popularity</th><th>tmdb_score</th><th>genres_array</th><th>countries_array</th></tr></thead><tbody><tr><td>ts300399</td><td>Five Came Back: The Reference Films</td><td>SHOW</td><td>\"This collection includes 12 World War II-era propaganda films — many of which are graphic and offensive — discussed in the docuseries \"\"Five Came Back.\"\"\"</td><td>1945</td><td>TV-MA</td><td>51</td><td>['documentation']</td><td>['US']</td><td>null</td><td>null</td><td>null</td><td>null</td><td>0.6</td><td>null</td><td>List(documentation)</td><td>List(US)</td></tr><tr><td>tm84618</td><td>Taxi Driver</td><td>MOVIE</td><td>A mentally unstable Vietnam War veteran works as a night-time taxi driver in New York City where the perceived decadence and sleaze feed his urge for violent action.</td><td>1976</td><td>R</td><td>114</td><td>['drama', 'crime']</td><td>['US']</td><td>null</td><td>tt0075314</td><td>8.2</td><td>null</td><td>40.965</td><td>8.179</td><td>List(drama, crime)</td><td>List(US)</td></tr><tr><td>tm154986</td><td>Deliverance</td><td>MOVIE</td><td>Intent on seeing the Cahulawassee River before it's turned into one huge lake, outdoor fanatic Lewis Medlock takes his friends on a river-rafting trip they'll never forget into the dangerous American back-country.</td><td>1972</td><td>R</td><td>109</td><td>['drama', 'action', 'thriller', 'european']</td><td>['US']</td><td>null</td><td>tt0068473</td><td>7.7</td><td>null</td><td>10.01</td><td>7.3</td><td>List(drama, action, thriller, european)</td><td>List(US)</td></tr><tr><td>tm127384</td><td>Monty Python and the Holy Grail</td><td>MOVIE</td><td>\"King Arthur, accompanied by his squire, recruits his Knights of the Round Table, including Sir Bedevere the Wise, Sir Lancelot the Brave, Sir Robin the Not-Quite-So-Brave-As-Sir-Lancelot and Sir Galahad the Pure. On the way, Arthur battles the Black Knight who, despite having had all his limbs chopped off, insists he can still fight. They reach Camelot, but Arthur decides not  to enter, as \"\"it is a silly place\"\".\"</td><td>1975</td><td>PG</td><td>91</td><td>['fantasy', 'action', 'comedy']</td><td>['GB']</td><td>null</td><td>tt0071853</td><td>8.2</td><td>null</td><td>15.461</td><td>7.811</td><td>List(fantasy, action, comedy)</td><td>List(GB)</td></tr><tr><td>tm120801</td><td>The Dirty Dozen</td><td>MOVIE</td><td>12 American military prisoners in World War II are ordered to infiltrate a well-guarded enemy château and kill the Nazi officers vacationing there. The soldiers, most of whom are facing death sentences for a variety of violent crimes, agree to the mission and the possible commuting of their sentences.</td><td>1967</td><td>null</td><td>150</td><td>['war', 'action']</td><td>['GB', 'US']</td><td>null</td><td>tt0061578</td><td>7.7</td><td>null</td><td>20.398</td><td>7.6</td><td>List(war, action)</td><td>List(GB, US)</td></tr><tr><td>ts22164</td><td>Monty Python's Flying Circus</td><td>SHOW</td><td>A British sketch comedy series with the shows being composed of surreality, risqué or innuendo-laden humour, sight gags and observational sketches without punchlines.</td><td>1969</td><td>TV-14</td><td>30</td><td>['comedy', 'european']</td><td>['GB']</td><td>null</td><td>tt0063929</td><td>8.8</td><td>null</td><td>17.617</td><td>8.306</td><td>List(comedy, european)</td><td>List(GB)</td></tr><tr><td>tm70993</td><td>Life of Brian</td><td>MOVIE</td><td>Brian Cohen is an average young Jewish man, but through a series of ridiculous events, he gains a reputation as the Messiah. When he's not dodging his followers or being scolded by his shrill mother, the hapless Brian has to contend with the pompous Pontius Pilate and acronym-obsessed members of a separatist movement. Rife with Monty Python's signature absurdity, the tale finds Brian's life paralleling Biblical lore, albeit with many more laughs.</td><td>1979</td><td>R</td><td>94</td><td>['comedy']</td><td>['GB']</td><td>null</td><td>tt0079470</td><td>8.0</td><td>null</td><td>17.77</td><td>7.8</td><td>List(comedy)</td><td>List(GB)</td></tr><tr><td>tm14873</td><td>Dirty Harry</td><td>MOVIE</td><td>When a madman dubbed 'Scorpio' terrorizes San Francisco, hard-nosed cop, Harry Callahan – famous for his take-no-prisoners approach to law enforcement – is tasked with hunting down the psychopath. Harry eventually collars Scorpio in the process of rescuing a kidnap victim, only to see him walk on technicalities. Now, the maverick detective is determined to nail the maniac himself.</td><td>1971</td><td>R</td><td>102</td><td>['thriller', 'action', 'crime']</td><td>['US']</td><td>null</td><td>tt0066999</td><td>7.7</td><td>null</td><td>12.817</td><td>7.5</td><td>List(thriller, action, crime)</td><td>List(US)</td></tr><tr><td>tm119281</td><td>Bonnie and Clyde</td><td>MOVIE</td><td>In the 1930s, bored waitress Bonnie Parker falls in love with an ex-con named Clyde Barrow and together they start a violent crime spree through the country, stealing cars and robbing banks.</td><td>1967</td><td>R</td><td>110</td><td>['crime', 'drama', 'action']</td><td>['US']</td><td>null</td><td>tt0061418</td><td>7.7</td><td>null</td><td>15.687</td><td>7.5</td><td>List(crime, drama, action)</td><td>List(US)</td></tr><tr><td>tm98978</td><td>The Blue Lagoon</td><td>MOVIE</td><td>Two small children and a ship's cook survive a shipwreck and find safety on an idyllic tropical island. Soon, however, the cook dies and the young boy and girl are left on their own. Days become years and Emmeline and Richard make a home for themselves surrounded by exotic creatures and nature's beauty. But will they ever see civilization again?</td><td>1980</td><td>R</td><td>104</td><td>['romance', 'action', 'drama']</td><td>['US']</td><td>null</td><td>tt0080453</td><td>5.8</td><td>null</td><td>50.324</td><td>6.156</td><td>List(romance, action, drama)</td><td>List(US)</td></tr></tbody></table></div>"
      ]
     },
     "metadata": {
      "application/vnd.databricks.v1+output": {
       "addedWidgets": {},
       "aggData": [],
       "aggError": "",
       "aggOverflow": false,
       "aggSchema": [],
       "aggSeriesLimitReached": false,
       "aggType": "",
       "arguments": {},
       "columnCustomDisplayInfos": {},
       "data": [
        [
         "ts300399",
         "Five Came Back: The Reference Films",
         "SHOW",
         "\"This collection includes 12 World War II-era propaganda films — many of which are graphic and offensive — discussed in the docuseries \"\"Five Came Back.\"\"\"",
         1945,
         "TV-MA",
         51,
         "['documentation']",
         "['US']",
         null,
         null,
         null,
         null,
         0.6,
         null,
         [
          "documentation"
         ],
         [
          "US"
         ]
        ],
        [
         "tm84618",
         "Taxi Driver",
         "MOVIE",
         "A mentally unstable Vietnam War veteran works as a night-time taxi driver in New York City where the perceived decadence and sleaze feed his urge for violent action.",
         1976,
         "R",
         114,
         "['drama', 'crime']",
         "['US']",
         null,
         "tt0075314",
         8.2,
         null,
         40.965,
         8.179,
         [
          "drama",
          "crime"
         ],
         [
          "US"
         ]
        ],
        [
         "tm154986",
         "Deliverance",
         "MOVIE",
         "Intent on seeing the Cahulawassee River before it's turned into one huge lake, outdoor fanatic Lewis Medlock takes his friends on a river-rafting trip they'll never forget into the dangerous American back-country.",
         1972,
         "R",
         109,
         "['drama', 'action', 'thriller', 'european']",
         "['US']",
         null,
         "tt0068473",
         7.7,
         null,
         10.01,
         7.3,
         [
          "drama",
          "action",
          "thriller",
          "european"
         ],
         [
          "US"
         ]
        ],
        [
         "tm127384",
         "Monty Python and the Holy Grail",
         "MOVIE",
         "\"King Arthur, accompanied by his squire, recruits his Knights of the Round Table, including Sir Bedevere the Wise, Sir Lancelot the Brave, Sir Robin the Not-Quite-So-Brave-As-Sir-Lancelot and Sir Galahad the Pure. On the way, Arthur battles the Black Knight who, despite having had all his limbs chopped off, insists he can still fight. They reach Camelot, but Arthur decides not  to enter, as \"\"it is a silly place\"\".\"",
         1975,
         "PG",
         91,
         "['fantasy', 'action', 'comedy']",
         "['GB']",
         null,
         "tt0071853",
         8.2,
         null,
         15.461,
         7.811,
         [
          "fantasy",
          "action",
          "comedy"
         ],
         [
          "GB"
         ]
        ],
        [
         "tm120801",
         "The Dirty Dozen",
         "MOVIE",
         "12 American military prisoners in World War II are ordered to infiltrate a well-guarded enemy château and kill the Nazi officers vacationing there. The soldiers, most of whom are facing death sentences for a variety of violent crimes, agree to the mission and the possible commuting of their sentences.",
         1967,
         null,
         150,
         "['war', 'action']",
         "['GB', 'US']",
         null,
         "tt0061578",
         7.7,
         null,
         20.398,
         7.6,
         [
          "war",
          "action"
         ],
         [
          "GB",
          "US"
         ]
        ],
        [
         "ts22164",
         "Monty Python's Flying Circus",
         "SHOW",
         "A British sketch comedy series with the shows being composed of surreality, risqué or innuendo-laden humour, sight gags and observational sketches without punchlines.",
         1969,
         "TV-14",
         30,
         "['comedy', 'european']",
         "['GB']",
         null,
         "tt0063929",
         8.8,
         null,
         17.617,
         8.306,
         [
          "comedy",
          "european"
         ],
         [
          "GB"
         ]
        ],
        [
         "tm70993",
         "Life of Brian",
         "MOVIE",
         "Brian Cohen is an average young Jewish man, but through a series of ridiculous events, he gains a reputation as the Messiah. When he's not dodging his followers or being scolded by his shrill mother, the hapless Brian has to contend with the pompous Pontius Pilate and acronym-obsessed members of a separatist movement. Rife with Monty Python's signature absurdity, the tale finds Brian's life paralleling Biblical lore, albeit with many more laughs.",
         1979,
         "R",
         94,
         "['comedy']",
         "['GB']",
         null,
         "tt0079470",
         8.0,
         null,
         17.77,
         7.8,
         [
          "comedy"
         ],
         [
          "GB"
         ]
        ],
        [
         "tm14873",
         "Dirty Harry",
         "MOVIE",
         "When a madman dubbed 'Scorpio' terrorizes San Francisco, hard-nosed cop, Harry Callahan – famous for his take-no-prisoners approach to law enforcement – is tasked with hunting down the psychopath. Harry eventually collars Scorpio in the process of rescuing a kidnap victim, only to see him walk on technicalities. Now, the maverick detective is determined to nail the maniac himself.",
         1971,
         "R",
         102,
         "['thriller', 'action', 'crime']",
         "['US']",
         null,
         "tt0066999",
         7.7,
         null,
         12.817,
         7.5,
         [
          "thriller",
          "action",
          "crime"
         ],
         [
          "US"
         ]
        ],
        [
         "tm119281",
         "Bonnie and Clyde",
         "MOVIE",
         "In the 1930s, bored waitress Bonnie Parker falls in love with an ex-con named Clyde Barrow and together they start a violent crime spree through the country, stealing cars and robbing banks.",
         1967,
         "R",
         110,
         "['crime', 'drama', 'action']",
         "['US']",
         null,
         "tt0061418",
         7.7,
         null,
         15.687,
         7.5,
         [
          "crime",
          "drama",
          "action"
         ],
         [
          "US"
         ]
        ],
        [
         "tm98978",
         "The Blue Lagoon",
         "MOVIE",
         "Two small children and a ship's cook survive a shipwreck and find safety on an idyllic tropical island. Soon, however, the cook dies and the young boy and girl are left on their own. Days become years and Emmeline and Richard make a home for themselves surrounded by exotic creatures and nature's beauty. But will they ever see civilization again?",
         1980,
         "R",
         104,
         "['romance', 'action', 'drama']",
         "['US']",
         null,
         "tt0080453",
         5.8,
         null,
         50.324,
         6.156,
         [
          "romance",
          "action",
          "drama"
         ],
         [
          "US"
         ]
        ]
       ],
       "datasetInfos": [],
       "dbfsResultPath": null,
       "isJsonSchema": true,
       "metadata": {},
       "overflow": false,
       "plotOptions": {
        "customPlotOptions": {},
        "displayType": "table",
        "pivotAggregation": null,
        "pivotColumns": null,
        "xColumns": null,
        "yColumns": null
       },
       "removedWidgets": [],
       "schema": [
        {
         "metadata": "{}",
         "name": "id",
         "type": "\"string\""
        },
        {
         "metadata": "{}",
         "name": "title",
         "type": "\"string\""
        },
        {
         "metadata": "{}",
         "name": "type",
         "type": "\"string\""
        },
        {
         "metadata": "{}",
         "name": "description",
         "type": "\"string\""
        },
        {
         "metadata": "{}",
         "name": "release_year",
         "type": "\"integer\""
        },
        {
         "metadata": "{}",
         "name": "age_certification",
         "type": "\"string\""
        },
        {
         "metadata": "{}",
         "name": "runtime",
         "type": "\"integer\""
        },
        {
         "metadata": "{}",
         "name": "genres",
         "type": "\"string\""
        },
        {
         "metadata": "{}",
         "name": "production_countries",
         "type": "\"string\""
        },
        {
         "metadata": "{}",
         "name": "seasons",
         "type": "\"integer\""
        },
        {
         "metadata": "{}",
         "name": "imdb_id",
         "type": "\"string\""
        },
        {
         "metadata": "{}",
         "name": "imdb_score",
         "type": "\"double\""
        },
        {
         "metadata": "{}",
         "name": "imdb_votes",
         "type": "\"integer\""
        },
        {
         "metadata": "{}",
         "name": "tmdb_popularity",
         "type": "\"double\""
        },
        {
         "metadata": "{}",
         "name": "tmdb_score",
         "type": "\"double\""
        },
        {
         "metadata": "{}",
         "name": "genres_array",
         "type": "{\"containsNull\":true,\"elementType\":\"string\",\"type\":\"array\"}"
        },
        {
         "metadata": "{}",
         "name": "countries_array",
         "type": "{\"containsNull\":true,\"elementType\":\"string\",\"type\":\"array\"}"
        }
       ],
       "type": "table"
      }
     },
     "output_type": "display_data"
    }
   ],
   "source": [
    "print(titles_df.dtypes)\n",
    "display(titles_df.limit(10))"
   ]
  },
  {
   "cell_type": "code",
   "execution_count": 0,
   "metadata": {
    "application/vnd.databricks.v1+cell": {
     "cellMetadata": {
      "byteLimit": 2048000,
      "rowLimit": 10000
     },
     "inputWidgets": {},
     "nuid": "b68635f6-8046-40be-8960-8226c13a4e4d",
     "showTitle": false,
     "tableResultSettingsMap": {},
     "title": ""
    }
   },
   "outputs": [
    {
     "output_type": "display_data",
     "data": {
      "text/html": [
       "<style scoped>\n",
       "  .table-result-container {\n",
       "    max-height: 300px;\n",
       "    overflow: auto;\n",
       "  }\n",
       "  table, th, td {\n",
       "    border: 1px solid black;\n",
       "    border-collapse: collapse;\n",
       "  }\n",
       "  th, td {\n",
       "    padding: 5px;\n",
       "  }\n",
       "  th {\n",
       "    text-align: left;\n",
       "  }\n",
       "</style><div class='table-result-container'><table class='table-result'><thead style='background-color: white'><tr><th>id</th><th>title</th><th>type</th><th>description</th><th>release_year</th><th>age_certification</th><th>runtime</th><th>genres</th><th>production_countries</th><th>seasons</th><th>imdb_id</th><th>imdb_score</th><th>imdb_votes</th><th>tmdb_popularity</th><th>tmdb_score</th><th>genres_array</th><th>countries_array</th></tr></thead><tbody><tr><td>0</td><td>3</td><td>18</td><td>40</td><td>324</td><td>2594</td><td>303</td><td>97</td><td>96</td><td>5881</td><td>541</td><td>737</td><td>5914</td><td>289</td><td>458</td><td>329</td><td>243</td></tr></tbody></table></div>"
      ]
     },
     "metadata": {
      "application/vnd.databricks.v1+output": {
       "addedWidgets": {},
       "aggData": [],
       "aggError": "",
       "aggOverflow": false,
       "aggSchema": [],
       "aggSeriesLimitReached": false,
       "aggType": "",
       "arguments": {},
       "columnCustomDisplayInfos": {},
       "data": [
        [
         0,
         3,
         18,
         40,
         324,
         2594,
         303,
         97,
         96,
         5881,
         541,
         737,
         5914,
         289,
         458,
         329,
         243
        ]
       ],
       "datasetInfos": [],
       "dbfsResultPath": null,
       "isJsonSchema": true,
       "metadata": {},
       "overflow": false,
       "plotOptions": {
        "customPlotOptions": {},
        "displayType": "table",
        "pivotAggregation": null,
        "pivotColumns": null,
        "xColumns": null,
        "yColumns": null
       },
       "removedWidgets": [],
       "schema": [
        {
         "metadata": "{}",
         "name": "id",
         "type": "\"long\""
        },
        {
         "metadata": "{}",
         "name": "title",
         "type": "\"long\""
        },
        {
         "metadata": "{}",
         "name": "type",
         "type": "\"long\""
        },
        {
         "metadata": "{}",
         "name": "description",
         "type": "\"long\""
        },
        {
         "metadata": "{}",
         "name": "release_year",
         "type": "\"long\""
        },
        {
         "metadata": "{}",
         "name": "age_certification",
         "type": "\"long\""
        },
        {
         "metadata": "{}",
         "name": "runtime",
         "type": "\"long\""
        },
        {
         "metadata": "{}",
         "name": "genres",
         "type": "\"long\""
        },
        {
         "metadata": "{}",
         "name": "production_countries",
         "type": "\"long\""
        },
        {
         "metadata": "{}",
         "name": "seasons",
         "type": "\"long\""
        },
        {
         "metadata": "{}",
         "name": "imdb_id",
         "type": "\"long\""
        },
        {
         "metadata": "{}",
         "name": "imdb_score",
         "type": "\"long\""
        },
        {
         "metadata": "{}",
         "name": "imdb_votes",
         "type": "\"long\""
        },
        {
         "metadata": "{}",
         "name": "tmdb_popularity",
         "type": "\"long\""
        },
        {
         "metadata": "{}",
         "name": "tmdb_score",
         "type": "\"long\""
        },
        {
         "metadata": "{}",
         "name": "genres_array",
         "type": "\"long\""
        },
        {
         "metadata": "{}",
         "name": "countries_array",
         "type": "\"long\""
        }
       ],
       "type": "table"
      }
     },
     "output_type": "display_data"
    }
   ],
   "source": [
    "from pyspark.sql.functions import col, isnull, count, when\n",
    "nulls = titles_df.select([count(when(isnull(c),c)).alias(c) for c in titles_df.columns])\n",
    "nulls.display()"
   ]
  },
  {
   "cell_type": "code",
   "execution_count": 0,
   "metadata": {
    "application/vnd.databricks.v1+cell": {
     "cellMetadata": {
      "byteLimit": 2048000,
      "rowLimit": 10000
     },
     "inputWidgets": {},
     "nuid": "9ba9ee31-48d8-44b8-89c2-2ae95a3383a7",
     "showTitle": false,
     "tableResultSettingsMap": {},
     "title": ""
    }
   },
   "outputs": [
    {
     "output_type": "display_data",
     "data": {
      "text/html": [
       "<style scoped>\n",
       "  .table-result-container {\n",
       "    max-height: 300px;\n",
       "    overflow: auto;\n",
       "  }\n",
       "  table, th, td {\n",
       "    border: 1px solid black;\n",
       "    border-collapse: collapse;\n",
       "  }\n",
       "  th, td {\n",
       "    padding: 5px;\n",
       "  }\n",
       "  th {\n",
       "    text-align: left;\n",
       "  }\n",
       "</style><div class='table-result-container'><table class='table-result'><thead style='background-color: white'><tr><th>person_id</th><th>id</th><th>name</th><th>character</th><th>role</th></tr></thead><tbody><tr><td>0</td><td>0</td><td>0</td><td>9772</td><td>0</td></tr></tbody></table></div>"
      ]
     },
     "metadata": {
      "application/vnd.databricks.v1+output": {
       "addedWidgets": {},
       "aggData": [],
       "aggError": "",
       "aggOverflow": false,
       "aggSchema": [],
       "aggSeriesLimitReached": false,
       "aggType": "",
       "arguments": {},
       "columnCustomDisplayInfos": {},
       "data": [
        [
         0,
         0,
         0,
         9772,
         0
        ]
       ],
       "datasetInfos": [],
       "dbfsResultPath": null,
       "isJsonSchema": true,
       "metadata": {},
       "overflow": false,
       "plotOptions": {
        "customPlotOptions": {},
        "displayType": "table",
        "pivotAggregation": null,
        "pivotColumns": null,
        "xColumns": null,
        "yColumns": null
       },
       "removedWidgets": [],
       "schema": [
        {
         "metadata": "{}",
         "name": "person_id",
         "type": "\"long\""
        },
        {
         "metadata": "{}",
         "name": "id",
         "type": "\"long\""
        },
        {
         "metadata": "{}",
         "name": "name",
         "type": "\"long\""
        },
        {
         "metadata": "{}",
         "name": "character",
         "type": "\"long\""
        },
        {
         "metadata": "{}",
         "name": "role",
         "type": "\"long\""
        }
       ],
       "type": "table"
      }
     },
     "output_type": "display_data"
    }
   ],
   "source": [
    "cnulls = credits_df.select([count(when(isnull(c),c)).alias(c) for c in credits_df.columns])\n",
    "cnulls.display()"
   ]
  },
  {
   "cell_type": "code",
   "execution_count": 0,
   "metadata": {
    "application/vnd.databricks.v1+cell": {
     "cellMetadata": {
      "byteLimit": 2048000,
      "rowLimit": 10000
     },
     "inputWidgets": {},
     "nuid": "190a995f-2d53-4de7-b400-e90ff7f8d20e",
     "showTitle": false,
     "tableResultSettingsMap": {},
     "title": ""
    }
   },
   "outputs": [
    {
     "output_type": "display_data",
     "data": {
      "text/html": [
       "<style scoped>\n",
       "  .table-result-container {\n",
       "    max-height: 300px;\n",
       "    overflow: auto;\n",
       "  }\n",
       "  table, th, td {\n",
       "    border: 1px solid black;\n",
       "    border-collapse: collapse;\n",
       "  }\n",
       "  th, td {\n",
       "    padding: 5px;\n",
       "  }\n",
       "  th {\n",
       "    text-align: left;\n",
       "  }\n",
       "</style><div class='table-result-container'><table class='table-result'><thead style='background-color: white'><tr><th>person_id</th><th>id</th><th>name</th><th>character</th><th>role</th></tr></thead><tbody><tr><td>548006</td><td>tm70993</td><td>Peter Brett</td><td>null</td><td>ACTOR</td></tr><tr><td>557168</td><td>tm135083</td><td>Loutfi El Hakim</td><td>null</td><td>ACTOR</td></tr><tr><td>557170</td><td>tm135083</td><td>F. El Demerdache</td><td>null</td><td>ACTOR</td></tr><tr><td>557171</td><td>tm135083</td><td>Said El Araby</td><td>null</td><td>ACTOR</td></tr><tr><td>557172</td><td>tm135083</td><td>Hana Abdel Fattah</td><td>null</td><td>ACTOR</td></tr><tr><td>557173</td><td>tm135083</td><td>Safia Sarwat</td><td>null</td><td>ACTOR</td></tr><tr><td>1521416</td><td>tm135083</td><td>Sherine</td><td>null</td><td>ACTOR</td></tr><tr><td>1521414</td><td>tm135083</td><td>Soheir</td><td>null</td><td>ACTOR</td></tr><tr><td>1321149</td><td>tm135083</td><td>Esmat Mahmoud</td><td>null</td><td>ACTOR</td></tr><tr><td>1521441</td><td>tm135083</td><td>Nawal Morsi</td><td>null</td><td>ACTOR</td></tr></tbody></table></div>"
      ]
     },
     "metadata": {
      "application/vnd.databricks.v1+output": {
       "addedWidgets": {},
       "aggData": [],
       "aggError": "",
       "aggOverflow": false,
       "aggSchema": [],
       "aggSeriesLimitReached": false,
       "aggType": "",
       "arguments": {},
       "columnCustomDisplayInfos": {},
       "data": [
        [
         548006,
         "tm70993",
         "Peter Brett",
         null,
         "ACTOR"
        ],
        [
         557168,
         "tm135083",
         "Loutfi El Hakim",
         null,
         "ACTOR"
        ],
        [
         557170,
         "tm135083",
         "F. El Demerdache",
         null,
         "ACTOR"
        ],
        [
         557171,
         "tm135083",
         "Said El Araby",
         null,
         "ACTOR"
        ],
        [
         557172,
         "tm135083",
         "Hana Abdel Fattah",
         null,
         "ACTOR"
        ],
        [
         557173,
         "tm135083",
         "Safia Sarwat",
         null,
         "ACTOR"
        ],
        [
         1521416,
         "tm135083",
         "Sherine",
         null,
         "ACTOR"
        ],
        [
         1521414,
         "tm135083",
         "Soheir",
         null,
         "ACTOR"
        ],
        [
         1321149,
         "tm135083",
         "Esmat Mahmoud",
         null,
         "ACTOR"
        ],
        [
         1521441,
         "tm135083",
         "Nawal Morsi",
         null,
         "ACTOR"
        ]
       ],
       "datasetInfos": [],
       "dbfsResultPath": null,
       "isJsonSchema": true,
       "metadata": {},
       "overflow": false,
       "plotOptions": {
        "customPlotOptions": {},
        "displayType": "table",
        "pivotAggregation": null,
        "pivotColumns": null,
        "xColumns": null,
        "yColumns": null
       },
       "removedWidgets": [],
       "schema": [
        {
         "metadata": "{}",
         "name": "person_id",
         "type": "\"integer\""
        },
        {
         "metadata": "{}",
         "name": "id",
         "type": "\"string\""
        },
        {
         "metadata": "{}",
         "name": "name",
         "type": "\"string\""
        },
        {
         "metadata": "{}",
         "name": "character",
         "type": "\"string\""
        },
        {
         "metadata": "{}",
         "name": "role",
         "type": "\"string\""
        }
       ],
       "type": "table"
      }
     },
     "output_type": "display_data"
    }
   ],
   "source": [
    "display(credits_df.where((col(\"character\").isNull()) & (col(\"role\") == \"ACTOR\")).limit(10))"
   ]
  },
  {
   "cell_type": "code",
   "execution_count": 0,
   "metadata": {
    "application/vnd.databricks.v1+cell": {
     "cellMetadata": {
      "byteLimit": 2048000,
      "rowLimit": 10000
     },
     "inputWidgets": {},
     "nuid": "8ac89a4f-263d-4d0a-99e5-d4b0d6e98f37",
     "showTitle": false,
     "tableResultSettingsMap": {},
     "title": ""
    }
   },
   "outputs": [],
   "source": [
    "from pyspark.sql.functions import lit\n",
    "credits_df = credits_df.withColumn(\"character\",\n",
    "    when((col(\"character\").isNull()) & (col(\"role\") == \"ACTOR\"), lit(\"Unknown Character\")).otherwise(col(\"character\")))\n",
    "\n",
    "credits_df = credits_df.withColumn(\n",
    "    \"character\",\n",
    "    when(col(\"character\").isNull(), lit(\"N/A\")).otherwise(col(\"character\"))\n",
    ")"
   ]
  },
  {
   "cell_type": "code",
   "execution_count": 0,
   "metadata": {
    "application/vnd.databricks.v1+cell": {
     "cellMetadata": {
      "byteLimit": 2048000,
      "rowLimit": 10000
     },
     "inputWidgets": {},
     "nuid": "7fff5b13-c16a-432f-aaec-c998853b25ce",
     "showTitle": false,
     "tableResultSettingsMap": {},
     "title": ""
    }
   },
   "outputs": [],
   "source": [
    "from pyspark.sql.functions import lit\n",
    "titles_df = titles_df.withColumn(\"imdb_votes\",\n",
    "    when((col(\"imdb_votes\").isNull()) & (col(\"imdb_score\").isNotNull()), lit(100)) \\\n",
    "    .when(col(\"imdb_votes\").isNull(), lit(0)) \\\n",
    "        .otherwise(col(\"imdb_votes\"))\n",
    "    )"
   ]
  },
  {
   "cell_type": "code",
   "execution_count": 0,
   "metadata": {
    "application/vnd.databricks.v1+cell": {
     "cellMetadata": {
      "byteLimit": 2048000,
      "rowLimit": 10000
     },
     "inputWidgets": {},
     "nuid": "0bf69b8e-4ff0-421b-a983-fe19f3dab193",
     "showTitle": false,
     "tableResultSettingsMap": {},
     "title": ""
    }
   },
   "outputs": [],
   "source": [
    "critical_col = ['id', 'title', 'release_year', 'imdb_id']\n",
    "titles_df = titles_df.dropna(subset=critical_col)"
   ]
  },
  {
   "cell_type": "code",
   "execution_count": 0,
   "metadata": {
    "application/vnd.databricks.v1+cell": {
     "cellMetadata": {
      "byteLimit": 2048000,
      "rowLimit": 10000
     },
     "inputWidgets": {},
     "nuid": "9ff13adc-4d02-4625-bd93-1655ec0f3a17",
     "showTitle": false,
     "tableResultSettingsMap": {},
     "title": ""
    }
   },
   "outputs": [],
   "source": [
    "titles_df = titles_df.fillna(\"No Description\", \"description\")"
   ]
  },
  {
   "cell_type": "code",
   "execution_count": 0,
   "metadata": {
    "application/vnd.databricks.v1+cell": {
     "cellMetadata": {
      "byteLimit": 2048000,
      "rowLimit": 10000
     },
     "inputWidgets": {},
     "nuid": "c32aa090-d27d-4886-97d6-2f3ede806296",
     "showTitle": false,
     "tableResultSettingsMap": {},
     "title": ""
    }
   },
   "outputs": [],
   "source": [
    "import random\n",
    "ty = [\"MOVIE\",\"SHOW\"]\n",
    "titles_df = titles_df.fillna(random.choice(ty),\"type\")"
   ]
  },
  {
   "cell_type": "code",
   "execution_count": 0,
   "metadata": {
    "application/vnd.databricks.v1+cell": {
     "cellMetadata": {
      "byteLimit": 2048000,
      "rowLimit": 10000
     },
     "inputWidgets": {},
     "nuid": "75a7fd3b-ebf3-4391-90f0-49b3ecee5963",
     "showTitle": false,
     "tableResultSettingsMap": {},
     "title": ""
    }
   },
   "outputs": [
    {
     "output_type": "stream",
     "name": "stdout",
     "output_type": "stream",
     "text": [
      "TV-MA\n"
     ]
    }
   ],
   "source": [
    "from pyspark.sql.functions import desc\n",
    "mode = (titles_df.filter(col(\"age_certification\").isNotNull()).groupBy(\"age_certification\").count().orderBy(desc(\"count\")).first()[\"age_certification\"])\n",
    "print(mode)\n",
    "titles_df = titles_df.fillna(mode,\"age_certification\")"
   ]
  },
  {
   "cell_type": "code",
   "execution_count": 0,
   "metadata": {
    "application/vnd.databricks.v1+cell": {
     "cellMetadata": {
      "byteLimit": 2048000,
      "rowLimit": 10000
     },
     "inputWidgets": {},
     "nuid": "15e7fc9e-26d4-4e63-9603-29a48655632d",
     "showTitle": false,
     "tableResultSettingsMap": {},
     "title": ""
    }
   },
   "outputs": [
    {
     "output_type": "stream",
     "name": "stdout",
     "output_type": "stream",
     "text": [
      "78.73397312859885\n"
     ]
    }
   ],
   "source": [
    "from pyspark.sql.functions import mean\n",
    "mean_runtime = titles_df.select(mean(\"runtime\")).first()[0]\n",
    "print(mean_runtime)\n",
    "titles_df = titles_df.fillna(mean_runtime, \"runtime\")"
   ]
  },
  {
   "cell_type": "code",
   "execution_count": 0,
   "metadata": {
    "application/vnd.databricks.v1+cell": {
     "cellMetadata": {
      "byteLimit": 2048000,
      "rowLimit": 10000
     },
     "inputWidgets": {},
     "nuid": "7a3e318a-5f54-4c63-9a37-59bf90d8d973",
     "showTitle": false,
     "tableResultSettingsMap": {},
     "title": ""
    }
   },
   "outputs": [],
   "source": [
    "titles_df = titles_df.withColumn(\"seasons\",\n",
    "    when(col(\"seasons\").isNull(), when(col(\"type\") == \"SHOW\", 1).otherwise(0)).otherwise(col(\"seasons\")))"
   ]
  },
  {
   "cell_type": "code",
   "execution_count": 0,
   "metadata": {
    "application/vnd.databricks.v1+cell": {
     "cellMetadata": {
      "byteLimit": 2048000,
      "rowLimit": 10000
     },
     "inputWidgets": {},
     "nuid": "90ea4eef-ea28-43da-a721-3bf3a30f5004",
     "showTitle": false,
     "tableResultSettingsMap": {},
     "title": ""
    }
   },
   "outputs": [
    {
     "output_type": "stream",
     "name": "stdout",
     "output_type": "stream",
     "text": [
      "Row(tmdb_score=6.812709456740442, imdb_score=6.54076694503787, tmdb_popularity=23.47914915188145)\n"
     ]
    }
   ],
   "source": [
    "\n",
    "score_means = titles_df.select(*[mean(col(c)).alias(c) for c in [\"tmdb_score\", \"imdb_score\", \"tmdb_popularity\"]]).first()\n",
    "print(score_means)\n",
    "titles_df = titles_df.fillna({\n",
    "    \"tmdb_score\": score_means[\"tmdb_score\"],\n",
    "    \"imdb_score\": score_means[\"imdb_score\"],\n",
    "    \"tmdb_popularity\": score_means[\"tmdb_popularity\"]\n",
    "    })"
   ]
  },
  {
   "cell_type": "code",
   "execution_count": 0,
   "metadata": {
    "application/vnd.databricks.v1+cell": {
     "cellMetadata": {
      "byteLimit": 2048000,
      "rowLimit": 10000
     },
     "inputWidgets": {},
     "nuid": "052c4fec-4a1b-412d-9b0e-a95c4a97c79d",
     "showTitle": false,
     "tableResultSettingsMap": {},
     "title": ""
    }
   },
   "outputs": [],
   "source": [
    "from pyspark.sql.functions import array\n",
    "titles_df = titles_df.withColumn(\"genres_array\",\n",
    "    when(col(\"genres_array\").isNull(), array().cast(\"array<string>\")).otherwise(col(\"genres_array\"))\n",
    ")"
   ]
  },
  {
   "cell_type": "code",
   "execution_count": 0,
   "metadata": {
    "application/vnd.databricks.v1+cell": {
     "cellMetadata": {
      "byteLimit": 2048000,
      "rowLimit": 10000
     },
     "inputWidgets": {},
     "nuid": "28968292-d644-4f7d-b52f-e9fcdef31d63",
     "showTitle": false,
     "tableResultSettingsMap": {},
     "title": ""
    }
   },
   "outputs": [],
   "source": [
    "titles_df = titles_df.withColumn(\"countries_array\",\n",
    "    when(col(\"countries_array\").isNull(), array().cast(\"array<string>\")).otherwise(col(\"countries_array\"))\n",
    "    )"
   ]
  },
  {
   "cell_type": "markdown",
   "metadata": {
    "application/vnd.databricks.v1+cell": {
     "cellMetadata": {
      "byteLimit": 2048000,
      "rowLimit": 10000
     },
     "inputWidgets": {},
     "nuid": "1e270ca5-8249-4230-a675-2ea7d02da3d4",
     "showTitle": false,
     "tableResultSettingsMap": {},
     "title": ""
    }
   },
   "source": [
    "## Data Analysis using PySpark"
   ]
  },
  {
   "cell_type": "code",
   "execution_count": 0,
   "metadata": {
    "application/vnd.databricks.v1+cell": {
     "cellMetadata": {
      "byteLimit": 2048000,
      "rowLimit": 10000
     },
     "inputWidgets": {},
     "nuid": "f0377719-fb45-49bd-83f3-00b5c790971d",
     "showTitle": false,
     "tableResultSettingsMap": {},
     "title": ""
    }
   },
   "outputs": [
    {
     "output_type": "display_data",
     "data": {
      "text/html": [
       "<style scoped>\n",
       "  .table-result-container {\n",
       "    max-height: 300px;\n",
       "    overflow: auto;\n",
       "  }\n",
       "  table, th, td {\n",
       "    border: 1px solid black;\n",
       "    border-collapse: collapse;\n",
       "  }\n",
       "  th, td {\n",
       "    padding: 5px;\n",
       "  }\n",
       "  th {\n",
       "    text-align: left;\n",
       "  }\n",
       "</style><div class='table-result-container'><table class='table-result'><thead style='background-color: white'><tr><th>id</th><th>title</th><th>type</th><th>description</th><th>release_year</th><th>age_certification</th><th>runtime</th><th>genres</th><th>production_countries</th><th>seasons</th><th>imdb_id</th><th>imdb_score</th><th>imdb_votes</th><th>tmdb_popularity</th><th>tmdb_score</th><th>genres_array</th><th>countries_array</th><th>country</th></tr></thead><tbody><tr><td>tm84618</td><td>Taxi Driver</td><td>MOVIE</td><td>A mentally unstable Vietnam War veteran works as a night-time taxi driver in New York City where the perceived decadence and sleaze feed his urge for violent action.</td><td>1976</td><td>R</td><td>114</td><td>['drama', 'crime']</td><td>['US']</td><td>0</td><td>tt0075314</td><td>8.2</td><td>100</td><td>40.965</td><td>8.179</td><td>List(drama, crime)</td><td>List(US)</td><td>US</td></tr><tr><td>tm154986</td><td>Deliverance</td><td>MOVIE</td><td>Intent on seeing the Cahulawassee River before it's turned into one huge lake, outdoor fanatic Lewis Medlock takes his friends on a river-rafting trip they'll never forget into the dangerous American back-country.</td><td>1972</td><td>R</td><td>109</td><td>['drama', 'action', 'thriller', 'european']</td><td>['US']</td><td>0</td><td>tt0068473</td><td>7.7</td><td>100</td><td>10.01</td><td>7.3</td><td>List(drama, action, thriller, european)</td><td>List(US)</td><td>US</td></tr><tr><td>tm127384</td><td>Monty Python and the Holy Grail</td><td>MOVIE</td><td>\"King Arthur, accompanied by his squire, recruits his Knights of the Round Table, including Sir Bedevere the Wise, Sir Lancelot the Brave, Sir Robin the Not-Quite-So-Brave-As-Sir-Lancelot and Sir Galahad the Pure. On the way, Arthur battles the Black Knight who, despite having had all his limbs chopped off, insists he can still fight. They reach Camelot, but Arthur decides not  to enter, as \"\"it is a silly place\"\".\"</td><td>1975</td><td>PG</td><td>91</td><td>['fantasy', 'action', 'comedy']</td><td>['GB']</td><td>0</td><td>tt0071853</td><td>8.2</td><td>100</td><td>15.461</td><td>7.811</td><td>List(fantasy, action, comedy)</td><td>List(GB)</td><td>GB</td></tr><tr><td>tm120801</td><td>The Dirty Dozen</td><td>MOVIE</td><td>12 American military prisoners in World War II are ordered to infiltrate a well-guarded enemy château and kill the Nazi officers vacationing there. The soldiers, most of whom are facing death sentences for a variety of violent crimes, agree to the mission and the possible commuting of their sentences.</td><td>1967</td><td>TV-MA</td><td>150</td><td>['war', 'action']</td><td>['GB', 'US']</td><td>0</td><td>tt0061578</td><td>7.7</td><td>100</td><td>20.398</td><td>7.6</td><td>List(war, action)</td><td>List(GB, US)</td><td>GB</td></tr><tr><td>tm120801</td><td>The Dirty Dozen</td><td>MOVIE</td><td>12 American military prisoners in World War II are ordered to infiltrate a well-guarded enemy château and kill the Nazi officers vacationing there. The soldiers, most of whom are facing death sentences for a variety of violent crimes, agree to the mission and the possible commuting of their sentences.</td><td>1967</td><td>TV-MA</td><td>150</td><td>['war', 'action']</td><td>['GB', 'US']</td><td>0</td><td>tt0061578</td><td>7.7</td><td>100</td><td>20.398</td><td>7.6</td><td>List(war, action)</td><td>List(GB, US)</td><td>US</td></tr><tr><td>ts22164</td><td>Monty Python's Flying Circus</td><td>SHOW</td><td>A British sketch comedy series with the shows being composed of surreality, risqué or innuendo-laden humour, sight gags and observational sketches without punchlines.</td><td>1969</td><td>TV-14</td><td>30</td><td>['comedy', 'european']</td><td>['GB']</td><td>1</td><td>tt0063929</td><td>8.8</td><td>100</td><td>17.617</td><td>8.306</td><td>List(comedy, european)</td><td>List(GB)</td><td>GB</td></tr><tr><td>tm70993</td><td>Life of Brian</td><td>MOVIE</td><td>Brian Cohen is an average young Jewish man, but through a series of ridiculous events, he gains a reputation as the Messiah. When he's not dodging his followers or being scolded by his shrill mother, the hapless Brian has to contend with the pompous Pontius Pilate and acronym-obsessed members of a separatist movement. Rife with Monty Python's signature absurdity, the tale finds Brian's life paralleling Biblical lore, albeit with many more laughs.</td><td>1979</td><td>R</td><td>94</td><td>['comedy']</td><td>['GB']</td><td>0</td><td>tt0079470</td><td>8.0</td><td>100</td><td>17.77</td><td>7.8</td><td>List(comedy)</td><td>List(GB)</td><td>GB</td></tr><tr><td>tm14873</td><td>Dirty Harry</td><td>MOVIE</td><td>When a madman dubbed 'Scorpio' terrorizes San Francisco, hard-nosed cop, Harry Callahan – famous for his take-no-prisoners approach to law enforcement – is tasked with hunting down the psychopath. Harry eventually collars Scorpio in the process of rescuing a kidnap victim, only to see him walk on technicalities. Now, the maverick detective is determined to nail the maniac himself.</td><td>1971</td><td>R</td><td>102</td><td>['thriller', 'action', 'crime']</td><td>['US']</td><td>0</td><td>tt0066999</td><td>7.7</td><td>100</td><td>12.817</td><td>7.5</td><td>List(thriller, action, crime)</td><td>List(US)</td><td>US</td></tr><tr><td>tm119281</td><td>Bonnie and Clyde</td><td>MOVIE</td><td>In the 1930s, bored waitress Bonnie Parker falls in love with an ex-con named Clyde Barrow and together they start a violent crime spree through the country, stealing cars and robbing banks.</td><td>1967</td><td>R</td><td>110</td><td>['crime', 'drama', 'action']</td><td>['US']</td><td>0</td><td>tt0061418</td><td>7.7</td><td>100</td><td>15.687</td><td>7.5</td><td>List(crime, drama, action)</td><td>List(US)</td><td>US</td></tr><tr><td>tm98978</td><td>The Blue Lagoon</td><td>MOVIE</td><td>Two small children and a ship's cook survive a shipwreck and find safety on an idyllic tropical island. Soon, however, the cook dies and the young boy and girl are left on their own. Days become years and Emmeline and Richard make a home for themselves surrounded by exotic creatures and nature's beauty. But will they ever see civilization again?</td><td>1980</td><td>R</td><td>104</td><td>['romance', 'action', 'drama']</td><td>['US']</td><td>0</td><td>tt0080453</td><td>5.8</td><td>100</td><td>50.324</td><td>6.156</td><td>List(romance, action, drama)</td><td>List(US)</td><td>US</td></tr></tbody></table></div>"
      ]
     },
     "metadata": {
      "application/vnd.databricks.v1+output": {
       "addedWidgets": {},
       "aggData": [],
       "aggError": "",
       "aggOverflow": false,
       "aggSchema": [],
       "aggSeriesLimitReached": false,
       "aggType": "",
       "arguments": {},
       "columnCustomDisplayInfos": {},
       "data": [
        [
         "tm84618",
         "Taxi Driver",
         "MOVIE",
         "A mentally unstable Vietnam War veteran works as a night-time taxi driver in New York City where the perceived decadence and sleaze feed his urge for violent action.",
         1976,
         "R",
         114,
         "['drama', 'crime']",
         "['US']",
         0,
         "tt0075314",
         8.2,
         100,
         40.965,
         8.179,
         [
          "drama",
          "crime"
         ],
         [
          "US"
         ],
         "US"
        ],
        [
         "tm154986",
         "Deliverance",
         "MOVIE",
         "Intent on seeing the Cahulawassee River before it's turned into one huge lake, outdoor fanatic Lewis Medlock takes his friends on a river-rafting trip they'll never forget into the dangerous American back-country.",
         1972,
         "R",
         109,
         "['drama', 'action', 'thriller', 'european']",
         "['US']",
         0,
         "tt0068473",
         7.7,
         100,
         10.01,
         7.3,
         [
          "drama",
          "action",
          "thriller",
          "european"
         ],
         [
          "US"
         ],
         "US"
        ],
        [
         "tm127384",
         "Monty Python and the Holy Grail",
         "MOVIE",
         "\"King Arthur, accompanied by his squire, recruits his Knights of the Round Table, including Sir Bedevere the Wise, Sir Lancelot the Brave, Sir Robin the Not-Quite-So-Brave-As-Sir-Lancelot and Sir Galahad the Pure. On the way, Arthur battles the Black Knight who, despite having had all his limbs chopped off, insists he can still fight. They reach Camelot, but Arthur decides not  to enter, as \"\"it is a silly place\"\".\"",
         1975,
         "PG",
         91,
         "['fantasy', 'action', 'comedy']",
         "['GB']",
         0,
         "tt0071853",
         8.2,
         100,
         15.461,
         7.811,
         [
          "fantasy",
          "action",
          "comedy"
         ],
         [
          "GB"
         ],
         "GB"
        ],
        [
         "tm120801",
         "The Dirty Dozen",
         "MOVIE",
         "12 American military prisoners in World War II are ordered to infiltrate a well-guarded enemy château and kill the Nazi officers vacationing there. The soldiers, most of whom are facing death sentences for a variety of violent crimes, agree to the mission and the possible commuting of their sentences.",
         1967,
         "TV-MA",
         150,
         "['war', 'action']",
         "['GB', 'US']",
         0,
         "tt0061578",
         7.7,
         100,
         20.398,
         7.6,
         [
          "war",
          "action"
         ],
         [
          "GB",
          "US"
         ],
         "GB"
        ],
        [
         "tm120801",
         "The Dirty Dozen",
         "MOVIE",
         "12 American military prisoners in World War II are ordered to infiltrate a well-guarded enemy château and kill the Nazi officers vacationing there. The soldiers, most of whom are facing death sentences for a variety of violent crimes, agree to the mission and the possible commuting of their sentences.",
         1967,
         "TV-MA",
         150,
         "['war', 'action']",
         "['GB', 'US']",
         0,
         "tt0061578",
         7.7,
         100,
         20.398,
         7.6,
         [
          "war",
          "action"
         ],
         [
          "GB",
          "US"
         ],
         "US"
        ],
        [
         "ts22164",
         "Monty Python's Flying Circus",
         "SHOW",
         "A British sketch comedy series with the shows being composed of surreality, risqué or innuendo-laden humour, sight gags and observational sketches without punchlines.",
         1969,
         "TV-14",
         30,
         "['comedy', 'european']",
         "['GB']",
         1,
         "tt0063929",
         8.8,
         100,
         17.617,
         8.306,
         [
          "comedy",
          "european"
         ],
         [
          "GB"
         ],
         "GB"
        ],
        [
         "tm70993",
         "Life of Brian",
         "MOVIE",
         "Brian Cohen is an average young Jewish man, but through a series of ridiculous events, he gains a reputation as the Messiah. When he's not dodging his followers or being scolded by his shrill mother, the hapless Brian has to contend with the pompous Pontius Pilate and acronym-obsessed members of a separatist movement. Rife with Monty Python's signature absurdity, the tale finds Brian's life paralleling Biblical lore, albeit with many more laughs.",
         1979,
         "R",
         94,
         "['comedy']",
         "['GB']",
         0,
         "tt0079470",
         8.0,
         100,
         17.77,
         7.8,
         [
          "comedy"
         ],
         [
          "GB"
         ],
         "GB"
        ],
        [
         "tm14873",
         "Dirty Harry",
         "MOVIE",
         "When a madman dubbed 'Scorpio' terrorizes San Francisco, hard-nosed cop, Harry Callahan – famous for his take-no-prisoners approach to law enforcement – is tasked with hunting down the psychopath. Harry eventually collars Scorpio in the process of rescuing a kidnap victim, only to see him walk on technicalities. Now, the maverick detective is determined to nail the maniac himself.",
         1971,
         "R",
         102,
         "['thriller', 'action', 'crime']",
         "['US']",
         0,
         "tt0066999",
         7.7,
         100,
         12.817,
         7.5,
         [
          "thriller",
          "action",
          "crime"
         ],
         [
          "US"
         ],
         "US"
        ],
        [
         "tm119281",
         "Bonnie and Clyde",
         "MOVIE",
         "In the 1930s, bored waitress Bonnie Parker falls in love with an ex-con named Clyde Barrow and together they start a violent crime spree through the country, stealing cars and robbing banks.",
         1967,
         "R",
         110,
         "['crime', 'drama', 'action']",
         "['US']",
         0,
         "tt0061418",
         7.7,
         100,
         15.687,
         7.5,
         [
          "crime",
          "drama",
          "action"
         ],
         [
          "US"
         ],
         "US"
        ],
        [
         "tm98978",
         "The Blue Lagoon",
         "MOVIE",
         "Two small children and a ship's cook survive a shipwreck and find safety on an idyllic tropical island. Soon, however, the cook dies and the young boy and girl are left on their own. Days become years and Emmeline and Richard make a home for themselves surrounded by exotic creatures and nature's beauty. But will they ever see civilization again?",
         1980,
         "R",
         104,
         "['romance', 'action', 'drama']",
         "['US']",
         0,
         "tt0080453",
         5.8,
         100,
         50.324,
         6.156,
         [
          "romance",
          "action",
          "drama"
         ],
         [
          "US"
         ],
         "US"
        ]
       ],
       "datasetInfos": [],
       "dbfsResultPath": null,
       "isJsonSchema": true,
       "metadata": {},
       "overflow": false,
       "plotOptions": {
        "customPlotOptions": {},
        "displayType": "table",
        "pivotAggregation": null,
        "pivotColumns": null,
        "xColumns": null,
        "yColumns": null
       },
       "removedWidgets": [],
       "schema": [
        {
         "metadata": "{}",
         "name": "id",
         "type": "\"string\""
        },
        {
         "metadata": "{}",
         "name": "title",
         "type": "\"string\""
        },
        {
         "metadata": "{}",
         "name": "type",
         "type": "\"string\""
        },
        {
         "metadata": "{}",
         "name": "description",
         "type": "\"string\""
        },
        {
         "metadata": "{}",
         "name": "release_year",
         "type": "\"integer\""
        },
        {
         "metadata": "{}",
         "name": "age_certification",
         "type": "\"string\""
        },
        {
         "metadata": "{}",
         "name": "runtime",
         "type": "\"integer\""
        },
        {
         "metadata": "{}",
         "name": "genres",
         "type": "\"string\""
        },
        {
         "metadata": "{}",
         "name": "production_countries",
         "type": "\"string\""
        },
        {
         "metadata": "{}",
         "name": "seasons",
         "type": "\"integer\""
        },
        {
         "metadata": "{}",
         "name": "imdb_id",
         "type": "\"string\""
        },
        {
         "metadata": "{}",
         "name": "imdb_score",
         "type": "\"double\""
        },
        {
         "metadata": "{}",
         "name": "imdb_votes",
         "type": "\"integer\""
        },
        {
         "metadata": "{}",
         "name": "tmdb_popularity",
         "type": "\"double\""
        },
        {
         "metadata": "{}",
         "name": "tmdb_score",
         "type": "\"double\""
        },
        {
         "metadata": "{}",
         "name": "genres_array",
         "type": "{\"containsNull\":true,\"elementType\":\"string\",\"type\":\"array\"}"
        },
        {
         "metadata": "{}",
         "name": "countries_array",
         "type": "{\"containsNull\":true,\"elementType\":\"string\",\"type\":\"array\"}"
        },
        {
         "metadata": "{}",
         "name": "country",
         "type": "\"string\""
        }
       ],
       "type": "table"
      }
     },
     "output_type": "display_data"
    }
   ],
   "source": [
    "from pyspark.sql.functions import explode\n",
    "\n",
    "exploded_genres = titles_df.withColumn(\"genre\", explode(\"genres_array\"))\n",
    "exploded_countries = titles_df.withColumn(\"country\", explode(\"countries_array\"))\n",
    "display(exploded_countries.limit(10))"
   ]
  },
  {
   "cell_type": "code",
   "execution_count": 0,
   "metadata": {
    "application/vnd.databricks.v1+cell": {
     "cellMetadata": {
      "byteLimit": 2048000,
      "rowLimit": 10000
     },
     "collapsed": true,
     "inputWidgets": {},
     "nuid": "8e097a8a-1f90-44aa-b25b-4baf111614e7",
     "showTitle": false,
     "tableResultSettingsMap": {},
     "title": ""
    }
   },
   "outputs": [
    {
     "output_type": "display_data",
     "data": {
      "text/html": [
       "<style scoped>\n",
       "  .table-result-container {\n",
       "    max-height: 300px;\n",
       "    overflow: auto;\n",
       "  }\n",
       "  table, th, td {\n",
       "    border: 1px solid black;\n",
       "    border-collapse: collapse;\n",
       "  }\n",
       "  th, td {\n",
       "    padding: 5px;\n",
       "  }\n",
       "  th {\n",
       "    text-align: left;\n",
       "  }\n",
       "</style><div class='table-result-container'><table class='table-result'><thead style='background-color: white'><tr><th>id</th><th>title</th><th>type</th><th>description</th><th>release_year</th><th>age_certification</th><th>runtime</th><th>genres</th><th>production_countries</th><th>seasons</th><th>imdb_id</th><th>imdb_score</th><th>imdb_votes</th><th>tmdb_popularity</th><th>tmdb_score</th><th>genres_array</th><th>countries_array</th><th>genre</th><th>country</th></tr></thead><tbody><tr><td>tm84618</td><td>Taxi Driver</td><td>MOVIE</td><td>A mentally unstable Vietnam War veteran works as a night-time taxi driver in New York City where the perceived decadence and sleaze feed his urge for violent action.</td><td>1976</td><td>R</td><td>114</td><td>['drama', 'crime']</td><td>['US']</td><td>0</td><td>tt0075314</td><td>8.2</td><td>100</td><td>40.965</td><td>8.179</td><td>List(drama, crime)</td><td>List(US)</td><td>drama</td><td>US</td></tr><tr><td>tm84618</td><td>Taxi Driver</td><td>MOVIE</td><td>A mentally unstable Vietnam War veteran works as a night-time taxi driver in New York City where the perceived decadence and sleaze feed his urge for violent action.</td><td>1976</td><td>R</td><td>114</td><td>['drama', 'crime']</td><td>['US']</td><td>0</td><td>tt0075314</td><td>8.2</td><td>100</td><td>40.965</td><td>8.179</td><td>List(drama, crime)</td><td>List(US)</td><td>crime</td><td>US</td></tr><tr><td>tm154986</td><td>Deliverance</td><td>MOVIE</td><td>Intent on seeing the Cahulawassee River before it's turned into one huge lake, outdoor fanatic Lewis Medlock takes his friends on a river-rafting trip they'll never forget into the dangerous American back-country.</td><td>1972</td><td>R</td><td>109</td><td>['drama', 'action', 'thriller', 'european']</td><td>['US']</td><td>0</td><td>tt0068473</td><td>7.7</td><td>100</td><td>10.01</td><td>7.3</td><td>List(drama, action, thriller, european)</td><td>List(US)</td><td>drama</td><td>US</td></tr><tr><td>tm154986</td><td>Deliverance</td><td>MOVIE</td><td>Intent on seeing the Cahulawassee River before it's turned into one huge lake, outdoor fanatic Lewis Medlock takes his friends on a river-rafting trip they'll never forget into the dangerous American back-country.</td><td>1972</td><td>R</td><td>109</td><td>['drama', 'action', 'thriller', 'european']</td><td>['US']</td><td>0</td><td>tt0068473</td><td>7.7</td><td>100</td><td>10.01</td><td>7.3</td><td>List(drama, action, thriller, european)</td><td>List(US)</td><td>action</td><td>US</td></tr><tr><td>tm154986</td><td>Deliverance</td><td>MOVIE</td><td>Intent on seeing the Cahulawassee River before it's turned into one huge lake, outdoor fanatic Lewis Medlock takes his friends on a river-rafting trip they'll never forget into the dangerous American back-country.</td><td>1972</td><td>R</td><td>109</td><td>['drama', 'action', 'thriller', 'european']</td><td>['US']</td><td>0</td><td>tt0068473</td><td>7.7</td><td>100</td><td>10.01</td><td>7.3</td><td>List(drama, action, thriller, european)</td><td>List(US)</td><td>thriller</td><td>US</td></tr><tr><td>tm154986</td><td>Deliverance</td><td>MOVIE</td><td>Intent on seeing the Cahulawassee River before it's turned into one huge lake, outdoor fanatic Lewis Medlock takes his friends on a river-rafting trip they'll never forget into the dangerous American back-country.</td><td>1972</td><td>R</td><td>109</td><td>['drama', 'action', 'thriller', 'european']</td><td>['US']</td><td>0</td><td>tt0068473</td><td>7.7</td><td>100</td><td>10.01</td><td>7.3</td><td>List(drama, action, thriller, european)</td><td>List(US)</td><td>european</td><td>US</td></tr><tr><td>tm127384</td><td>Monty Python and the Holy Grail</td><td>MOVIE</td><td>\"King Arthur, accompanied by his squire, recruits his Knights of the Round Table, including Sir Bedevere the Wise, Sir Lancelot the Brave, Sir Robin the Not-Quite-So-Brave-As-Sir-Lancelot and Sir Galahad the Pure. On the way, Arthur battles the Black Knight who, despite having had all his limbs chopped off, insists he can still fight. They reach Camelot, but Arthur decides not  to enter, as \"\"it is a silly place\"\".\"</td><td>1975</td><td>PG</td><td>91</td><td>['fantasy', 'action', 'comedy']</td><td>['GB']</td><td>0</td><td>tt0071853</td><td>8.2</td><td>100</td><td>15.461</td><td>7.811</td><td>List(fantasy, action, comedy)</td><td>List(GB)</td><td>fantasy</td><td>GB</td></tr><tr><td>tm127384</td><td>Monty Python and the Holy Grail</td><td>MOVIE</td><td>\"King Arthur, accompanied by his squire, recruits his Knights of the Round Table, including Sir Bedevere the Wise, Sir Lancelot the Brave, Sir Robin the Not-Quite-So-Brave-As-Sir-Lancelot and Sir Galahad the Pure. On the way, Arthur battles the Black Knight who, despite having had all his limbs chopped off, insists he can still fight. They reach Camelot, but Arthur decides not  to enter, as \"\"it is a silly place\"\".\"</td><td>1975</td><td>PG</td><td>91</td><td>['fantasy', 'action', 'comedy']</td><td>['GB']</td><td>0</td><td>tt0071853</td><td>8.2</td><td>100</td><td>15.461</td><td>7.811</td><td>List(fantasy, action, comedy)</td><td>List(GB)</td><td>action</td><td>GB</td></tr><tr><td>tm127384</td><td>Monty Python and the Holy Grail</td><td>MOVIE</td><td>\"King Arthur, accompanied by his squire, recruits his Knights of the Round Table, including Sir Bedevere the Wise, Sir Lancelot the Brave, Sir Robin the Not-Quite-So-Brave-As-Sir-Lancelot and Sir Galahad the Pure. On the way, Arthur battles the Black Knight who, despite having had all his limbs chopped off, insists he can still fight. They reach Camelot, but Arthur decides not  to enter, as \"\"it is a silly place\"\".\"</td><td>1975</td><td>PG</td><td>91</td><td>['fantasy', 'action', 'comedy']</td><td>['GB']</td><td>0</td><td>tt0071853</td><td>8.2</td><td>100</td><td>15.461</td><td>7.811</td><td>List(fantasy, action, comedy)</td><td>List(GB)</td><td>comedy</td><td>GB</td></tr><tr><td>tm120801</td><td>The Dirty Dozen</td><td>MOVIE</td><td>12 American military prisoners in World War II are ordered to infiltrate a well-guarded enemy château and kill the Nazi officers vacationing there. The soldiers, most of whom are facing death sentences for a variety of violent crimes, agree to the mission and the possible commuting of their sentences.</td><td>1967</td><td>TV-MA</td><td>150</td><td>['war', 'action']</td><td>['GB', 'US']</td><td>0</td><td>tt0061578</td><td>7.7</td><td>100</td><td>20.398</td><td>7.6</td><td>List(war, action)</td><td>List(GB, US)</td><td>war</td><td>GB</td></tr></tbody></table></div>"
      ]
     },
     "metadata": {
      "application/vnd.databricks.v1+output": {
       "addedWidgets": {},
       "aggData": [],
       "aggError": "",
       "aggOverflow": false,
       "aggSchema": [],
       "aggSeriesLimitReached": false,
       "aggType": "",
       "arguments": {},
       "columnCustomDisplayInfos": {},
       "data": [
        [
         "tm84618",
         "Taxi Driver",
         "MOVIE",
         "A mentally unstable Vietnam War veteran works as a night-time taxi driver in New York City where the perceived decadence and sleaze feed his urge for violent action.",
         1976,
         "R",
         114,
         "['drama', 'crime']",
         "['US']",
         0,
         "tt0075314",
         8.2,
         100,
         40.965,
         8.179,
         [
          "drama",
          "crime"
         ],
         [
          "US"
         ],
         "drama",
         "US"
        ],
        [
         "tm84618",
         "Taxi Driver",
         "MOVIE",
         "A mentally unstable Vietnam War veteran works as a night-time taxi driver in New York City where the perceived decadence and sleaze feed his urge for violent action.",
         1976,
         "R",
         114,
         "['drama', 'crime']",
         "['US']",
         0,
         "tt0075314",
         8.2,
         100,
         40.965,
         8.179,
         [
          "drama",
          "crime"
         ],
         [
          "US"
         ],
         "crime",
         "US"
        ],
        [
         "tm154986",
         "Deliverance",
         "MOVIE",
         "Intent on seeing the Cahulawassee River before it's turned into one huge lake, outdoor fanatic Lewis Medlock takes his friends on a river-rafting trip they'll never forget into the dangerous American back-country.",
         1972,
         "R",
         109,
         "['drama', 'action', 'thriller', 'european']",
         "['US']",
         0,
         "tt0068473",
         7.7,
         100,
         10.01,
         7.3,
         [
          "drama",
          "action",
          "thriller",
          "european"
         ],
         [
          "US"
         ],
         "drama",
         "US"
        ],
        [
         "tm154986",
         "Deliverance",
         "MOVIE",
         "Intent on seeing the Cahulawassee River before it's turned into one huge lake, outdoor fanatic Lewis Medlock takes his friends on a river-rafting trip they'll never forget into the dangerous American back-country.",
         1972,
         "R",
         109,
         "['drama', 'action', 'thriller', 'european']",
         "['US']",
         0,
         "tt0068473",
         7.7,
         100,
         10.01,
         7.3,
         [
          "drama",
          "action",
          "thriller",
          "european"
         ],
         [
          "US"
         ],
         "action",
         "US"
        ],
        [
         "tm154986",
         "Deliverance",
         "MOVIE",
         "Intent on seeing the Cahulawassee River before it's turned into one huge lake, outdoor fanatic Lewis Medlock takes his friends on a river-rafting trip they'll never forget into the dangerous American back-country.",
         1972,
         "R",
         109,
         "['drama', 'action', 'thriller', 'european']",
         "['US']",
         0,
         "tt0068473",
         7.7,
         100,
         10.01,
         7.3,
         [
          "drama",
          "action",
          "thriller",
          "european"
         ],
         [
          "US"
         ],
         "thriller",
         "US"
        ],
        [
         "tm154986",
         "Deliverance",
         "MOVIE",
         "Intent on seeing the Cahulawassee River before it's turned into one huge lake, outdoor fanatic Lewis Medlock takes his friends on a river-rafting trip they'll never forget into the dangerous American back-country.",
         1972,
         "R",
         109,
         "['drama', 'action', 'thriller', 'european']",
         "['US']",
         0,
         "tt0068473",
         7.7,
         100,
         10.01,
         7.3,
         [
          "drama",
          "action",
          "thriller",
          "european"
         ],
         [
          "US"
         ],
         "european",
         "US"
        ],
        [
         "tm127384",
         "Monty Python and the Holy Grail",
         "MOVIE",
         "\"King Arthur, accompanied by his squire, recruits his Knights of the Round Table, including Sir Bedevere the Wise, Sir Lancelot the Brave, Sir Robin the Not-Quite-So-Brave-As-Sir-Lancelot and Sir Galahad the Pure. On the way, Arthur battles the Black Knight who, despite having had all his limbs chopped off, insists he can still fight. They reach Camelot, but Arthur decides not  to enter, as \"\"it is a silly place\"\".\"",
         1975,
         "PG",
         91,
         "['fantasy', 'action', 'comedy']",
         "['GB']",
         0,
         "tt0071853",
         8.2,
         100,
         15.461,
         7.811,
         [
          "fantasy",
          "action",
          "comedy"
         ],
         [
          "GB"
         ],
         "fantasy",
         "GB"
        ],
        [
         "tm127384",
         "Monty Python and the Holy Grail",
         "MOVIE",
         "\"King Arthur, accompanied by his squire, recruits his Knights of the Round Table, including Sir Bedevere the Wise, Sir Lancelot the Brave, Sir Robin the Not-Quite-So-Brave-As-Sir-Lancelot and Sir Galahad the Pure. On the way, Arthur battles the Black Knight who, despite having had all his limbs chopped off, insists he can still fight. They reach Camelot, but Arthur decides not  to enter, as \"\"it is a silly place\"\".\"",
         1975,
         "PG",
         91,
         "['fantasy', 'action', 'comedy']",
         "['GB']",
         0,
         "tt0071853",
         8.2,
         100,
         15.461,
         7.811,
         [
          "fantasy",
          "action",
          "comedy"
         ],
         [
          "GB"
         ],
         "action",
         "GB"
        ],
        [
         "tm127384",
         "Monty Python and the Holy Grail",
         "MOVIE",
         "\"King Arthur, accompanied by his squire, recruits his Knights of the Round Table, including Sir Bedevere the Wise, Sir Lancelot the Brave, Sir Robin the Not-Quite-So-Brave-As-Sir-Lancelot and Sir Galahad the Pure. On the way, Arthur battles the Black Knight who, despite having had all his limbs chopped off, insists he can still fight. They reach Camelot, but Arthur decides not  to enter, as \"\"it is a silly place\"\".\"",
         1975,
         "PG",
         91,
         "['fantasy', 'action', 'comedy']",
         "['GB']",
         0,
         "tt0071853",
         8.2,
         100,
         15.461,
         7.811,
         [
          "fantasy",
          "action",
          "comedy"
         ],
         [
          "GB"
         ],
         "comedy",
         "GB"
        ],
        [
         "tm120801",
         "The Dirty Dozen",
         "MOVIE",
         "12 American military prisoners in World War II are ordered to infiltrate a well-guarded enemy château and kill the Nazi officers vacationing there. The soldiers, most of whom are facing death sentences for a variety of violent crimes, agree to the mission and the possible commuting of their sentences.",
         1967,
         "TV-MA",
         150,
         "['war', 'action']",
         "['GB', 'US']",
         0,
         "tt0061578",
         7.7,
         100,
         20.398,
         7.6,
         [
          "war",
          "action"
         ],
         [
          "GB",
          "US"
         ],
         "war",
         "GB"
        ]
       ],
       "datasetInfos": [],
       "dbfsResultPath": null,
       "isJsonSchema": true,
       "metadata": {},
       "overflow": false,
       "plotOptions": {
        "customPlotOptions": {},
        "displayType": "table",
        "pivotAggregation": null,
        "pivotColumns": null,
        "xColumns": null,
        "yColumns": null
       },
       "removedWidgets": [],
       "schema": [
        {
         "metadata": "{}",
         "name": "id",
         "type": "\"string\""
        },
        {
         "metadata": "{}",
         "name": "title",
         "type": "\"string\""
        },
        {
         "metadata": "{}",
         "name": "type",
         "type": "\"string\""
        },
        {
         "metadata": "{}",
         "name": "description",
         "type": "\"string\""
        },
        {
         "metadata": "{}",
         "name": "release_year",
         "type": "\"integer\""
        },
        {
         "metadata": "{}",
         "name": "age_certification",
         "type": "\"string\""
        },
        {
         "metadata": "{}",
         "name": "runtime",
         "type": "\"integer\""
        },
        {
         "metadata": "{}",
         "name": "genres",
         "type": "\"string\""
        },
        {
         "metadata": "{}",
         "name": "production_countries",
         "type": "\"string\""
        },
        {
         "metadata": "{}",
         "name": "seasons",
         "type": "\"integer\""
        },
        {
         "metadata": "{}",
         "name": "imdb_id",
         "type": "\"string\""
        },
        {
         "metadata": "{}",
         "name": "imdb_score",
         "type": "\"double\""
        },
        {
         "metadata": "{}",
         "name": "imdb_votes",
         "type": "\"integer\""
        },
        {
         "metadata": "{}",
         "name": "tmdb_popularity",
         "type": "\"double\""
        },
        {
         "metadata": "{}",
         "name": "tmdb_score",
         "type": "\"double\""
        },
        {
         "metadata": "{}",
         "name": "genres_array",
         "type": "{\"containsNull\":true,\"elementType\":\"string\",\"type\":\"array\"}"
        },
        {
         "metadata": "{}",
         "name": "countries_array",
         "type": "{\"containsNull\":true,\"elementType\":\"string\",\"type\":\"array\"}"
        },
        {
         "metadata": "{}",
         "name": "genre",
         "type": "\"string\""
        },
        {
         "metadata": "{}",
         "name": "country",
         "type": "\"string\""
        }
       ],
       "type": "table"
      }
     },
     "output_type": "display_data"
    }
   ],
   "source": [
    "exploded_df = titles_df.withColumn(\"genre\", explode(\"genres_array\")).withColumn(\"country\", explode(\"countries_array\"))\n",
    "display(exploded_df.limit(10))"
   ]
  },
  {
   "cell_type": "code",
   "execution_count": 0,
   "metadata": {
    "application/vnd.databricks.v1+cell": {
     "cellMetadata": {
      "byteLimit": 2048000,
      "rowLimit": 10000
     },
     "collapsed": true,
     "inputWidgets": {},
     "nuid": "0e957185-8c32-43be-9ecf-e4e083c567a2",
     "showTitle": false,
     "tableResultSettingsMap": {},
     "title": ""
    }
   },
   "outputs": [
    {
     "output_type": "stream",
     "name": "stdout",
     "output_type": "stream",
     "text": [
      "+-------------+------------------+\n|        genre|   avg(tmdb_score)|\n+-------------+------------------+\n|    animation| 7.293797938967137|\n|      reality| 7.183429691355684|\n|      history| 7.171325958979685|\n|       family| 7.169489345044626|\n|      fantasy|7.1154994483910174|\n|        scifi| 7.111733757976429|\n|documentation| 7.039824511008362|\n|        music| 7.034559849473412|\n|          war| 7.031749459423207|\n|        sport|  7.01549352642803|\n|        drama|  6.85058051914697|\n|       action|  6.81617335734635|\n|        crime| 6.811674200184313|\n|      western| 6.770095114275396|\n|      romance| 6.757829571354383|\n|       comedy| 6.728796571898445|\n|     thriller| 6.625630437516879|\n|     european| 6.577847267388113|\n|       horror|6.4787646111965955|\n+-------------+------------------+\n\n+-------------+------------------+\n|        genre|   avg(imdb_score)|\n+-------------+------------------+\n|      history| 7.129435483870959|\n|          war|              7.06|\n|documentation|6.9921301335584145|\n|    animation| 6.682624286592864|\n|        crime|6.6531044802184915|\n|        sport| 6.649101796407185|\n|        drama| 6.611887991535688|\n|      fantasy| 6.544186282125981|\n|     european| 6.535335464103389|\n|        scifi|6.5142857142857125|\n|      western|  6.50873761397533|\n|        music| 6.501100702009001|\n|       action| 6.411496283346083|\n|      reality| 6.399825791415809|\n|       comedy| 6.384941308333681|\n|      romance| 6.377163342375509|\n|     thriller| 6.358358298463364|\n|       family| 6.332122759086906|\n|       horror| 5.994065921260717|\n+-------------+------------------+\n\n"
     ]
    }
   ],
   "source": [
    "exploded_genres.groupBy(\"genre\").avg(\"tmdb_score\").orderBy(\"avg(tmdb_score)\", ascending=False).show()\n",
    "exploded_genres.groupBy(\"genre\").avg(\"imdb_score\").orderBy(\"avg(imdb_score)\", ascending=False).show()"
   ]
  },
  {
   "cell_type": "code",
   "execution_count": 0,
   "metadata": {
    "application/vnd.databricks.v1+cell": {
     "cellMetadata": {
      "byteLimit": 2048000,
      "rowLimit": 10000
     },
     "collapsed": true,
     "inputWidgets": {},
     "nuid": "2da4e7d0-e3a9-4888-954a-490461ed2509",
     "showTitle": false,
     "tableResultSettingsMap": {},
     "title": ""
    }
   },
   "outputs": [
    {
     "output_type": "stream",
     "name": "stdout",
     "output_type": "stream",
     "text": [
      "+-------+-----+\n|country|count|\n+-------+-----+\n|     US| 2090|\n|     IN|  586|\n|     GB|  364|\n|     JP|  231|\n|     FR|  229|\n|     ES|  195|\n|     KR|  194|\n|     CA|  188|\n|     DE|  127|\n|     MX|  115|\n|     BR|   97|\n|     CN|   91|\n|     TR|   80|\n|     AU|   79|\n|     PH|   78|\n|     IT|   76|\n|     NG|   63|\n|     AR|   62|\n|     ID|   58|\n|     TW|   52|\n+-------+-----+\nonly showing top 20 rows\n"
     ]
    }
   ],
   "source": [
    "exploded_countries.groupBy(\"country\").count().orderBy(\"count\", ascending = False).show()"
   ]
  },
  {
   "cell_type": "code",
   "execution_count": 0,
   "metadata": {
    "application/vnd.databricks.v1+cell": {
     "cellMetadata": {
      "byteLimit": 2048000,
      "rowLimit": 10000
     },
     "collapsed": true,
     "inputWidgets": {},
     "nuid": "e5df165e-17ae-404b-9b7c-21aac26f2b08",
     "showTitle": false,
     "tableResultSettingsMap": {},
     "title": ""
    }
   },
   "outputs": [
    {
     "output_type": "stream",
     "name": "stdout",
     "output_type": "stream",
     "text": [
      "+-------+-----------------+\n|country|  avg(imdb_score)|\n+-------+-----------------+\n|     IN|6.413829069496906|\n+-------+-----------------+\n\n+-------+------------------+\n|country|   avg(tmdb_score)|\n+-------+------------------+\n|     NP|               8.1|\n|     PK| 8.066666666666666|\n|     CD|               8.0|\n|     MW|               7.9|\n|     VE|               7.8|\n|     CU|               7.7|\n|     KR| 7.687186228712478|\n|     TZ| 7.656354728370221|\n|     HR|               7.6|\n|     BS|             7.518|\n|     BT|               7.4|\n|     KE| 7.370903152246814|\n|     JP| 7.327440856393772|\n|     VA|               7.3|\n|     KN|               7.3|\n|     TH|7.2937236485580135|\n|     CN| 7.266054945054947|\n|     RU| 7.246666666666668|\n|     SA|7.2125418913480885|\n|     PT| 7.159999999999999|\n+-------+------------------+\nonly showing top 20 rows\n"
     ]
    }
   ],
   "source": [
    "exploded_countries.groupBy(\"country\").avg(\"imdb_score\").where(col(\"country\") == \"IN\").show()\n",
    "exploded_countries.groupBy(\"country\").avg(\"tmdb_score\").orderBy(\"avg(tmdb_score)\", ascending=False).show()"
   ]
  },
  {
   "cell_type": "code",
   "execution_count": 0,
   "metadata": {
    "application/vnd.databricks.v1+cell": {
     "cellMetadata": {
      "byteLimit": 2048000,
      "rowLimit": 10000
     },
     "collapsed": true,
     "inputWidgets": {},
     "nuid": "185b4ad1-aa2a-45a4-b0a3-3da6dc450526",
     "showTitle": false,
     "tableResultSettingsMap": {},
     "title": ""
    }
   },
   "outputs": [
    {
     "output_type": "stream",
     "name": "stdout",
     "output_type": "stream",
     "text": [
      "+-------+------------------+\n|country|  total_popularity|\n+-------+------------------+\n|     US| 61234.76319321513|\n|     GB|          8626.368|\n|     JP| 8389.846149151883|\n|     KR| 6665.676149151882|\n|     ES| 6277.817447455646|\n|     FR| 4755.061999999997|\n|     CA| 4127.265000000001|\n|     IN| 3491.780491518816|\n|     MX|3239.3559999999998|\n|     TW|2635.3420000000006|\n|     DE|          2563.323|\n|     CO|2466.1701491518816|\n|     AU|2078.8680000000004|\n|     ZA|2058.8361491518813|\n|     CN|1956.4939999999997|\n|     IT|1908.2029999999995|\n|     PL|1625.4199999999996|\n|     BE|1302.1670000000001|\n|     AR|1111.5859999999998|\n|     BR|1110.1291491518814|\n+-------+------------------+\nonly showing top 20 rows\n"
     ]
    }
   ],
   "source": [
    "from pyspark.sql.functions import sum\n",
    "exploded_countries.groupBy(\"country\").agg(sum(col(\"tmdb_popularity\").cast(\"double\")).alias(\"total_popularity\")).orderBy(\"total_popularity\", ascending=False).show()"
   ]
  },
  {
   "cell_type": "code",
   "execution_count": 0,
   "metadata": {
    "application/vnd.databricks.v1+cell": {
     "cellMetadata": {
      "byteLimit": 2048000,
      "rowLimit": 10000
     },
     "collapsed": true,
     "inputWidgets": {},
     "nuid": "b9a2b1b6-115c-4025-8cc8-095cb6182fb9",
     "showTitle": true,
     "tableResultSettingsMap": {},
     "title": "Average Runtime by Country Sorted in Descending Order"
    }
   },
   "outputs": [
    {
     "output_type": "stream",
     "name": "stdout",
     "output_type": "stream",
     "text": [
      "+-------+-----------------+\n|country|     avg(runtime)|\n+-------+-----------------+\n|     SU|            154.0|\n|     BS|            144.0|\n|     MT|            142.5|\n|     NP|            138.0|\n|     KG|            128.0|\n|     IN|125.6433447098976|\n|     DZ|            124.0|\n|     GR|            124.0|\n|     BF|            124.0|\n|     PK|            123.0|\n|     LT|            118.5|\n|     CM|            118.0|\n|     ZW|            116.0|\n|     HU|            116.0|\n|     GH|           114.25|\n|     IQ|            113.0|\n|     MW|            113.0|\n|     CU|            113.0|\n|Lebanon|            112.0|\n|     AL|            111.0|\n+-------+-----------------+\nonly showing top 20 rows\n"
     ]
    }
   ],
   "source": [
    "exploded_countries.groupBy(\"country\").avg(\"runtime\").orderBy(\"avg(runtime)\", ascending=False).show()"
   ]
  },
  {
   "cell_type": "code",
   "execution_count": 0,
   "metadata": {
    "application/vnd.databricks.v1+cell": {
     "cellMetadata": {
      "byteLimit": 2048000,
      "rowLimit": 10000
     },
     "collapsed": true,
     "inputWidgets": {},
     "nuid": "e83e45b9-141b-49c9-807b-570431efa6de",
     "showTitle": false,
     "tableResultSettingsMap": {},
     "title": ""
    }
   },
   "outputs": [
    {
     "output_type": "stream",
     "name": "stdout",
     "output_type": "stream",
     "text": [
      "2025-07-04 18-58-11\n06-PM-58-11\n185\nJuly-04-2025\nIST\nToday is: Friday , Today is: July\n"
     ]
    }
   ],
   "source": [
    "from datetime import datetime\n",
    "from zoneinfo import ZoneInfo\n",
    "now = datetime.now(ZoneInfo(\"Asia/Kolkata\"))\n",
    "print(now.strftime(\"%Y-%m-%d %H-%M-%S\"))\n",
    "print(now.strftime(\"%I-%p-%M-%S\"))\n",
    "print(now.strftime(\"%j\"))\n",
    "print(now.strftime(\"%B-%d-%Y\"))\n",
    "print(now.strftime(\"%Z\"))\n",
    "\n",
    "today = datetime.today()\n",
    "print(f\"Today is:\", today.strftime(\"%A\"),\",\", \"Today is:\", today.strftime(\"%B\"))"
   ]
  },
  {
   "cell_type": "code",
   "execution_count": 0,
   "metadata": {
    "application/vnd.databricks.v1+cell": {
     "cellMetadata": {
      "byteLimit": 2048000,
      "rowLimit": 10000
     },
     "inputWidgets": {},
     "nuid": "af2ce25f-2bfb-468f-aa0c-590daa3e9451",
     "showTitle": true,
     "tableResultSettingsMap": {},
     "title": "Movie Genres Ranked by Average Normalized Score"
    }
   },
   "outputs": [
    {
     "output_type": "stream",
     "name": "stdout",
     "output_type": "stream",
     "text": [
      "+-------------+-----+--------------------+\n|        genre|count|avg_normalized_score|\n+-------------+-----+--------------------+\n|    animation|  600|   1.061730606618677|\n|       family|  624|  1.0437442727671633|\n|      reality|  212|  1.0410284718902578|\n|      history|  248|  1.0408630150696698|\n|      fantasy|  588|   1.035859828294048|\n|        scifi|  525|  1.0340934113166695|\n|          war|  150|  1.0246572235100562|\n|documentation|  832|  1.0238872313925538|\n|        music|  239|  1.0226656799992777|\n|        sport|  167|  1.0202944994908683|\n|        drama| 2742|  0.9973465083068569|\n|       action| 1058|  0.9933045893407961|\n|        crime|  893|   0.992257369941982|\n|      western|   39|  0.9858902088645044|\n|      romance|  922|   0.984407573694766|\n|       comedy| 2124|  0.9799020623976237|\n|     thriller| 1155|  0.9650671475396626|\n|     european|  407|  0.9632572395194806|\n|       horror|  357|  0.9430239241182721|\n+-------------+-----+--------------------+\n\n"
     ]
    }
   ],
   "source": [
    "from pyspark.sql.functions import col, avg, count, desc\n",
    "from pyspark.sql.window import Window\n",
    "exploded_genres = exploded_genres.withColumn(\"Normalized_Score\", col(\"tmdb_score\")/avg(\"tmdb_score\").over(Window.partitionBy(\"release_year\")))\n",
    "genre_ranking = exploded_genres.groupBy(\"genre\").agg(count(\"*\").alias(\"count\"), avg(\"Normalized_score\").alias(\"avg_normalized_score\")).orderBy(desc(\"avg_normalized_score\"))\n",
    "genre_ranking.show()"
   ]
  },
  {
   "cell_type": "code",
   "execution_count": 0,
   "metadata": {
    "application/vnd.databricks.v1+cell": {
     "cellMetadata": {
      "byteLimit": 2048000,
      "rowLimit": 10000
     },
     "inputWidgets": {},
     "nuid": "3be32b06-ebfe-40a8-9428-1f786d924f6c",
     "showTitle": false,
     "tableResultSettingsMap": {},
     "title": ""
    }
   },
   "outputs": [
    {
     "output_type": "stream",
     "name": "stdout",
     "output_type": "stream",
     "text": [
      "5222 77801\n"
     ]
    }
   ],
   "source": [
    "print(titles_df.count(),credits_df.count())"
   ]
  },
  {
   "cell_type": "code",
   "execution_count": 0,
   "metadata": {
    "application/vnd.databricks.v1+cell": {
     "cellMetadata": {
      "byteLimit": 2048000,
      "rowLimit": 10000
     },
     "inputWidgets": {},
     "nuid": "f5776a0b-9c95-44d0-8452-f57a507ee6b3",
     "showTitle": true,
     "tableResultSettingsMap": {},
     "title": "Top Actors by TMDB Score"
    }
   },
   "outputs": [
    {
     "output_type": "stream",
     "name": "stdout",
     "output_type": "stream",
     "text": [
      "+-------------------+-----------+-----------------+\n|               name|appearances|   avg_tmdb_score|\n+-------------------+-----------+-----------------+\n|       Jeon Bae-soo|          6|8.241999999999999|\n|      Kim Sun-young|          7|8.172714285714285|\n|       Ahn Nae-sang|          8|           8.1625|\n|       Lee Jung-eun|          9|8.158999999999999|\n|       Megumi Ogata|          6|8.149166666666666|\n|   Miyuki Sawashiro|          7|8.145999999999999|\n|        Kim Hye-eun|          6|            8.136|\n|      Kim Mi-kyeong|         11|8.107818181818182|\n|      Lee Joon-hyuk|          6|8.102333333333332|\n|    Takehito Koyasu|          9|8.100000000000001|\n|     Jang Hyun-sung|          6|8.012166666666667|\n|       Jun Fukuyama|         11|8.008727272727272|\n|Yoshitsugu Matsuoka|          6|8.003666666666666|\n| Nobunaga Shimazaki|          6|7.991499999999999|\n|   Tatsuhisa Suzuki|          6|7.971999999999999|\n|     You Chea-myung|          6|7.964499999999998|\n|         Kensho Ono|          9|7.961999999999999|\n|           Aoi Yuki|          7|7.958857142857143|\n|   Yoshimasa Hosoya|          8|7.949999999999999|\n|        Kim Won-hae|          8|           7.9375|\n+-------------------+-----------+-----------------+\nonly showing top 20 rows\n"
     ]
    }
   ],
   "source": [
    "from pyspark.sql.functions import broadcast\n",
    "bjoin_df = credits_df.join(broadcast(titles_df), on=\"id\", how=\"inner\")\n",
    "actors_df = bjoin_df.filter(col(\"role\") == \"ACTOR\")\n",
    "\n",
    "actors_df.groupBy(\"name\").agg(count(\"*\").alias(\"appearances\"), avg(\"tmdb_score\").alias(\"avg_tmdb_score\")).filter(col(\"appearances\") > 5).orderBy(desc(\"avg_tmdb_score\")).show()"
   ]
  },
  {
   "cell_type": "code",
   "execution_count": 0,
   "metadata": {
    "application/vnd.databricks.v1+cell": {
     "cellMetadata": {
      "byteLimit": 2048000,
      "rowLimit": 10000
     },
     "inputWidgets": {},
     "nuid": "0bd1af1d-cf37-4a1c-83f8-a986f5968760",
     "showTitle": true,
     "tableResultSettingsMap": {},
     "title": "Top Indian Actors by tmdb score"
    }
   },
   "outputs": [
    {
     "output_type": "stream",
     "name": "stdout",
     "output_type": "stream",
     "text": [
      "+--------------------+-----------+------------------+\n|                name|appearances|    avg_tmdb_score|\n+--------------------+-----------+------------------+\n|          Aamir Khan|         16|             7.057|\n| Nawazuddin Siddiqui|         19| 6.984210526315789|\n|      Shah Rukh Khan|         22| 6.710045454545456|\n|Priyanka Chopra J...|         17| 6.651529411764705|\n|    Amitabh Bachchan|         20| 6.621049999999999|\n|    Naseeruddin Shah|         16| 6.549999999999999|\n|        Rani Mukerji|         16|         6.5200625|\n|              Nassar|         17| 6.494117647058823|\n|       Murali Sharma|         16|6.4430000000000005|\n|         Anupam Kher|         18| 6.371166666666665|\n|             Om Puri|         18|  6.30626163648558|\n|        Paresh Rawal|         20|              6.22|\n|         Boman Irani|         24| 6.208333333333333|\n| Kareena Kapoor Khan|         24| 6.175874999999999|\n|          Ajay Devgn|         18| 6.144444444444444|\n+--------------------+-----------+------------------+\n\n"
     ]
    }
   ],
   "source": [
    "from pyspark.sql.functions import broadcast\n",
    "bjoin_df = credits_df.join(broadcast(exploded_countries), on=\"id\", how=\"inner\")\n",
    "actors_df = bjoin_df.filter((col(\"role\") == \"ACTOR\") & (col(\"country\") == \"IN\"))\n",
    "\n",
    "actors_df.groupBy(\"name\").agg(count(\"*\").alias(\"appearances\"), avg(\"tmdb_score\").alias(\"avg_tmdb_score\")).filter(col(\"appearances\") > 15).orderBy(desc(\"avg_tmdb_score\")).show()"
   ]
  },
  {
   "cell_type": "code",
   "execution_count": 0,
   "metadata": {
    "application/vnd.databricks.v1+cell": {
     "cellMetadata": {
      "byteLimit": 2048000,
      "rowLimit": 10000
     },
     "inputWidgets": {},
     "nuid": "5c9ddd57-7b71-4e4e-a2ed-2c62035ab785",
     "showTitle": true,
     "tableResultSettingsMap": {},
     "title": "Common Genre-Country Pair"
    }
   },
   "outputs": [
    {
     "output_type": "stream",
     "name": "stdout",
     "output_type": "stream",
     "text": [
      "+-------------+-------+-----+\n|        genre|country|count|\n+-------------+-------+-----+\n|       comedy|     US|  879|\n|        drama|     US|  851|\n|documentation|     US|  499|\n|        drama|     IN|  450|\n|     thriller|     US|  422|\n|       action|     US|  412|\n|       family|     US|  325|\n|        crime|     US|  320|\n|        scifi|     US|  255|\n|    animation|     US|  254|\n|       comedy|     IN|  251|\n|      fantasy|     US|  249|\n|      romance|     US|  226|\n|      romance|     IN|  195|\n|     thriller|     IN|  177|\n|       horror|     US|  173|\n|       action|     IN|  162|\n|        drama|     GB|  161|\n|        drama|     KR|  149|\n|        drama|     JP|  145|\n+-------------+-------+-----+\nonly showing top 20 rows\n"
     ]
    }
   ],
   "source": [
    "exploded_df.groupBy(\"genre\",\"country\").count().orderBy(desc(\"count\")).show()"
   ]
  },
  {
   "cell_type": "code",
   "execution_count": 0,
   "metadata": {
    "application/vnd.databricks.v1+cell": {
     "cellMetadata": {
      "byteLimit": 2048000,
      "rowLimit": 10000
     },
     "inputWidgets": {},
     "nuid": "4de0125c-2605-4425-8aeb-28f68720873c",
     "showTitle": true,
     "tableResultSettingsMap": {},
     "title": "Top 3 Titles per release year"
    }
   },
   "outputs": [
    {
     "output_type": "stream",
     "name": "stdout",
     "output_type": "stream",
     "text": [
      "+------------+--------------------+-----------------+\n|release_year|               title|       tmdb_score|\n+------------+--------------------+-----------------+\n|          13| the two series h...|6.812709456740442|\n|          15| the exotic creat...|6.812709456740442|\n|          24| they feel like t...|6.812709456740442|\n|          25| Histoire et Hôpi...|6.812709456740442|\n|          27| or will it be ga...|6.812709456740442|\n|          43| the raven-haired...|6.812709456740442|\n|          46| and cable TV SET...|6.812709456740442|\n|          48| but can't get th...|6.812709456740442|\n|          51| but one of the s...|6.812709456740442|\n|          59| technology has t...|6.812709456740442|\n|          64| South Korea. The...|6.812709456740442|\n|          69| Heo Im travels t...|6.812709456740442|\n|        1954|     White Christmas|              7.2|\n|        1954|     The Blazing Sun|              7.0|\n|        1956|         Dark Waters|              5.9|\n|        1958|       Cairo Station|              7.3|\n|        1959|               Ujala|              6.0|\n|        1960|           Singapore|              6.3|\n|        1961|The Guns of Navarone|              7.3|\n|        1963|Saladin the Victo...|              7.1|\n+------------+--------------------+-----------------+\nonly showing top 20 rows\n"
     ]
    }
   ],
   "source": [
    "from pyspark.sql.functions import row_number\n",
    "w = Window.partitionBy(\"release_year\").orderBy(desc(\"tmdb_score\"))\n",
    "top_titles = titles_df.withColumn(\"rank\", row_number().over(w)).filter(\"rank < 3\")\n",
    "top_titles.select(\"release_year\", \"title\", \"tmdb_score\").orderBy(\"release_year\", \"rank\").show()"
   ]
  },
  {
   "cell_type": "code",
   "execution_count": 0,
   "metadata": {
    "application/vnd.databricks.v1+cell": {
     "cellMetadata": {
      "byteLimit": 2048000,
      "rowLimit": 10000
     },
     "inputWidgets": {},
     "nuid": "73804dfe-00e4-4806-803c-bdaeff7f638c",
     "showTitle": true,
     "tableResultSettingsMap": {},
     "title": "Join Titles and Credits DataFrames on ID Column"
    }
   },
   "outputs": [],
   "source": [
    "\n",
    "joined_df = titles_df.join(credits_df, on=\"id\", how=\"inner\")"
   ]
  },
  {
   "cell_type": "code",
   "execution_count": 0,
   "metadata": {
    "application/vnd.databricks.v1+cell": {
     "cellMetadata": {
      "byteLimit": 2048000,
      "rowLimit": 10000
     },
     "inputWidgets": {},
     "nuid": "04e1228d-a053-4da4-9857-89529d8e2bd3",
     "showTitle": false,
     "tableResultSettingsMap": {},
     "title": ""
    }
   },
   "outputs": [
    {
     "output_type": "stream",
     "name": "stdout",
     "output_type": "stream",
     "text": [
      "+--------+-----------------------------------------------------------------------------------------------------------------------------------------------------------------------------------------------------------------------------------------------------------------------------------------------------------------------------------------------------------------------------------------------------------------------------------------------------------------------------------------------------------------------------------------------------------------------------------------------------------------------------------------------------------------------------------------------------------------------------------------------------------------------------------------------------------------------------------------------------------------------------------------------------------------------------------------------------------------------------------------------------------------------------------------------------------------------------------------------------------------------------------------------------------------------------------------------------------------------------------------------------------------------------------------------------------------------------------------------------------------------------------------------------------------------------------------------------------------------------------------------------------------------------------------------------------------------------------------------------------------------------------------------------------------------------------------------------------------------------------------------------------------------------------------------------------------------------------------------------------------------------------------------------------------------------------------------------------------------------------------------------------------------------------------------------------------------------------------------------------------------------------------------------------------------------------------------------------------------------------------------------------------------------------------------------------------------------------------------------------------------------------------------------------------------------------------------------------------------------------------------------------------------------------------------------------------------------------------------------------------------------------------------------------------------------------------------------------------------------------------------------------------------------------------------------------------------------------------------------------------------------------------------------------------------------------------------------------------------------------------------------------------------------------------------------------------------------------------------------------------------------------------------------------------------------------------------------------------------------------------------------------------------------+----------+\n|id      |actors                                                                                                                                                                                                                                                                                                                                                                                                                                                                                                                                                                                                                                                                                                                                                                                                                                                                                                                                                                                                                                                                                                                                                                                                                                                                                                                                                                                                                                                                                                                                                                                                                                                                                                                                                                                                                                                                                                                                                                                                                                                                                                                                                                                                                                                                                                                                                                                                                                                                                                                                                                                                                                                                                                                                                                                                                                                                                                                                                                                                                                                                                                                                                                                                                                                                       |pair_count|\n+--------+-----------------------------------------------------------------------------------------------------------------------------------------------------------------------------------------------------------------------------------------------------------------------------------------------------------------------------------------------------------------------------------------------------------------------------------------------------------------------------------------------------------------------------------------------------------------------------------------------------------------------------------------------------------------------------------------------------------------------------------------------------------------------------------------------------------------------------------------------------------------------------------------------------------------------------------------------------------------------------------------------------------------------------------------------------------------------------------------------------------------------------------------------------------------------------------------------------------------------------------------------------------------------------------------------------------------------------------------------------------------------------------------------------------------------------------------------------------------------------------------------------------------------------------------------------------------------------------------------------------------------------------------------------------------------------------------------------------------------------------------------------------------------------------------------------------------------------------------------------------------------------------------------------------------------------------------------------------------------------------------------------------------------------------------------------------------------------------------------------------------------------------------------------------------------------------------------------------------------------------------------------------------------------------------------------------------------------------------------------------------------------------------------------------------------------------------------------------------------------------------------------------------------------------------------------------------------------------------------------------------------------------------------------------------------------------------------------------------------------------------------------------------------------------------------------------------------------------------------------------------------------------------------------------------------------------------------------------------------------------------------------------------------------------------------------------------------------------------------------------------------------------------------------------------------------------------------------------------------------------------------------------------------------+----------+\n|tm32982 |[Hugh Jackman, Russell Crowe, Anne Hathaway, Amanda Seyfried, Sacha Baron Cohen, Helena Bonham Carter, Eddie Redmayne, Aaron Tveit, Samantha Barks, Daniel Huttlestone, Cavin Cornwall, Josef Altin, David Hawley, Adam Jones, John Barr, Tony Rohr, Richard Dixon, Andy Beckwith, Stephen Bent, Colm Wilkinson, Georgie Glen, Heather Chasen, Paul Thornley, Paul Howell, Stephen Tate, Michael Jibson, Kate Fleetwood, Hannah Waddingham, Clare Foster, Kirsty Hoiles, Jenna Boyd, Alice Fearn, Alison Tennant, Marilyn Cutts, Cathy Breeze, John Albasiny, Bertie Carvel, Tim Downie, Andrew Havill, Dick Ward, Nicola Sloane, Daniel Evans, David Stoller, Ross McCormack, Jaygann Ayeh, Adrian Scarborough, Frances Ruffelle, Lynne Wilmot, Charlotte Spencer, Julia Worsley, Keith Dunphy, Ashley Artus, John Surman, David Cann, James Simmons, Polly Kemp, Ian Pirie, Adam Pearce, Julian Bleach, Marc Pickering, Isabelle Allen, Natalya Wallace, Phil Snowden, Hadrian Delacey, Lottie Steer, Sam Parks, Mark Donovan, Lewis Kirk, Leighton Rafferty, Peter Mair, Jack Chissick, Dianne Pilkington, Robyn North, Norma Atallah, Patrick Godfrey, Mark Roper, Paul Leonard, Miles Roughley, Cameron Strefford, Alfie Davis, Joseph West, Joel Phillimore, Jacqueline Dankworth, Amelia Jefford, Chris Barnes, Richard Cordery, Killian Donnelly, Fra Fee, Gabriel Vick, George Blagden, Hugh Skinner, Stuart Neal, Alistair Brammer, Iwan Lewis, Katy Secombe, Hadley Fraser, Linzi Hateley, Gemma Wardle, Gina Beck, Katie Hall, Lisa Hull, Andrea Deck, Jessica Duncan, Kerry Ingram, John Warnaby, Mike Sarne, Freya Parks, Richard Bremmer, Alexander Brooks, Eleanor Bruce, Emma Dukes, Stephen Matthews, Peter Saracen, Sebastian Sykes, Phil Zimmerman, Bessie Carter, Helen Cotterill, Tricia Deighton, Mandy Holliday, Charlotte Hope, Jackie Marks, Sara Pelosi, Mary Roscoe, Amelia Scaramucci, Caroline Sheen, Rachael Archer, Lorna Brown, Antonia Clarke, Mary Cormack, Sonya Cullingford, Holly Dale Spencer, Amy Griffiths, Fania Grigoriou, Amanda Henderson, Alexia Khadime, Luisa Lazzaro, Gemma O'Duffy, Amy Ellen Richardson, Olivia Rose-Aaron, Robyn Miranda Simpson, Rachel Stanley, Nancy Sullivan, Rebecca Sutherland, Tabitha Webb, Gerard Bentall, Tony Bignell, Michael Cahill, Richard Colson, Kerry Ellis, Simon Fisher-Becker, Sarah Flind, Kelly-Anne Gower, James Greene, Nick Holder, Chris Howell, Alison Jiear, Terence Keely, Martin Marquez, Sally Mates, Jeff Nicholson, Adam Searles, Simon Shorten, Juliet Alderice, Sean Buckley, Valerie Cutko, Spike Grimsey, Matt Harrop, Georgina Jackson, Perry Millward, Phil Philmar, Joyce Springer, Julie Stark, Dominic Applewhite, Matthew Corner, Andy Coxon, Jonathan Dudley, Rhidian Marc, Chris Milford, Jamie Muscato, Joseph Peters, David Roberts, Stevee Davies, Jonny Purchase, Matt Seadon Young, Jos Slovick, Samuel J. Weir, Sophie Huchinson, Ella Hunt, Claire Machin, Brenda Moore, Mischa Purnell, Annette Yeo, Josephine Darvill-Mills, Jennifer Essex, Vicky Evans, Edward Lewis French, Nigel Garton, Lynn Jezzard, Nicholas Keegan, Steve Kirkham, Vanessa Lee Hicks, Ian Parsons, Gemma Payne, Clinten Pearce, Claire Piquemal, Aaron Sillis, Ian Waller]|207       |\n|tm244149|[Robert De Niro, Al Pacino, Joe Pesci, Stephen Graham, Ray Romano, Harvey Keitel, Bobby Cannavale, Anna Paquin, Stephanie Kurtzuba, Kathrine Narducci, Welker White, Jesse Plemons, Jack Huston, Domenick Lombardozzi, Paul Herman, Louis Cancelmi, Gary Basaraba, Marin Ireland, Sebastian Maniscalco, Steven Van Zandt, Lucy Gallina, Jonathan Morris, Dascha Polanco, Bo Dietl, Aleksa Palladino, Daniel H. Jenkins, Jim Norton, Billy Smith, Kevin O'Rourke, Action Bronson, Glenn Cunningham, Paul Ben-Victor, Patrick Gallo, James Martin, Jake Hoffman, Barry Primus, Danny A. Abeckaser, Anthony J. Gallo, J. C. MacKenzie, Joseph Bono, Jamil Antonio Stefan, Louis Vanaria, Craig Vincent, John Polce, Joseph Riccobene, Vinny Vella, Thomas E. Sullivan, John Cenatiempo, Robert Mladinich, Rich Reilly, Robert Funaro, Tess Price, Jennifer Mudge, India Ennenga, Jordyn DiNatale, Kate Arrington, Bernie Martin, Philip Suriano, Tony Suriano, Jason A. Iannacone, Michael C. Brennan, James P. Harkins, Al Linea, Garry Pastore, Frank Pietrangolare, Frank Aquilino, Johnny T. Sollitto, Patrick Murney, Samantha Soule, Richard V. Licata, Vito Picone, Larry Mazza, Craig DiFrancia, Ira Drukier, Jon Bruno, Paul Borghese, Steven Maglio, James Licata, Veronica Alicino, Mike Massimino, James Ciccone, Ron Castellano, Marco Greco, Meghan Rafferty, Aldo Sergi, James Lorinz, Jeffrey Paul, Robert C. Kirk, Vince Maritato, Lawrence Smith, Rebecca Faulkenberry, Ken Wulf Clark, John Rue, Steve Routman, Fernando Vera, Peter Claymore, Charles DelGatto, Michael Gongora, Eugene Bunge, Matthew F. O'Connor, Cliff Moylan, Vincenzo DelRiccio, Steve Beauchamp, Alfred Sauchelli Jr., Joe Giorgio, Diana Agostini, Lauren Aparicio, Kelley Rae O'Donnell, John Garrett Greer, Jack Caruso, John Scurti, Thomas J. Jenkins, Steve Witting, Luke Smith, Brent Langdon, James D. Forsha, Giacomino J. Matra, Paul Pearlman, Cilda Shaur, Dominick LaRuffa Jr., Erick Zamora, Lou Martini Jr., Michael Bottari, John Bianco, Margaret Anne Florence, Siena Marino, Lori Arkin, Nicholas Chrysan, Samantha Coppola, Logan Crawford, Jeff DeHart, Mark Fairchild, Blaise Corrigan, Jill Brown, Tim Neff, Matt Walton, Peter J. Fernandez, Stephen Mailer, Gino Cafarelli, Robin Kerbis, Lucia Giannetta, Michael Romeo Ruocco, Anne Horak, Nina Lafarga, Clark Carmichael, Joseph Russo, Jeremy Luke, Barbara Eyland, Tracy J. Everitt, Saint Marino, Mario Corry, Johnny Potenza, Joe Passaro, Patrick Borriello, Alfred Nittoli, David Aaron Baker, Stanley Burns, Bill Timoney, Thomas J. McDonald, Ernest L. Sanders Jr., Bill McHugh, Kevin Kane, Amelia Brain, Craig 'Radioman' Castaldo, Jacqueline Kennedy, John F. Kennedy, Fidel Castro, Michael Iacono, Dean Ciallella, Vanessa Mitchell, Tommy Bayiokos, Michael Cullum, Rick Bolander]                                                                                                                                                                                                                                                                                                                                                                                                        |173       |\n|tm39888 |[Christian Bale, Michael Caine, Gary Oldman, Anne Hathaway, Tom Hardy, Marion Cotillard, Joseph Gordon-Levitt, Morgan Freeman, Matthew Modine, Juno Temple, Ben Mendelsohn, Burn Gorman, Daniel Sunjata, Cillian Murphy, Alon Aboutboul, Liam Neeson, Nestor Carbonell, Josh Stewart, Aidan Gillen, Tom Conti, Joey King, Josh Pence, John Nolan, Warren Brown, Sam Kennard, Aliash Tepina, Nick Julian, Miranda Nolan, Claire Julien, Brett Cullen, Reggie Lee, Joseph Lyle Taylor, Chris Ellis, Duane Henry, James Harvey Ward, Gonzalo Menendez, Cameron Jack, Lex Daniel, Tyler Dean Flores, Thomas Lennon, Trevor White, Rob Brown, Daina Griffith, Fredric Lehne, Courtney Munch, Chris Hill, Travis Guba, Jay Benedict, Will Estes, David Dayan Fisher, Glen Powell, Russ Fega, Andres Perez-Molina, Brent Briscoe, Oliver Cotton, Mark Killeen, Sarah Goldberg, John Macmillan, Robert Wisdom, Ronnie Gene Blevins, John Hollingworth, Ian Bohen, Uri Gavriel, Noel Gugliemi, Hector Atreyu Ruiz, Patrick Cox, Aramis Knight, William Devane, David Gyasi, Patrick Jordan, Joshua Elijah Reese, Desmond Harrington, Mychael Bates, Tomas Arana, Peter Holden, David Monahan, Jillian Armenante, Aja Evans, Aldous Davidson, Wade Williams, Jake Canuso, Julie Mun, Rory Nolan, Massi Furlan, Todd Gearhart, Christopher Judge, Patrick Leahy, Kevin Kiely Jnr, Daniel Newman, Marc Abbink, Isiah Adams, Charlie Alejandro, Robert Arensen, Grant Babbitt, Fileena Bahris, Rick Bolander, Kyle Patrick Brennan, Scott Churchson, Bill Cowher, Graham Curry, Aaron Eckhart, Stephanie Domini Ehlert, John Farrer, Frank Fata, Christopher Bryan Gomez, Vito Grassi, Michael Wren Gucciardo, Ed Heavey, John W. Iwanonkiw, Cindy Jackson, Daniel Jordano, Tiffany Kemp, Sun Jae Kim, Hrvoje Klecz, Alex Kruz, Tyler La Marr, LeJon, Paul Jude Letersky, Joe Lipari, Silvia Lombardo, Jorge Mardel, Cale McConnell, David Dale McCue, Michael Papajohn, Salomon Passariello, Tiffany Sander McKenzie, Allen Merritt, Olan Montgomery, Alex Moore, Shane Nolan, Kyle David Pierce, Troy Polamalu, Michael Power, James Rawlings, Kirsten Roeters, Ben Roethlisberger, Mark Roman, Eric Salazar, Emily Schooley, Thomas Tull, Chris Vaina, Barbara Vincent, Justin Michael Woods, Jason Yee, John Zion, Alex Ziwak, Tommy Bayiokos, Matthew Gooley, Jeff Moffitt, Diogo Hausen, Gary Sievers, Orion McCabe, London May, James Quinn, Joe Fishel, Ming Wang, Simon Rhee, Hines Ward, Heath Miller, Collin Taylor]                                                                                                                                                                                                                                                                                                                                                                                                                                                                                                                                                                                                                                                                                                                                                           |160       |\n|tm158304|[Marion Cotillard, Matt Damon, Laurence Fishburne, Jude Law, Kate Winslet, Jennifer Ehle, Gwyneth Paltrow, Bryan Cranston, Elliott Gould, Chin Han, John Hawkes, Anna Jacoby-Heron, Sanaa Lathan, Demetri Martin, Armin Rohde, Enrico Colantoni, Larry Clarke, Monique Gabriela Curnen, Daria Strokous, Rick Uecker, Jamie Newell, Griffin Kane, Rebecca Spence, Yoshiaki Kobayashi, Teri McEvoy, Sue Redman, Teri Campbell, Stef Tovar, Mary Jo Faraci, Grace Rex, Joseph Anthony Foronda, Annabel Armour, Jim Ortlieb, Kara Zediker, Laura Fisher, Mary Beth Dolan, Dan Flannery, Jason Babinsky, Howie Johnson, Sanjay Gupta, Chui Tien-You, Josie Ho, Steven Soderbergh, Phillip James Brannon, David Lively, Andrew White, Ira Blumen, Scott Stangland, Jimmy Chung, Tara Mallen, John Hines, Mark Czoske, Hee-Wan Kwon, Phil Tang, Robert Chi, Blair Robertson, Randy Lowell, Pete Sack, Brian J. O'Donnell, Kwok-Wah Wong, Sau-Ming Tsang, Josh Pollock, Peter A Kelly, Thomas Gebbia, Dan Sanders-Joyce, Joshua Seiden, Kam Tong Wong, Jim Anderson, Bambadjan Bamba, Rodolfo C Barrios, Raphael Baunaquis, Ahmed Boulane, Liz Clare, Rashida Clendening, David Cohen, James Anthony Cotton, Duke Czlonka, Andrew Dasz, Joe DeBartolo, Eduardo Ambriz DeColosio, Amanda Dyar, Ryan Ebert, Shannon Edwards, Anas El Baz, Olivia Francessca, Logan Fry, Alex Hill 3, John Hoogenakker, Matt Iwinski, Sarah Kliban, Iris Kohl, Suzanne Lang, Elester Latham, Mark Lavell, Ina Lereine, Seth Leslie, John Lobato, Mino Mackic, Carl Marino, Mary Lu Marr, James Mastel, Timothy W. Mather, Dave McNulty, E. Roger Mitchell, Paul D. Morgan, Jesse Muick, Larry Nazimek, Matthew Parry-Jones, Eric Pierson, Steven Potts, Steven James Price, Kyle Quesnoy, Brandi Quinn, Kenya Robertson, Joshua Rollins, Sandy Rouge, Helen Sadler, Peggy Sandow, Jane Santos, Hester Schell, Jon Komp Shin, Walt Sloan, Gregory Marshall Smith, Ylian Alfaro Snyder, Joshua Squire, January Stern, Michael T Stewart, Thomas W. Stewart, Audra Todd, Giota Trakas, Ken Venzke, Abby Wait, Amr Waked, James D. Weston II, Roger Wiggins, Robert A. Young, Bobby Watson]                                                                                                                                                                                                                                                                                                                                                                                                                                                                                                                                                                                                                                                                                                                                                                                                                                                                                                                                                                                                                                                                                                                 |137       |\n|tm467467|[Beyoncé, Jay-Z, Kelly Rowland, Solange, Blue Ivy Carter, Michelle Williams, Tina Lawson, Chloe Bailey, Halle Bailey, J Balvin, Pharrell Williams, Cardi B, Jennifer Hudson, Octavia Spencer, SZA, Simone Bozyermini, Janee Di, Chris Gray, Arnetta Johnson, Chris Johnson, Corbin Jones, Marie Katre, Ariel O'Neal, Peter Ortega, Lauren Robinson, Crystal Torres, Rie Tsuji, Lessie Vonner, Venzella Joy Williams, Vidie Williams, Rasaq Adeyemi, Larry Allen, Mathew Ashraf, Jacques Bell, Alex Blake, Tallie Brinson, Isaac Carter, Kadeem Chambers, Brandon Cunningham, Jalen Harvey, Rashaad Horne, Keir Garner, Dasmyn Grigsby, Michael Jones, Giovanni Luevano, Lomario Marchman, Maurice Mosley, Naderah Munajj, Joey Oakly, Sjoerd Onley, Ralph Nadar, Jason Price, Loubins Richard, Erin Robinson, Travord Rolle, Brian Snell, Nathaniel Spencer, Sean Torres, Wayne Westley, Tiffanie Cross, Jasmin Cruz, Steve Epting, Naarai Jacobs, Jamal Moore, Dwanna Grange, Kiandra Richardson, Tiffany Ryan, Jerome Wayne, Chimera Wilson, Cameron Wright, George Young, Crystal Alforque, Ashley Everett, Bianca Brewton, Nirine Brown, Asantewa Cotterell, Ashley Cruz, Makeda Cyrus, Hannah Douglass, Edidiong Emah, Hajiba Fahmy, Amandy Fernandez, Kayla Frails, Brian Glanville, Jasmine Harper, Kiira Harper, Larke Hassedt, Le'ana Hill, Corbin Hunter, Ciara Hurst, Marc Inniss, Tina Jackson, Habby Jacques, Joshua Johnson, Mao Kawakami, Muata Langley, Darina Littleton, Dominique Loude, Sabina Lundgren, \"Huwer \"\"Havoc\"\" Marchie\", Amari Marshall, Joré Marshall, Ashanti McIntosh, Natsuki Miya, Brianna Norwood, Christian Owens, Kendra Oyesanya, Brittany Parks, Jalen Preston, Elysandra Quinones, \"Jo'artis \"\"Big Mojo\"\" Ratti\", Kelsey Richardson, Tacir Roberson, Deijah Robinson, Noelle Rodriguez, Rebbi Rosie, Shellee Samuels, Angelo Saunders, Candice Savage, Lance Savali, Britton Shaw, Taya Shawki, Nicholas Stewart, Jonas Suber, China Taylor, Kimmy Taylor, Jarmal Terry, Raphael Thomas, Adrian Thompkins, Jana Thompkins, Laurel Thompson, Jordan Ward, Charles Williams, Quinetta Wilmington, Khadijah Wilson, Larry Bourgeois, Laurent Bourgeois]                                                                                                                                                                                                                                                                                                                                                                                                                                                                                                                                                                                                                                                                                                     \n\n*** WARNING: max output size exceeded, skipping output. ***\n\nallagher, Aileen Zoccola, Sachi Jonas, Amanda Moshay, Lyssa Roberts, Seth Sanders, Elyse Braner, Ryann Hendricks, Jessi Sheldon, Amanda Freed, Jaime Wohlbach, Anjelica Selden, Lovieanne Jung, Suze Kilner, Brian Distance, Michael Toolan-Roche, Caitlin Hanrahan, Deanna Vecchio, Samantha Yodowitz, Crystl Bustos, Andrea Duran, Jackie Dempsey, Tara Henry, Carri Martin, Greg Pronko, Daymien Valentino, Jeff Ayars, Nate Bailey, Noah Baron, Scott Barry, Terrence Beasor, Alexandra Begg, Jacob Bertrand, Robert Bizik, Robert Bizik, Charlie Bonnin, Anthony Bradford, Rachel Breitag, Ernest E. Brown, Laura Bryce, Jennifer Butler, Catherine Cahill, Kimberly Lynn Campbell, Maria Cecile Callier, Mustafa Cimen, Sheri Cohen, Chris Conlon, Moogega Cooper, Kirk Curran, Jessica Czop, Tom Delconte, Patricia DiZebba, Robin Dorsey, Bennett Dunn, Cindy Engle, Amy Gieske, Philip Greene, Philip Greene, Doug Henderson, Ken Holliday, Sidmar Holloman, George Kardulias, Jonathan Karp, Basil Kershner, Steven J. Klaszky, Michael J. Kraycik, Atif Lanier, Traci Law, Alexander Lee, Michael James Levy, Chris Luensman, Quang Ly, Brian M. Martin, Cindy Marie Martin, Marguerite Mastromatto, Christian Polk McRee, Patsy Meck, John Mitchell, Mike Monroe, Paul Monte Jr., Christian Monturano]                                                                                                                                                                                                                                                                                                                                                                                                                                                                                                                                                                                                                                                                                                                                                                                                                                                                                                                                                                                                                                                                                                                                                                                                                                                                                                                                                                                                                                                                                                                                                    |105       |\n|tm204163|[Miles Teller, Jonah Hill, Ana de Armas, Bradley Cooper, Kevin Pollak, Patrick St. Esprit, Shaun Toub, JB Blanc, Gabriel Spahiu, Julian Sergi, Andrei Finti, Jeremy Tardy, Barry Livingston, Jeff Pierre, Said Faraj, Ashley Spillers, Mehdi Merali, Aaron Lustig, Ashli Haynes, Max Daniels, Daniel Berson, Steve Lantz, Gregg Weiner, Eddie Jemison, Edson Jean, Daimion Johnson, Bethuel Fletcher, Gabriela Alvarez, Dan Bilzerian, Ali Chen, Alisa Allapach, Tucker Merrick, Mosa Omari, Mansour Badri, Mohammed Omari, Bahram Khosraviani, Randy Jay Burrell, Stoney Westmoreland, Wallace Langham, Roy Jenkins, Richard Coley, Ira Kay, Ben Wise, Benny Figgins, Alin Georgiou Popa, Petre Marin, Bogdan Albulescu, Liliana Cristina Circei, Caroline Lowe, Lita Lopez, Vincent Teixeira, Jimmy Badstibner, Maria F. Blanco, Brian Blu, Santos Caraballo, Gina Beatriz Castro, Nicole Chauvet, Bryan Chesters, Xavier Cortes, Tom Crisp, Ellen Marguerite Cullivan, Christopher De Stefano, Lucas Di Medio, Maxwell Acee Donovan, Marquest Douglass, Ely Feldman, Robert J. Fox, Adam E. Ginsberg, Jasmine Golden, Nicole Ilene Greensher, Phillip Allen Hall III, Sidmar Holloman, Avo Jabourian, Michaelanthony Jeffers, Gregory Kasyan, Frederick Keeve, Trevor Keveloh, Brenda Koo, Steven Krasner, David W. LeBlanc, Tracy Lee, Rob Marchitti, Andrei Mateiu, Chiko Mendez, Roman Mitichyan, Ryan Morgan, Lisa Nygard-Pugh, Brittney Rae, Daniel E. Rodriguez, Mark Roman, Efren John Rowan, Hassan Said, Eric Shackelford, Leland Smith, Jeffry Tamara, Rene Toledo, Holly Traister, Alan Trujillo, Courtney Hope Turner, Zachary Vazquez, Maegan Vogel, André B. Walker, Jonathan Yaskoff, Christopher Cho]                                                                                                                                                                                                                                                                                                                                                                                                                                                                                                                                                                                                                                                                                                                                                                                                                                                                                                                                                                                                                                                                                                                                                                                                                                                                                                                                                                                                                                                                                                                                                     |104       |\n|tm172683|[Tom Cruise, Dakota Fanning, Miranda Otto, Justin Chatwin, Tim Robbins, Rick Gonzalez, Yul Vazquez, Lenny Venito, Lisa Ann Walter, Ann Robinson, Gene Barry, David Alan Basche, Roz Abrams, Michael Brownlee, Camillia Sanes, Marlon Young, John Eddins, Peter Gerety, David Harbour, Miguel Antonio Ferrer, January LaVoy, Stephen Gevedon, Julie White, Marianne Ebert, Rafael Sardina, Amy Ryan, Ed Vassallo, Michael Arthur, Danny Hoch, Sharrieff Pugh, Erika LaVonn, Christopher Evan Welch, John Michael Bolger, Omar Jermaine, Robert Cicchini, Jim Hanna, Tracy Howe, Adam Lazarre-White, Vito D'Ambrosio, Laura Zoe Quist, Ana Maria Quintana, Lorelei Llee, Mark Manley, John Scurti, Becky Ann Baker, Mariann Mayberry, Ty Simpkins, Jerry Walsh, Tommy Guiffre, Daniel Franzese, Ed Schiff, Ellen Barry, Amy Hohn, Dan Ziskie, David Conley, Daniel Eric Gold, Booker T. Washington, Maggie Lacey, Eric Zuckerman, Daniel A. Jacobs, Asha R. Nanavati, Joaquin Perez-Campbell, Dendrie Taylor, James DuMont, Travis Aaron Wade, Benny Ciaramello, Ricky Luna, Columbus Short, Kent Faulcon, Kevin Collins, Terry Thomas, Clay Bringhurst, Jorge-Luis Pallo, Suanne Spoke, Kirsten Nelson, Melody Garrett, Lauri Johnson, Takayo Fischer, Shanna Collins, Elizabeth Jayne Hong, Art Chudabala, Jeffrey Hutchinson, Dempsey Pappion, Chris Todd, Johnny Kastl, Juan Carlos Hernández, Bruce W. Derdoski Jr., John N. Morales, Morgan Freeman, Peter E. Tasciotti, David Gere, James Boss, Martin Dew, Joe Duffy, Freddie Johnson, Anthony Jennings, Ingrid Johnson, Tanda Kerín, Victor Magnusson, Robert O'Connor, Miho Nakamura]                                                                                                                                                                                                                                                                                                                                                                                                                                                                                                                                                                                                                                                                                                                                                                                                                                                                                                                                                                                                                                                                                                                                                                                                                                                                                                                                                                                                                                                                                                                                                                                                                                |101       |\n|tm244174|[Ahn Seo-hyun, Tilda Swinton, Paul Dano, Jake Gyllenhaal, Lily Collins, Steven Yeun, Devon Bostick, Byun Hee-bong, Yoon Je-moon, Shirley Henderson, Daniel Henshall, Giancarlo Esposito, Choi Woo-shik, Michael Mitton, Colm Hill, Kathryn Kirkpatrick, Jose Carias, Nancy Amelia Bell, Lee Jung-eun, Kim Jae-in, Choi Hee-seo, Jang Ji-woong, Lee Bong-ryeon, Park Ki-seon, Yoon Kyung-ho, Cho Wan-ki, Han Yi-jin, Kwak Jin-seok, Park Ji-hoon, Lee Jae-Hyeok, Clayton Elliot Jones, Seoyoung Lim, Jungsook Park, Jooman Hong, Kyungwook Lim, Seungchang Lee, Byeonghee Lee, Hyunwoo Choi, Kim Moon-hak, Park Keun-rok, Daehyun Kim, Gwangjae Woo, Wonjin Jang, Hyunzun Yu, Dylan Ratigan, Milo Shandel, Mikaela Kingsbury, Sangyoon Lee, Bae Young-ran, Park Jeong-gi, Yoon Jung-ro, Kim Woo-hyun, Kim Chul-moo, Seo Woo-sik, Yerin Shin, Stephen Clee, Pavel Hajek, David Congourdeau Nicolas, Lucas Körmer, Ahn Seong-bong, Timmo Polajev, Steven Garr, Cory Gruter-Andrew, Barbara Wallace, Frans Weterrings IV, Boyd Ferguson, Niall Cunningham, Marian Volk, Conor Reeves, Adam Auslander, Waris Ahluwalia, T. Sahara Meer, J. C. Williams, Hye-Jo Yu, Lorne Edward Oliver, Alex Kabel, Elizabeth Urrea, Phillip Garcia, Andreas Fronk, Myles Humphus, Bettina Skye, Kristoffe Brodeur, Lena Avgust, Jamar Greene, Michael D. Joseph, Eha Urbsalu, Rebecca Husain, Zachary Belgard, Pavla Tan, Carl Montoya, Martin Lo Rimorin, Amber Snow, Ann Evans, Rickland Powell, Michelle Clarke-Brown, Lynn Marocola, Jack Lyons, David Bloom]                                                                                                                                                                                                                                                                                                                                                                                                                                                                                                                                                                                                                                                                                                                                                                                                                                                                                                                                                                                                                                                                                                                                                                                                                                                                                                                                                                                                                                                                                                                                                                                                                                                                                                                                |98        |\n|tm58382 |[Chyler Leigh, Chris Evans, Jaime Pressly, Eric Christian Olsen, Mia Kirshner, Lacey Chabert, Samaire Armstrong, Cerina Vincent, Mr. T, Molly Ringwald, Heather Brown, Nectar Rose, Michael Ensign, Kyle Cease, Eric Jungmann, Desi Lydic, Deon Richmond, Ron Lester, Cody McMains, Sam Huntington, JoAnna Garcia, Samm Levine, Beverly Polcyn, Ed Lauter, Paul Gleason, Randy Quaid, Riley Smith, Nathan West, Michelle Holgate, Jeanette Miller, Benjamin Waldow, Josh Radnor, Alec Murdock, Ross Mulholland, Dean Sheremet, Becca Sweitzer, Hayley Zelniker, Lukas Behnken, Josh Jacobson, Amber Goetz, Joy Bisco, Morisa Taylor Kaplan, George Wyner, Ned Brower, Peter Simon, Joy Gohring, Tracy Kay, Jessica Asher, Sean Smith, Ean Mering, Lyman Ward, Julie Welch, Daniel Bess, James Read, Rob Benedict, Banks McClintock, Jay Johnston, Jesse Capelli, Daniel Spink, Oz Perkins, Jim Wise, Kimi Bateman, Staci B. Flood, Sarah Christine Smith, China Shavers, H. Jon Benjamin, Paul Goebel, Marissa Fedele, Samuel Givens, Kimberly Lyon, Zachary Woodlee, Cynthena Sanders, Will Gill Jr., Nick Zephyrin, Heidi Androl, Ian Aronson, Sam Ayers, Nick Bakay, Candice T. Cain, Maylen Calienes, Marcus Edward, Arturo Elizondo, David M. Francis, Melissa Joan Hart, Kelly S. King, Jarrett Lennon, Tracey McCall, Jennifer Schlueter, Gena Shaw, Abraham Smith, Tessa, Sean Patrick Thomas, Cassie Townsend, Jeremiah Vaughn, Susan Anne Wall, Scott Hislop, Jackie Harris Greenberg]                                                                                                                                                                                                                                                                                                                                                                                                                                                                                                                                                                                                                                                                                                                                                                                                                                                                                                                                                                                                                                                                                                                                                                                                                                                                                                                                                                                                                                                                                                                                                                                                                                                                                                                                                                             |97        |\n|tm315344|[Jessica Chastain, Idris Elba, Kevin Costner, Michael Cera, Jeremy Strong, Chris O'Dowd, J. C. MacKenzie, Brian d'Arcy James, Bill Camp, Graham Greene, Justin Kirk, Angela Gots, Natalie Krill, Stephanie Herfield, Madison McKinley, Joe Keery, Michael Kostroff, Claire Rankin, Victor Serfaty, Whitney Peak, Jon Bass, Joseph Brooks, Samantha Isler, Piper Howell, Kjartan Hewitt, Khalid Karim, Chris Hoffman, Matthew D. Matteo, Jacob Blair, Chris Boyle, Duane Murray, Jeff Kassel, Dan Lett, Timothy Mooney, Moti Yona, Leo Vernik, John Nelles, Jason Weinberg, Rachel Skarsten, Linette Doherty, Robert B. Kennedy, Morgan David Jones, Elisa Moolecherry, Alan C. Peterson, Dov Tiefenbach, Bo Martyn, Amy Rutherford, Frank Falcone, Kris Siddiqi, Jonathan Purdon, David Reale, Jake Goldsbie, Todd Thomas Dark, Chris Owens, Gary Brennan, Tom Black, Ken Linton, Zachary Goodbaum, Tony Stellisano, Tommy Julien, Jason Pithawalla, James Hurlburt, John Krpan, Shane Harbison, Vasilios Pappas, Rae Anne Stroeder, Alanna Macaulay, George Tchortov, Thomas Hauff, Ari Cohen, David Lafontaine, David Gingrich, Jeffrey Parazzo, Bruno Verdoni, Rico Tudico, Mary Ashton, Lizzy DeClement, Catherine Burdon, Laura Cilevitz, Amy Stewart, Steve Brandes, Phil Primmer, Gurdeep Ahluwalia, Dan Duran, Vladimir Tsyglian, Dennis Drummond, Nicholas Banks, Michael Cohen, Karl Danhoffer, Daoud Heidami, Maria Lerinman, Alyssa Veniece, Robin Read, Dave Alaimo, Brian Cranstone, Gregory Falatek, Mariah Owen]                                                                                                                                                                                                                                                                                                                                                                                                                                                                                                                                                                                                                                                                                                                                                                                                                                                                                                                                                                                                                                                                                                                                                                                                                                                                                                                                                                                                                                                                                                                                                                                                                                                                                                                                             |97        |\n|tm191013|[Mark Wahlberg, Julianne Moore, Burt Reynolds, Don Cheadle, John C. Reilly, Heather Graham, William H. Macy, Luis Guzmán, Philip Seymour Hoffman, Philip Baker Hall, Rico Bueno, Nicole Ari Parker, Samson Barkhordarian, Nina Hartley, Alfred Molina, Brad Braeden, Joanna Gleason, Lawrence Hudd, Michael Stein, Stanley DeSantis, Patricia Forte, Kai Lennox, Laurel Holloman, Jason Andrews, Robert Ridgely, Lil' Cinderella, Greg Lauren, Tom Dorfmeister, \"Jason \"\"Jake\"\" Cross\", Ricky Jay, Jack Wallace, Selwyn Emerson Miller, Jamielyn Lippman, Missy Spell Tanner, Raymond Laboriel, Melora Walters, Jon Brion, Brian Kehew, Robin Sharp, Audrey Wiechman, Tim Soronen, Michael Jace, Alexander D. Slanger, Tom Lenk, Lexi Leigh, Laura Gronewold, Thomas Jane, Vernon Guichard II, Tony Tedeschi, Leslie Redden, Gregory T. Daniel, Jonathan Quint, Michael Penn, Don Amendolia, Summer Cummings, Skye Blue, Robert Downey Sr., Veronica Hart, Jack Riley, John Doe, Channon Roe, Mike Gunther, Michael Raye Smith, Michael S. Stencil, Dustin Courtney, Allan Graf, Jose Chaidez, B. Philly Johnson, Joe G.M. Chan, Goliath, Israel Juarbe, George Anthony Rae, Eric Winzenried, Sharon Ferrol-Young, Anne Fletcher, Scott Fowler, Melanie A. Gage, Eddie Garcia, Sebastian La Cause, Lance MacDonald, Diane Mizota, Nathan Prevost, Lisa Ratzin, Dee Dee Weathers, Darrel W. Wright, Michael Ballhaus, Greg Bronson, Grace Bustos, Jorga Caye, Tyrone D. Dixon, Theo Mayes, Coleman McClary, Jami Philbrick, Misty Tamburelli, Sean Welch]                                                                                                                                                                                                                                                                                                                                                                                                                                                                                                                                                                                                                                                                                                                                                                                                                                                                                                                                                                                                                                                                                                                                                                                                                                                                                                                                                                                                                                                                                                                                                                                                                                                                                                                     |95        |\n+--------+-----------------------------------------------------------------------------------------------------------------------------------------------------------------------------------------------------------------------------------------------------------------------------------------------------------------------------------------------------------------------------------------------------------------------------------------------------------------------------------------------------------------------------------------------------------------------------------------------------------------------------------------------------------------------------------------------------------------------------------------------------------------------------------------------------------------------------------------------------------------------------------------------------------------------------------------------------------------------------------------------------------------------------------------------------------------------------------------------------------------------------------------------------------------------------------------------------------------------------------------------------------------------------------------------------------------------------------------------------------------------------------------------------------------------------------------------------------------------------------------------------------------------------------------------------------------------------------------------------------------------------------------------------------------------------------------------------------------------------------------------------------------------------------------------------------------------------------------------------------------------------------------------------------------------------------------------------------------------------------------------------------------------------------------------------------------------------------------------------------------------------------------------------------------------------------------------------------------------------------------------------------------------------------------------------------------------------------------------------------------------------------------------------------------------------------------------------------------------------------------------------------------------------------------------------------------------------------------------------------------------------------------------------------------------------------------------------------------------------------------------------------------------------------------------------------------------------------------------------------------------------------------------------------------------------------------------------------------------------------------------------------------------------------------------------------------------------------------------------------------------------------------------------------------------------------------------------------------------------------------------------------------------------+----------+\nonly showing top 20 rows\n"
     ]
    }
   ],
   "source": [
    "from pyspark.sql.functions import collect_list, size, array_distinct\n",
    "\n",
    "actor_pairs = credits_df \\\n",
    "    .filter(col(\"role\") == \"ACTOR\").groupBy(\"id\").agg(collect_list(\"name\").alias(\"actors\")).withColumn(\"pair_count\", size(array_distinct(\"actors\")))\n",
    "\n",
    "actor_pairs.orderBy(desc(\"pair_count\")).show(truncate = False)"
   ]
  },
  {
   "cell_type": "code",
   "execution_count": 0,
   "metadata": {
    "application/vnd.databricks.v1+cell": {
     "cellMetadata": {
      "byteLimit": 2048000,
      "rowLimit": 10000
     },
     "inputWidgets": {},
     "nuid": "d4e6291a-dbdc-4136-8718-fa1f39adccee",
     "showTitle": false,
     "tableResultSettingsMap": {},
     "title": ""
    }
   },
   "outputs": [
    {
     "output_type": "stream",
     "name": "stdout",
     "output_type": "stream",
     "text": [
      "+-------+-----------+-----+--------------------+------------+-----------------+-------+------------------+--------------------+-------+---------+----------+----------+---------------+----------+--------------+---------------+---------+------------------+--------------------+-----+\n|     id|      title| type|         description|release_year|age_certification|runtime|            genres|production_countries|seasons|  imdb_id|imdb_score|imdb_votes|tmdb_popularity|tmdb_score|  genres_array|countries_array|person_id|              name|           character| role|\n+-------+-----------+-----+--------------------+------------+-----------------+-------+------------------+--------------------+-------+---------+----------+----------+---------------+----------+--------------+---------------+---------+------------------+--------------------+-----+\n|tm84618|Taxi Driver|MOVIE|A mentally unstab...|        1976|                R|    114|['drama', 'crime']|              ['US']|      0|tt0075314|       8.2|       100|         40.965|     8.179|[drama, crime]|           [US]|     3748|    Robert De Niro|       Travis Bickle|ACTOR|\n|tm84618|Taxi Driver|MOVIE|A mentally unstab...|        1976|                R|    114|['drama', 'crime']|              ['US']|      0|tt0075314|       8.2|       100|         40.965|     8.179|[drama, crime]|           [US]|    14658|      Jodie Foster|       Iris Steensma|ACTOR|\n|tm84618|Taxi Driver|MOVIE|A mentally unstab...|        1976|                R|    114|['drama', 'crime']|              ['US']|      0|tt0075314|       8.2|       100|         40.965|     8.179|[drama, crime]|           [US]|     7064|     Albert Brooks|                 Tom|ACTOR|\n|tm84618|Taxi Driver|MOVIE|A mentally unstab...|        1976|                R|    114|['drama', 'crime']|              ['US']|      0|tt0075314|       8.2|       100|         40.965|     8.179|[drama, crime]|           [US]|     3739|     Harvey Keitel|Matthew 'Sport' H...|ACTOR|\n|tm84618|Taxi Driver|MOVIE|A mentally unstab...|        1976|                R|    114|['drama', 'crime']|              ['US']|      0|tt0075314|       8.2|       100|         40.965|     8.179|[drama, crime]|           [US]|    48933|   Cybill Shepherd|               Betsy|ACTOR|\n|tm84618|Taxi Driver|MOVIE|A mentally unstab...|        1976|                R|    114|['drama', 'crime']|              ['US']|      0|tt0075314|       8.2|       100|         40.965|     8.179|[drama, crime]|           [US]|    32267|       Peter Boyle|              Wizard|ACTOR|\n|tm84618|Taxi Driver|MOVIE|A mentally unstab...|        1976|                R|    114|['drama', 'crime']|              ['US']|      0|tt0075314|       8.2|       100|         40.965|     8.179|[drama, crime]|           [US]|   519612|    Leonard Harris|Senator Charles P...|ACTOR|\n|tm84618|Taxi Driver|MOVIE|A mentally unstab...|        1976|                R|    114|['drama', 'crime']|              ['US']|      0|tt0075314|       8.2|       100|         40.965|     8.179|[drama, crime]|           [US]|    29068|    Diahnne Abbott|     Concession Girl|ACTOR|\n|tm84618|Taxi Driver|MOVIE|A mentally unstab...|        1976|                R|    114|['drama', 'crime']|              ['US']|      0|tt0075314|       8.2|       100|         40.965|     8.179|[drama, crime]|           [US]|   519613|       Gino Ardito|  Policeman at Rally|ACTOR|\n|tm84618|Taxi Driver|MOVIE|A mentally unstab...|        1976|                R|    114|['drama', 'crime']|              ['US']|      0|tt0075314|       8.2|       100|         40.965|     8.179|[drama, crime]|           [US]|     3308|   Martin Scorsese|Passenger Watchin...|ACTOR|\n|tm84618|Taxi Driver|MOVIE|A mentally unstab...|        1976|                R|    114|['drama', 'crime']|              ['US']|      0|tt0075314|       8.2|       100|         40.965|     8.179|[drama, crime]|           [US]|    43791|     Murray Moston|   Iris' Time Keeper|ACTOR|\n|tm84618|Taxi Driver|MOVIE|A mentally unstab...|        1976|                R|    114|['drama', 'crime']|              ['US']|      0|tt0075314|       8.2|       100|         40.965|     8.179|[drama, crime]|           [US]|   519614|     Richard Higgs|Secret Service Agent|ACTOR|\n|tm84618|Taxi Driver|MOVIE|A mentally unstab...|        1976|                R|    114|['drama', 'crime']|              ['US']|      0|tt0075314|       8.2|       100|         40.965|     8.179|[drama, crime]|           [US]|   519615|       Bill Minkin|Tom's Assistant (...|ACTOR|\n|tm84618|Taxi Driver|MOVIE|A mentally unstab...|        1976|                R|    114|['drama', 'crime']|              ['US']|      0|tt0075314|       8.2|       100|         40.965|     8.179|[drama, crime]|           [US]|    82426|        Bob Maroff|Mafioso (uncredited)|ACTOR|\n|tm84618|Taxi Driver|MOVIE|A mentally unstab...|        1976|                R|    114|['drama', 'crime']|              ['US']|      0|tt0075314|       8.2|       100|         40.965|     8.179|[drama, crime]|           [US]|    20935|       Victor Argo|Melio, Delicatess...|ACTOR|\n|tm84618|Taxi Driver|MOVIE|A mentally unstab...|        1976|                R|    114|['drama', 'crime']|              ['US']|      0|tt0075314|       8.2|       100|         40.965|     8.179|[drama, crime]|           [US]|     7753|       Joe Spinell|   Personell Officer|ACTOR|\n|tm84618|Taxi Driver|MOVIE|A mentally unstab...|        1976|                R|    114|['drama', 'crime']|              ['US']|      0|tt0075314|       8.2|       100|         40.965|     8.179|[drama, crime]|           [US]|    43279|Robinson Frank Adu|Angry Black Man (...|ACTOR|\n|tm84618|Taxi Driver|MOVIE|A mentally unstab...|        1976|                R|    114|['drama', 'crime']|              ['US']|      0|tt0075314|       8.2|       100|         40.965|     8.179|[drama, crime]|           [US]|   519616|    Brenda Dickson|Soap Opera Woman ...|ACTOR|\n|tm84618|Taxi Driver|MOVIE|A mentally unstab...|        1976|                R|    114|['drama', 'crime']|              ['US']|      0|tt0075314|       8.2|       100|         40.965|     8.179|[drama, crime]|           [US]|     8424|    Norman Matlock|           Charlie T|ACTOR|\n|tm84618|Taxi Driver|MOVIE|A mentally unstab...|        1976|                R|    114|['drama', 'crime']|              ['US']|      0|tt0075314|       8.2|       100|         40.965|     8.179|[drama, crime]|           [US]|    20447|     Harry Northup|            Doughboy|ACTOR|\n+-------+-----------+-----+--------------------+------------+-----------------+-------+------------------+--------------------+-------+---------+----------+----------+---------------+----------+--------------+---------------+---------+------------------+--------------------+-----+\nonly showing top 20 rows\n"
     ]
    }
   ],
   "source": [
    "joined_df.show()"
   ]
  },
  {
   "cell_type": "code",
   "execution_count": 0,
   "metadata": {
    "application/vnd.databricks.v1+cell": {
     "cellMetadata": {
      "byteLimit": 2048000,
      "rowLimit": 10000
     },
     "inputWidgets": {},
     "nuid": "2dec6270-bf2d-4308-97e5-b177d00957dd",
     "showTitle": false,
     "tableResultSettingsMap": {},
     "title": ""
    }
   },
   "outputs": [
    {
     "output_type": "stream",
     "name": "stdout",
     "output_type": "stream",
     "text": [
      "+--------------------+-----+\n|                name|count|\n+--------------------+-----+\n|         Boman Irani|   25|\n| Kareena Kapoor Khan|   25|\n|      Shah Rukh Khan|   23|\n|    Takahiro Sakurai|   21|\n|         Raúl Campos|   20|\n|        Paresh Rawal|   20|\n|    Amitabh Bachchan|   20|\n|Priyanka Chopra J...|   20|\n|           Jan Suter|   19|\n|          Aamir Khan|   19|\n+--------------------+-----+\n\n"
     ]
    }
   ],
   "source": [
    "credits_df.groupBy(\"name\") \\\n",
    "    .count().orderBy(\"count\", ascending=False).limit(10).show()"
   ]
  },
  {
   "cell_type": "code",
   "execution_count": 0,
   "metadata": {
    "application/vnd.databricks.v1+cell": {
     "cellMetadata": {
      "byteLimit": 2048000,
      "rowLimit": 10000
     },
     "inputWidgets": {},
     "nuid": "ea076e7c-794f-4fde-9cd9-0740bdefd018",
     "showTitle": false,
     "tableResultSettingsMap": {},
     "title": ""
    }
   },
   "outputs": [
    {
     "output_type": "stream",
     "name": "stdout",
     "output_type": "stream",
     "text": [
      "+--------------------+-----+\n|                type|count|\n+--------------------+-----+\n| classmates and t...|    1|\n|                2019|    1|\n|                2017|    1|\n| cast out of the ...|    1|\n|               MOVIE| 3349|\n|          two courts|    1|\n|                SHOW| 1855|\n|                2010|    1|\n|                2022|    1|\n|                2015|    1|\n|      as of May 2008|    1|\n|                1998|    1|\n| after all. A boo...|    1|\n| and they are abo...|    1|\n|                2006|    1|\n|                2018|    1|\n|                2011|    2|\n|                2020|    1|\n|                2001|    1|\n+--------------------+-----+\n\n"
     ]
    }
   ],
   "source": [
    "titles_df.groupBy(\"type\").count().show()"
   ]
  },
  {
   "cell_type": "code",
   "execution_count": 0,
   "metadata": {
    "application/vnd.databricks.v1+cell": {
     "cellMetadata": {
      "byteLimit": 2048000,
      "rowLimit": 10000
     },
     "inputWidgets": {},
     "nuid": "24e04b3c-7ed9-423c-8629-99a2804d7a55",
     "showTitle": false,
     "tableResultSettingsMap": {},
     "title": ""
    }
   },
   "outputs": [
    {
     "output_type": "stream",
     "name": "stdout",
     "output_type": "stream",
     "text": [
      "+--------------------+----------+\n|               title|imdb_score|\n+--------------------+----------+\n|Chhota Bheem & Kr...|       9.1|\n|               Major|       9.1|\n|   C/o Kancharapalem|       8.9|\n|David Attenboroug...|       8.9|\n|        Forrest Gump|       8.8|\n|          GoodFellas|       8.7|\n|Chhota Bheem & Kr...|       8.7|\n|          Anbe Sivam|       8.7|\n|Chhota Bheem Neel...|       8.7|\n| A Lion in the House|       8.7|\n+--------------------+----------+\n\n"
     ]
    }
   ],
   "source": [
    "titles_df.filter(\"type = 'MOVIE' and imdb_score is not null\") \\\n",
    "    .orderBy(\"imdb_score\", ascending=False).select(\"title\", \"imdb_score\").limit(10).show()"
   ]
  },
  {
   "cell_type": "code",
   "execution_count": 0,
   "metadata": {
    "application/vnd.databricks.v1+cell": {
     "cellMetadata": {
      "byteLimit": 2048000,
      "rowLimit": 10000
     },
     "inputWidgets": {},
     "nuid": "540606f5-4e2e-4d66-86f1-6419078bcdcf",
     "showTitle": false,
     "tableResultSettingsMap": {},
     "title": ""
    }
   },
   "outputs": [
    {
     "output_type": "stream",
     "name": "stdout",
     "output_type": "stream",
     "text": [
      "+------------+-----+\n|release_year|count|\n+------------+-----+\n|          13|    1|\n|          15|    1|\n|          24|    1|\n|          25|    1|\n|          27|    1|\n|          43|    1|\n|          46|    1|\n|          48|    1|\n|          51|    1|\n|          59|    1|\n|          64|    1|\n|          69|    1|\n|        1954|    2|\n|        1956|    1|\n|        1958|    1|\n|        1959|    1|\n|        1960|    1|\n|        1961|    1|\n|        1963|    1|\n|        1966|    1|\n+------------+-----+\nonly showing top 20 rows\n"
     ]
    }
   ],
   "source": [
    "titles_df.groupBy(\"release_year\").count().orderBy(\"release_year\").show()"
   ]
  },
  {
   "cell_type": "code",
   "execution_count": 0,
   "metadata": {
    "application/vnd.databricks.v1+cell": {
     "cellMetadata": {
      "byteLimit": 2048000,
      "rowLimit": 10000
     },
     "inputWidgets": {},
     "nuid": "00325404-831a-47db-b71a-1bb46a8d86e0",
     "showTitle": false,
     "tableResultSettingsMap": {},
     "title": ""
    }
   },
   "outputs": [
    {
     "output_type": "stream",
     "name": "stdout",
     "output_type": "stream",
     "text": [
      "+--------------------+-----+\n|                name|count|\n+--------------------+-----+\n| Kareena Kapoor Khan|   25|\n|         Boman Irani|   25|\n|      Shah Rukh Khan|   23|\n|    Takahiro Sakurai|   21|\n|Priyanka Chopra J...|   20|\n|        Paresh Rawal|   20|\n|    Amitabh Bachchan|   20|\n| Nawazuddin Siddiqui|   19|\n|         Anupam Kher|   19|\n|      Junichi Suwabe|   19|\n+--------------------+-----+\n\n"
     ]
    }
   ],
   "source": [
    "credits_df.filter(\"role = 'ACTOR'\").groupBy(\"name\") \\\n",
    "    .count().orderBy(\"count\", ascending=False).limit(10).show()\n"
   ]
  },
  {
   "cell_type": "code",
   "execution_count": 0,
   "metadata": {
    "application/vnd.databricks.v1+cell": {
     "cellMetadata": {
      "byteLimit": 2048000,
      "rowLimit": 10000
     },
     "inputWidgets": {},
     "nuid": "d44efa31-55a1-4374-92e1-26b213cae5bc",
     "showTitle": false,
     "tableResultSettingsMap": {},
     "title": ""
    }
   },
   "outputs": [
    {
     "output_type": "stream",
     "name": "stdout",
     "output_type": "stream",
     "text": [
      "+--------------------+------------+----------+\n|               title|release_year|imdb_score|\n+--------------------+------------+----------+\n|         Taxi Driver|        1976|       8.2|\n|          GoodFellas|        1990|       8.7|\n|Once Upon a Time ...|        1984|       8.3|\n|Jim Norton: Mouth...|        2017|       7.0|\n|        The Irishman|        2019|       7.8|\n+--------------------+------------+----------+\n\n"
     ]
    }
   ],
   "source": [
    "credits_df.filter(\"name = 'Robert De Niro'\") \\\n",
    "    .join(titles_df, \"id\").select(\"title\", \"release_year\", \"imdb_score\").show()"
   ]
  },
  {
   "cell_type": "code",
   "execution_count": 0,
   "metadata": {
    "application/vnd.databricks.v1+cell": {
     "cellMetadata": {
      "byteLimit": 2048000,
      "rowLimit": 10000
     },
     "inputWidgets": {},
     "nuid": "3e0884e9-c4c6-4ef0-8c79-32e1f3b04413",
     "showTitle": false,
     "tableResultSettingsMap": {},
     "title": ""
    }
   },
   "outputs": [
    {
     "output_type": "stream",
     "name": "stdout",
     "output_type": "stream",
     "text": [
      "+--------------------+---------------+\n|        genres_array|avg(tmdb_score)|\n+--------------------+---------------+\n|[family, romance,...|           10.0|\n|[family, fantasy,...|           10.0|\n|[thriller, horror...|           10.0|\n|[fantasy, comedy,...|           10.0|\n|[drama, scifi, co...|           10.0|\n|[comedy, family, ...|           10.0|\n|[crime, sport, do...|           10.0|\n|[family, music, a...|           10.0|\n|[animation, comed...|           10.0|\n|[animation, famil...|           10.0|\n|[scifi, action, f...|            9.5|\n|[animation, comed...|            9.3|\n|[scifi, action, d...|          9.081|\n|[action, scifi, t...|            9.0|\n|[drama, thriller,...|            9.0|\n|[scifi, fantasy, ...|            9.0|\n|[fantasy, scifi, ...|            9.0|\n|[action, comedy, ...|            8.9|\n|[fantasy, reality...|            8.9|\n|[action, scifi, f...|            8.9|\n+--------------------+---------------+\nonly showing top 20 rows\n"
     ]
    }
   ],
   "source": [
    "from pyspark.sql.functions import explode\n",
    "\n",
    "titles_df.withColumn(\"genre\", explode(\"genres_array\")) \\\n",
    "    .groupBy(\"genres_array\").avg(\"tmdb_score\").orderBy(\"avg(tmdb_score)\", ascending=False).show()"
   ]
  },
  {
   "cell_type": "code",
   "execution_count": 0,
   "metadata": {
    "application/vnd.databricks.v1+cell": {
     "cellMetadata": {
      "byteLimit": 2048000,
      "rowLimit": 10000
     },
     "inputWidgets": {},
     "nuid": "5a4d0d2b-deb1-4252-8828-5c9fe5c54a51",
     "showTitle": false,
     "tableResultSettingsMap": {},
     "title": ""
    }
   },
   "outputs": [
    {
     "output_type": "stream",
     "name": "stdout",
     "output_type": "stream",
     "text": [
      "+--------------------+---------------+\n|               title|tmdb_popularity|\n+--------------------+---------------+\n|     Stranger Things|       2226.231|\n|       Resident Evil|       1387.392|\n|      Peaky Blinders|       1038.077|\n|             Lucifer|        922.112|\n|Money Heist (Kore...|        904.326|\n|      Grey's Anatomy|        803.786|\n|Money Heist: From...|        712.899|\n|Kung Fu Panda: Th...|        656.832|\n|    The Walking Dead|        597.277|\n|  All of Us Are Dead|        491.672|\n|          Boo, Bitch|        481.983|\n| The Vampire Diaries|        479.354|\n|           Control Z|        473.002|\n|My Little Pony: M...|        400.035|\n|The Umbrella Academy|        388.952|\n|        Supernatural|        388.093|\n|          Squid Game|        361.925|\n|        Breaking Bad|        353.848|\n|           Riverdale|        341.862|\n|Pablo Escobar: Th...|        337.869|\n+--------------------+---------------+\nonly showing top 20 rows\n"
     ]
    }
   ],
   "source": [
    "titles_df.filter(\"type = 'SHOW'\") \\\n",
    "    .orderBy(\"tmdb_popularity\", ascending=False).select(\"title\", \"tmdb_popularity\").show()"
   ]
  },
  {
   "cell_type": "code",
   "execution_count": 0,
   "metadata": {
    "application/vnd.databricks.v1+cell": {
     "cellMetadata": {
      "byteLimit": 2048000,
      "rowLimit": 10000
     },
     "inputWidgets": {},
     "nuid": "fcc80767-69e8-46cf-bc03-b84dc3d3e550",
     "showTitle": false,
     "tableResultSettingsMap": {},
     "title": ""
    }
   },
   "outputs": [
    {
     "output_type": "display_data",
     "data": {
      "text/html": [
       "<style scoped>\n",
       "  .table-result-container {\n",
       "    max-height: 300px;\n",
       "    overflow: auto;\n",
       "  }\n",
       "  table, th, td {\n",
       "    border: 1px solid black;\n",
       "    border-collapse: collapse;\n",
       "  }\n",
       "  th, td {\n",
       "    padding: 5px;\n",
       "  }\n",
       "  th {\n",
       "    text-align: left;\n",
       "  }\n",
       "</style><div class='table-result-container'><table class='table-result'><thead style='background-color: white'><tr><th>id</th><th>title</th><th>type</th><th>description</th><th>release_year</th><th>age_certification</th><th>runtime</th><th>genres</th><th>production_countries</th><th>seasons</th><th>imdb_id</th><th>imdb_score</th><th>imdb_votes</th><th>tmdb_popularity</th><th>tmdb_score</th><th>genres_array</th><th>countries_array</th></tr></thead><tbody><tr><td>tm84618</td><td>Taxi Driver</td><td>MOVIE</td><td>A mentally unstable Vietnam War veteran works as a night-time taxi driver in New York City where the perceived decadence and sleaze feed his urge for violent action.</td><td>1976</td><td>R</td><td>114</td><td>['drama', 'crime']</td><td>['US']</td><td>0</td><td>tt0075314</td><td>8.2</td><td>100</td><td>40.965</td><td>8.179</td><td>List(drama, crime)</td><td>List(US)</td></tr><tr><td>tm154986</td><td>Deliverance</td><td>MOVIE</td><td>Intent on seeing the Cahulawassee River before it's turned into one huge lake, outdoor fanatic Lewis Medlock takes his friends on a river-rafting trip they'll never forget into the dangerous American back-country.</td><td>1972</td><td>R</td><td>109</td><td>['drama', 'action', 'thriller', 'european']</td><td>['US']</td><td>0</td><td>tt0068473</td><td>7.7</td><td>100</td><td>10.01</td><td>7.3</td><td>List(drama, action, thriller, european)</td><td>List(US)</td></tr><tr><td>tm127384</td><td>Monty Python and the Holy Grail</td><td>MOVIE</td><td>\"King Arthur, accompanied by his squire, recruits his Knights of the Round Table, including Sir Bedevere the Wise, Sir Lancelot the Brave, Sir Robin the Not-Quite-So-Brave-As-Sir-Lancelot and Sir Galahad the Pure. On the way, Arthur battles the Black Knight who, despite having had all his limbs chopped off, insists he can still fight. They reach Camelot, but Arthur decides not  to enter, as \"\"it is a silly place\"\".\"</td><td>1975</td><td>PG</td><td>91</td><td>['fantasy', 'action', 'comedy']</td><td>['GB']</td><td>0</td><td>tt0071853</td><td>8.2</td><td>100</td><td>15.461</td><td>7.811</td><td>List(fantasy, action, comedy)</td><td>List(GB)</td></tr><tr><td>tm120801</td><td>The Dirty Dozen</td><td>MOVIE</td><td>12 American military prisoners in World War II are ordered to infiltrate a well-guarded enemy château and kill the Nazi officers vacationing there. The soldiers, most of whom are facing death sentences for a variety of violent crimes, agree to the mission and the possible commuting of their sentences.</td><td>1967</td><td>TV-MA</td><td>150</td><td>['war', 'action']</td><td>['GB', 'US']</td><td>0</td><td>tt0061578</td><td>7.7</td><td>100</td><td>20.398</td><td>7.6</td><td>List(war, action)</td><td>List(GB, US)</td></tr><tr><td>ts22164</td><td>Monty Python's Flying Circus</td><td>SHOW</td><td>A British sketch comedy series with the shows being composed of surreality, risqué or innuendo-laden humour, sight gags and observational sketches without punchlines.</td><td>1969</td><td>TV-14</td><td>30</td><td>['comedy', 'european']</td><td>['GB']</td><td>1</td><td>tt0063929</td><td>8.8</td><td>100</td><td>17.617</td><td>8.306</td><td>List(comedy, european)</td><td>List(GB)</td></tr><tr><td>tm70993</td><td>Life of Brian</td><td>MOVIE</td><td>Brian Cohen is an average young Jewish man, but through a series of ridiculous events, he gains a reputation as the Messiah. When he's not dodging his followers or being scolded by his shrill mother, the hapless Brian has to contend with the pompous Pontius Pilate and acronym-obsessed members of a separatist movement. Rife with Monty Python's signature absurdity, the tale finds Brian's life paralleling Biblical lore, albeit with many more laughs.</td><td>1979</td><td>R</td><td>94</td><td>['comedy']</td><td>['GB']</td><td>0</td><td>tt0079470</td><td>8.0</td><td>100</td><td>17.77</td><td>7.8</td><td>List(comedy)</td><td>List(GB)</td></tr><tr><td>tm14873</td><td>Dirty Harry</td><td>MOVIE</td><td>When a madman dubbed 'Scorpio' terrorizes San Francisco, hard-nosed cop, Harry Callahan – famous for his take-no-prisoners approach to law enforcement – is tasked with hunting down the psychopath. Harry eventually collars Scorpio in the process of rescuing a kidnap victim, only to see him walk on technicalities. Now, the maverick detective is determined to nail the maniac himself.</td><td>1971</td><td>R</td><td>102</td><td>['thriller', 'action', 'crime']</td><td>['US']</td><td>0</td><td>tt0066999</td><td>7.7</td><td>100</td><td>12.817</td><td>7.5</td><td>List(thriller, action, crime)</td><td>List(US)</td></tr><tr><td>tm119281</td><td>Bonnie and Clyde</td><td>MOVIE</td><td>In the 1930s, bored waitress Bonnie Parker falls in love with an ex-con named Clyde Barrow and together they start a violent crime spree through the country, stealing cars and robbing banks.</td><td>1967</td><td>R</td><td>110</td><td>['crime', 'drama', 'action']</td><td>['US']</td><td>0</td><td>tt0061418</td><td>7.7</td><td>100</td><td>15.687</td><td>7.5</td><td>List(crime, drama, action)</td><td>List(US)</td></tr><tr><td>tm98978</td><td>The Blue Lagoon</td><td>MOVIE</td><td>Two small children and a ship's cook survive a shipwreck and find safety on an idyllic tropical island. Soon, however, the cook dies and the young boy and girl are left on their own. Days become years and Emmeline and Richard make a home for themselves surrounded by exotic creatures and nature's beauty. But will they ever see civilization again?</td><td>1980</td><td>R</td><td>104</td><td>['romance', 'action', 'drama']</td><td>['US']</td><td>0</td><td>tt0080453</td><td>5.8</td><td>100</td><td>50.324</td><td>6.156</td><td>List(romance, action, drama)</td><td>List(US)</td></tr><tr><td>tm44204</td><td>The Guns of Navarone</td><td>MOVIE</td><td>A team of allied saboteurs are assigned an impossible mission: infiltrate an impregnable Nazi-held island and destroy the two enormous long-range field guns that prevent the rescue of 2,000 trapped British soldiers.</td><td>1961</td><td>TV-MA</td><td>158</td><td>['action', 'drama', 'war']</td><td>['GB', 'US']</td><td>0</td><td>tt0054953</td><td>7.5</td><td>100</td><td>13.844</td><td>7.3</td><td>List(action, drama, war)</td><td>List(GB, US)</td></tr></tbody></table></div>"
      ]
     },
     "metadata": {
      "application/vnd.databricks.v1+output": {
       "addedWidgets": {},
       "aggData": [],
       "aggError": "",
       "aggOverflow": false,
       "aggSchema": [],
       "aggSeriesLimitReached": false,
       "aggType": "",
       "arguments": {},
       "columnCustomDisplayInfos": {},
       "data": [
        [
         "tm84618",
         "Taxi Driver",
         "MOVIE",
         "A mentally unstable Vietnam War veteran works as a night-time taxi driver in New York City where the perceived decadence and sleaze feed his urge for violent action.",
         1976,
         "R",
         114,
         "['drama', 'crime']",
         "['US']",
         0,
         "tt0075314",
         8.2,
         100,
         40.965,
         8.179,
         [
          "drama",
          "crime"
         ],
         [
          "US"
         ]
        ],
        [
         "tm154986",
         "Deliverance",
         "MOVIE",
         "Intent on seeing the Cahulawassee River before it's turned into one huge lake, outdoor fanatic Lewis Medlock takes his friends on a river-rafting trip they'll never forget into the dangerous American back-country.",
         1972,
         "R",
         109,
         "['drama', 'action', 'thriller', 'european']",
         "['US']",
         0,
         "tt0068473",
         7.7,
         100,
         10.01,
         7.3,
         [
          "drama",
          "action",
          "thriller",
          "european"
         ],
         [
          "US"
         ]
        ],
        [
         "tm127384",
         "Monty Python and the Holy Grail",
         "MOVIE",
         "\"King Arthur, accompanied by his squire, recruits his Knights of the Round Table, including Sir Bedevere the Wise, Sir Lancelot the Brave, Sir Robin the Not-Quite-So-Brave-As-Sir-Lancelot and Sir Galahad the Pure. On the way, Arthur battles the Black Knight who, despite having had all his limbs chopped off, insists he can still fight. They reach Camelot, but Arthur decides not  to enter, as \"\"it is a silly place\"\".\"",
         1975,
         "PG",
         91,
         "['fantasy', 'action', 'comedy']",
         "['GB']",
         0,
         "tt0071853",
         8.2,
         100,
         15.461,
         7.811,
         [
          "fantasy",
          "action",
          "comedy"
         ],
         [
          "GB"
         ]
        ],
        [
         "tm120801",
         "The Dirty Dozen",
         "MOVIE",
         "12 American military prisoners in World War II are ordered to infiltrate a well-guarded enemy château and kill the Nazi officers vacationing there. The soldiers, most of whom are facing death sentences for a variety of violent crimes, agree to the mission and the possible commuting of their sentences.",
         1967,
         "TV-MA",
         150,
         "['war', 'action']",
         "['GB', 'US']",
         0,
         "tt0061578",
         7.7,
         100,
         20.398,
         7.6,
         [
          "war",
          "action"
         ],
         [
          "GB",
          "US"
         ]
        ],
        [
         "ts22164",
         "Monty Python's Flying Circus",
         "SHOW",
         "A British sketch comedy series with the shows being composed of surreality, risqué or innuendo-laden humour, sight gags and observational sketches without punchlines.",
         1969,
         "TV-14",
         30,
         "['comedy', 'european']",
         "['GB']",
         1,
         "tt0063929",
         8.8,
         100,
         17.617,
         8.306,
         [
          "comedy",
          "european"
         ],
         [
          "GB"
         ]
        ],
        [
         "tm70993",
         "Life of Brian",
         "MOVIE",
         "Brian Cohen is an average young Jewish man, but through a series of ridiculous events, he gains a reputation as the Messiah. When he's not dodging his followers or being scolded by his shrill mother, the hapless Brian has to contend with the pompous Pontius Pilate and acronym-obsessed members of a separatist movement. Rife with Monty Python's signature absurdity, the tale finds Brian's life paralleling Biblical lore, albeit with many more laughs.",
         1979,
         "R",
         94,
         "['comedy']",
         "['GB']",
         0,
         "tt0079470",
         8.0,
         100,
         17.77,
         7.8,
         [
          "comedy"
         ],
         [
          "GB"
         ]
        ],
        [
         "tm14873",
         "Dirty Harry",
         "MOVIE",
         "When a madman dubbed 'Scorpio' terrorizes San Francisco, hard-nosed cop, Harry Callahan – famous for his take-no-prisoners approach to law enforcement – is tasked with hunting down the psychopath. Harry eventually collars Scorpio in the process of rescuing a kidnap victim, only to see him walk on technicalities. Now, the maverick detective is determined to nail the maniac himself.",
         1971,
         "R",
         102,
         "['thriller', 'action', 'crime']",
         "['US']",
         0,
         "tt0066999",
         7.7,
         100,
         12.817,
         7.5,
         [
          "thriller",
          "action",
          "crime"
         ],
         [
          "US"
         ]
        ],
        [
         "tm119281",
         "Bonnie and Clyde",
         "MOVIE",
         "In the 1930s, bored waitress Bonnie Parker falls in love with an ex-con named Clyde Barrow and together they start a violent crime spree through the country, stealing cars and robbing banks.",
         1967,
         "R",
         110,
         "['crime', 'drama', 'action']",
         "['US']",
         0,
         "tt0061418",
         7.7,
         100,
         15.687,
         7.5,
         [
          "crime",
          "drama",
          "action"
         ],
         [
          "US"
         ]
        ],
        [
         "tm98978",
         "The Blue Lagoon",
         "MOVIE",
         "Two small children and a ship's cook survive a shipwreck and find safety on an idyllic tropical island. Soon, however, the cook dies and the young boy and girl are left on their own. Days become years and Emmeline and Richard make a home for themselves surrounded by exotic creatures and nature's beauty. But will they ever see civilization again?",
         1980,
         "R",
         104,
         "['romance', 'action', 'drama']",
         "['US']",
         0,
         "tt0080453",
         5.8,
         100,
         50.324,
         6.156,
         [
          "romance",
          "action",
          "drama"
         ],
         [
          "US"
         ]
        ],
        [
         "tm44204",
         "The Guns of Navarone",
         "MOVIE",
         "A team of allied saboteurs are assigned an impossible mission: infiltrate an impregnable Nazi-held island and destroy the two enormous long-range field guns that prevent the rescue of 2,000 trapped British soldiers.",
         1961,
         "TV-MA",
         158,
         "['action', 'drama', 'war']",
         "['GB', 'US']",
         0,
         "tt0054953",
         7.5,
         100,
         13.844,
         7.3,
         [
          "action",
          "drama",
          "war"
         ],
         [
          "GB",
          "US"
         ]
        ]
       ],
       "datasetInfos": [],
       "dbfsResultPath": null,
       "isJsonSchema": true,
       "metadata": {},
       "overflow": false,
       "plotOptions": {
        "customPlotOptions": {},
        "displayType": "table",
        "pivotAggregation": null,
        "pivotColumns": null,
        "xColumns": null,
        "yColumns": null
       },
       "removedWidgets": [],
       "schema": [
        {
         "metadata": "{}",
         "name": "id",
         "type": "\"string\""
        },
        {
         "metadata": "{}",
         "name": "title",
         "type": "\"string\""
        },
        {
         "metadata": "{}",
         "name": "type",
         "type": "\"string\""
        },
        {
         "metadata": "{}",
         "name": "description",
         "type": "\"string\""
        },
        {
         "metadata": "{}",
         "name": "release_year",
         "type": "\"integer\""
        },
        {
         "metadata": "{}",
         "name": "age_certification",
         "type": "\"string\""
        },
        {
         "metadata": "{}",
         "name": "runtime",
         "type": "\"integer\""
        },
        {
         "metadata": "{}",
         "name": "genres",
         "type": "\"string\""
        },
        {
         "metadata": "{}",
         "name": "production_countries",
         "type": "\"string\""
        },
        {
         "metadata": "{}",
         "name": "seasons",
         "type": "\"integer\""
        },
        {
         "metadata": "{}",
         "name": "imdb_id",
         "type": "\"string\""
        },
        {
         "metadata": "{}",
         "name": "imdb_score",
         "type": "\"double\""
        },
        {
         "metadata": "{}",
         "name": "imdb_votes",
         "type": "\"integer\""
        },
        {
         "metadata": "{}",
         "name": "tmdb_popularity",
         "type": "\"double\""
        },
        {
         "metadata": "{}",
         "name": "tmdb_score",
         "type": "\"double\""
        },
        {
         "metadata": "{}",
         "name": "genres_array",
         "type": "{\"containsNull\":true,\"elementType\":\"string\",\"type\":\"array\"}"
        },
        {
         "metadata": "{}",
         "name": "countries_array",
         "type": "{\"containsNull\":true,\"elementType\":\"string\",\"type\":\"array\"}"
        }
       ],
       "type": "table"
      }
     },
     "output_type": "display_data"
    }
   ],
   "source": [
    "display(titles_df.limit(10))"
   ]
  },
  {
   "cell_type": "code",
   "execution_count": 0,
   "metadata": {
    "application/vnd.databricks.v1+cell": {
     "cellMetadata": {
      "byteLimit": 2048000,
      "rowLimit": 10000
     },
     "inputWidgets": {},
     "nuid": "c97ab474-c85c-496c-a73e-2e7e725e9f20",
     "showTitle": false,
     "tableResultSettingsMap": {},
     "title": ""
    }
   },
   "outputs": [
    {
     "output_type": "stream",
     "name": "stdout",
     "output_type": "stream",
     "text": [
      "+--------+-----+\n|      id|count|\n+--------+-----+\n| tm32982|  208|\n|tm244149|  174|\n| tm39888|  161|\n|tm158304|  138|\n|tm467467|  138|\n|tm155787|  136|\n|tm111828|  129|\n|tm979026|  127|\n|tm191110|  118|\n| tm60292|  116|\n|tm845437|  116|\n| tm41792|  113|\n| tm24088|  110|\n| tm88045|  108|\n|tm204163|  105|\n|tm172683|  102|\n|tm244174|   99|\n|tm315344|   98|\n| tm58382|   98|\n|tm191013|   96|\n+--------+-----+\nonly showing top 20 rows\n+-------+---------+------------------+\n|summary|       id|             count|\n+-------+---------+------------------+\n|  count|     5489|              5489|\n|    min|tm1000037|                 1|\n|    25%|     NULL|                 5|\n|    50%|     NULL|                10|\n|    75%|     NULL|                18|\n|    max|    ts987|               208|\n|   mean|     NULL|14.173984332300966|\n+-------+---------+------------------+\n\n"
     ]
    }
   ],
   "source": [
    "credits_df.groupBy(\"id\").count().orderBy(\"count\", ascending=False).show()\n",
    "credits_df.groupBy(\"id\").count().summary(\"count\", \"min\", \"25%\", \"50%\", \"75%\", \"max\", \"mean\").show()"
   ]
  },
  {
   "cell_type": "markdown",
   "metadata": {
    "application/vnd.databricks.v1+cell": {
     "cellMetadata": {
      "byteLimit": 2048000,
      "rowLimit": 10000
     },
     "inputWidgets": {},
     "nuid": "6f8d943b-7280-4b6e-95de-d85c1bcf953a",
     "showTitle": false,
     "tableResultSettingsMap": {},
     "title": ""
    }
   },
   "source": [
    "### Salting"
   ]
  },
  {
   "cell_type": "code",
   "execution_count": 0,
   "metadata": {
    "application/vnd.databricks.v1+cell": {
     "cellMetadata": {
      "byteLimit": 2048000,
      "rowLimit": 10000
     },
     "inputWidgets": {},
     "nuid": "59f45750-139c-4f70-9f65-e9f90d209215",
     "showTitle": true,
     "tableResultSettingsMap": {},
     "title": "Identifying top skewed keys"
    }
   },
   "outputs": [],
   "source": [
    "skewed_keys_df = credits_df.groupBy(\"id\").count().filter(\"count > 100\")\n",
    "skewed_ids = [row[\"id\"] for row in skewed_keys_df.collect()]"
   ]
  },
  {
   "cell_type": "code",
   "execution_count": 0,
   "metadata": {
    "application/vnd.databricks.v1+cell": {
     "cellMetadata": {
      "byteLimit": 2048000,
      "rowLimit": 10000
     },
     "inputWidgets": {},
     "nuid": "f20fe6e5-bce9-4072-83d1-cd82958ff829",
     "showTitle": false,
     "tableResultSettingsMap": {},
     "title": ""
    }
   },
   "outputs": [],
   "source": [
    "from pyspark.sql.functions import concat_ws, floor, rand\n",
    "\n",
    "credits_salted = credits_df.withColumn(\"original_id\", col(\"id\")).withColumn(\n",
    "    \"id_salted\",\n",
    "    when(\n",
    "        col(\"id\").isin(skewed_ids),\n",
    "        concat_ws(\"_\", col(\"id\"), floor(rand(seed=68) * 10).cast(\"int\"))\n",
    "    ).otherwise(col(\"id\"))\n",
    ")\n",
    "\n",
    "credits_salted = credits_salted.alias(\"credits\")\n"
   ]
  },
  {
   "cell_type": "code",
   "execution_count": 0,
   "metadata": {
    "application/vnd.databricks.v1+cell": {
     "cellMetadata": {
      "byteLimit": 2048000,
      "rowLimit": 10000
     },
     "inputWidgets": {},
     "nuid": "1ed11159-971b-495f-a70a-1c29e648f70c",
     "showTitle": false,
     "tableResultSettingsMap": {},
     "title": ""
    }
   },
   "outputs": [],
   "source": [
    "from pyspark.sql.functions import explode, sequence, lit\n",
    "\n",
    "titles_skewed = titles_df.filter(col(\"id\").isin(skewed_ids))\n",
    "titles_not_skewed = titles_df.filter(~col(\"id\").isin(skewed_ids))\n",
    "\n",
    "titles_salted = titles_skewed.withColumn(\n",
    "    \"salt\", explode(sequence(lit(0), lit(9)))\n",
    ").withColumn(\n",
    "    \"id_salted\", concat_ws(\"_\", col(\"id\"), col(\"salt\"))\n",
    ").drop(\"salt\")\n",
    "\n",
    "titles_not_skewed = titles_not_skewed.withColumn(\"id_salted\", col(\"id\"))\n",
    "\n",
    "titles_salted_final = titles_salted.unionByName(titles_not_skewed)\n",
    "\n",
    "titles_salted_final = titles_salted_final.alias(\"titles\")\n"
   ]
  },
  {
   "cell_type": "code",
   "execution_count": 0,
   "metadata": {
    "application/vnd.databricks.v1+cell": {
     "cellMetadata": {
      "byteLimit": 2048000,
      "rowLimit": 10000
     },
     "inputWidgets": {},
     "nuid": "a4d18825-a626-4cff-863d-3a44826c0bc2",
     "showTitle": false,
     "tableResultSettingsMap": {},
     "title": ""
    }
   },
   "outputs": [],
   "source": [
    "joined_df = credits_salted.join(\n",
    "    titles_salted_final,\n",
    "    on=\"id_salted\",\n",
    "    how=\"inner\"\n",
    ").select(\n",
    "    col(\"credits.original_id\").alias(\"credit_id\"),\n",
    "    col(\"credits.name\"),\n",
    "    col(\"credits.role\"),\n",
    "    col(\"titles.title\"),\n",
    "    col(\"titles.type\"),\n",
    "    col(\"titles.release_year\")\n",
    ")\n"
   ]
  },
  {
   "cell_type": "code",
   "execution_count": 0,
   "metadata": {
    "application/vnd.databricks.v1+cell": {
     "cellMetadata": {
      "byteLimit": 2048000,
      "rowLimit": 10000
     },
     "inputWidgets": {},
     "nuid": "2cb51abe-1bbd-4ef6-b164-d01a63e9b66f",
     "showTitle": false,
     "tableResultSettingsMap": {},
     "title": ""
    }
   },
   "outputs": [
    {
     "output_type": "stream",
     "name": "stdout",
     "output_type": "stream",
     "text": [
      "+---------+---------------+-----+-----------+-----+------------+\n|credit_id|name           |role |title      |type |release_year|\n+---------+---------------+-----+-----------+-----+------------+\n|tm84618  |Robert De Niro |ACTOR|Taxi Driver|MOVIE|1976        |\n|tm84618  |Jodie Foster   |ACTOR|Taxi Driver|MOVIE|1976        |\n|tm84618  |Albert Brooks  |ACTOR|Taxi Driver|MOVIE|1976        |\n|tm84618  |Harvey Keitel  |ACTOR|Taxi Driver|MOVIE|1976        |\n|tm84618  |Cybill Shepherd|ACTOR|Taxi Driver|MOVIE|1976        |\n|tm84618  |Peter Boyle    |ACTOR|Taxi Driver|MOVIE|1976        |\n|tm84618  |Leonard Harris |ACTOR|Taxi Driver|MOVIE|1976        |\n|tm84618  |Diahnne Abbott |ACTOR|Taxi Driver|MOVIE|1976        |\n|tm84618  |Gino Ardito    |ACTOR|Taxi Driver|MOVIE|1976        |\n|tm84618  |Martin Scorsese|ACTOR|Taxi Driver|MOVIE|1976        |\n+---------+---------------+-----+-----------+-----+------------+\nonly showing top 10 rows\n"
     ]
    }
   ],
   "source": [
    "joined_df.show(10, truncate=False)"
   ]
  },
  {
   "cell_type": "code",
   "execution_count": 0,
   "metadata": {
    "application/vnd.databricks.v1+cell": {
     "cellMetadata": {
      "byteLimit": 2048000,
      "rowLimit": 10000
     },
     "inputWidgets": {},
     "nuid": "e5bdee05-f2a8-4f12-828d-e38ae06e0604",
     "showTitle": false,
     "tableResultSettingsMap": {},
     "title": ""
    }
   },
   "outputs": [
    {
     "output_type": "stream",
     "name": "stdout",
     "output_type": "stream",
     "text": [
      "+---------+---------+--------------------+--------------------+--------+----------+\n|person_id|       id|                name|           character|    role|actor_rank|\n+---------+---------+--------------------+--------------------+--------+----------+\n|  1279270|tm1000037|           Aziz Dyab|               Yusuf|   ACTOR|         1|\n|    61651|tm1000147|        Olwen Fouéré|              Royale|   ACTOR|         1|\n|  1094198| tm100015|         Isa Briones|              Sunday|   ACTOR|         1|\n|  1793832|tm1000166|        Saron Sakina|                 N/A|DIRECTOR|         1|\n|   160320|tm1000185|Sebastian Stankie...|             Wiesiek|   ACTOR|         1|\n|   219025| tm100027| Maya-Gozel Aimedova|episode (uncredited)|   ACTOR|         1|\n|  1658977|tm1000296|           Zhang Zhe| young Nezha (voice)|   ACTOR|         1|\n|  1054158|tm1000551|     Suliman Ibrahim|               Somto|   ACTOR|         1|\n|  2058257|tm1000599|Ehuana Yaira Yano...|                Self|   ACTOR|         1|\n|    45431|tm1000619|             Prabhas|        Vikramaditya|   ACTOR|         1|\n|    59914|tm1000797|         Anne Suzuki|         Yu Nagasawa|   ACTOR|         1|\n|   257087| tm100106|           Kaye Abad|         The Teacher|   ACTOR|         1|\n|    64477|tm1001095|        Sumit Gulati|   Unknown Character|   ACTOR|         1|\n|  1009071|tm1001097|         Joey Bada$$|               Sammy|   ACTOR|         1|\n|    15774|tm1001108|          Sean Combs|Self - aka Puff D...|   ACTOR|         1|\n|  1591570|tm1001267|    Regina Shchukina|  Stepmother (voice)|   ACTOR|         1|\n|  1177846|tm1001619|          LULU Huang|               Ya-Ya|   ACTOR|         1|\n|  1804815|tm1002408| Nono Jannik Konopka| Nono Jannik Konopka|   ACTOR|         1|\n|   873432|tm1002815|Taylor Belle Pute...|       Young Natacha|   ACTOR|         1|\n|     5146|tm1002869|         David Spade|         Self - Host|   ACTOR|         1|\n+---------+---------+--------------------+--------------------+--------+----------+\nonly showing top 20 rows\n"
     ]
    }
   ],
   "source": [
    "from pyspark.sql.window import Window\n",
    "w = Window.partitionBy(\"id\").orderBy(desc(\"character\"))\n",
    "\n",
    "credits_df.withColumn(\"actor_rank\", row_number().over(w)).filter(\"actor_rank = 1\").show()"
   ]
  },
  {
   "cell_type": "code",
   "execution_count": 0,
   "metadata": {
    "application/vnd.databricks.v1+cell": {
     "cellMetadata": {
      "byteLimit": 2048000,
      "rowLimit": 10000
     },
     "inputWidgets": {},
     "nuid": "faa02f84-36b4-427e-9fca-1cff0d5db2f7",
     "showTitle": true,
     "tableResultSettingsMap": {},
     "title": "Age Certification Count by Title Type"
    }
   },
   "outputs": [
    {
     "output_type": "display_data",
     "data": {
      "text/html": [
       "<style scoped>\n",
       "  .table-result-container {\n",
       "    max-height: 300px;\n",
       "    overflow: auto;\n",
       "  }\n",
       "  table, th, td {\n",
       "    border: 1px solid black;\n",
       "    border-collapse: collapse;\n",
       "  }\n",
       "  th, td {\n",
       "    padding: 5px;\n",
       "  }\n",
       "  th {\n",
       "    text-align: left;\n",
       "  }\n",
       "</style><div class='table-result-container'><table class='table-result'><thead style='background-color: white'><tr><th>type</th><th>G</th><th>NC-17</th><th>PG</th><th>PG-13</th><th>R</th><th>TV-14</th><th>TV-G</th><th>TV-MA</th><th>TV-PG</th><th>TV-Y</th><th>TV-Y7</th><th>['action', 'animation', 'comedy', 'family']</th><th>['animation', 'comedy', 'family', 'music', 'fantasy', 'european']</th><th>['comedy', 'drama', 'romance']</th><th>['comedy']</th><th>['drama', 'comedy', 'reality']</th><th>['drama', 'comedy']</th><th>['drama', 'fantasy', 'romance']</th><th>['drama', 'romance']</th><th>['drama', 'scifi', 'thriller', 'european']</th><th>['drama']</th><th>['scifi', 'drama', 'animation', 'music']</th><th>['scifi', 'fantasy', 'comedy', 'drama']</th></tr></thead><tbody><tr><td> classmates and the media follow his every move. He meets Chen Qing Qing</td><td>null</td><td>null</td><td>null</td><td>null</td><td>null</td><td>1</td><td>null</td><td>null</td><td>null</td><td>null</td><td>null</td><td>null</td><td>null</td><td>null</td><td>null</td><td>null</td><td>null</td><td>null</td><td>null</td><td>null</td><td>null</td><td>null</td><td>null</td></tr><tr><td>2019</td><td>null</td><td>null</td><td>null</td><td>null</td><td>null</td><td>null</td><td>null</td><td>null</td><td>null</td><td>null</td><td>null</td><td>null</td><td>null</td><td>null</td><td>null</td><td>null</td><td>null</td><td>null</td><td>null</td><td>null</td><td>null</td><td>1</td><td>null</td></tr><tr><td>2017</td><td>null</td><td>null</td><td>null</td><td>null</td><td>null</td><td>null</td><td>null</td><td>null</td><td>null</td><td>null</td><td>null</td><td>null</td><td>null</td><td>null</td><td>null</td><td>null</td><td>null</td><td>1</td><td>null</td><td>null</td><td>null</td><td>null</td><td>null</td></tr><tr><td> cast out of the pod. They know there's only one way they will be allowed to rejoin the pod: They must get legs</td><td>null</td><td>null</td><td>null</td><td>null</td><td>null</td><td>null</td><td>1</td><td>null</td><td>null</td><td>null</td><td>null</td><td>null</td><td>null</td><td>null</td><td>null</td><td>null</td><td>null</td><td>null</td><td>null</td><td>null</td><td>null</td><td>null</td><td>null</td></tr><tr><td>MOVIE</td><td>100</td><td>14</td><td>220</td><td>421</td><td>511</td><td>null</td><td>null</td><td>2083</td><td>null</td><td>null</td><td>null</td><td>null</td><td>null</td><td>null</td><td>null</td><td>null</td><td>null</td><td>null</td><td>null</td><td>null</td><td>null</td><td>null</td><td>null</td></tr><tr><td> two courts</td><td>null</td><td>null</td><td>null</td><td>null</td><td>null</td><td>null</td><td>null</td><td>1</td><td>null</td><td>null</td><td>null</td><td>null</td><td>null</td><td>null</td><td>null</td><td>null</td><td>null</td><td>null</td><td>null</td><td>null</td><td>null</td><td>null</td><td>null</td></tr><tr><td>SHOW</td><td>null</td><td>null</td><td>null</td><td>null</td><td>null</td><td>410</td><td>66</td><td>1015</td><td>165</td><td>95</td><td>104</td><td>null</td><td>null</td><td>null</td><td>null</td><td>null</td><td>null</td><td>null</td><td>null</td><td>null</td><td>null</td><td>null</td><td>null</td></tr><tr><td>2010</td><td>null</td><td>null</td><td>null</td><td>null</td><td>null</td><td>null</td><td>null</td><td>null</td><td>null</td><td>null</td><td>null</td><td>1</td><td>null</td><td>null</td><td>null</td><td>null</td><td>null</td><td>null</td><td>null</td><td>null</td><td>null</td><td>null</td><td>null</td></tr><tr><td>2022</td><td>null</td><td>null</td><td>null</td><td>null</td><td>null</td><td>null</td><td>null</td><td>null</td><td>null</td><td>null</td><td>null</td><td>null</td><td>null</td><td>null</td><td>null</td><td>null</td><td>null</td><td>null</td><td>null</td><td>null</td><td>1</td><td>null</td><td>null</td></tr><tr><td>2015</td><td>null</td><td>null</td><td>null</td><td>null</td><td>null</td><td>null</td><td>null</td><td>null</td><td>null</td><td>null</td><td>null</td><td>null</td><td>null</td><td>null</td><td>null</td><td>null</td><td>null</td><td>null</td><td>null</td><td>null</td><td>null</td><td>null</td><td>1</td></tr><tr><td> as of May 2008</td><td>null</td><td>null</td><td>null</td><td>null</td><td>null</td><td>null</td><td>null</td><td>1</td><td>null</td><td>null</td><td>null</td><td>null</td><td>null</td><td>null</td><td>null</td><td>null</td><td>null</td><td>null</td><td>null</td><td>null</td><td>null</td><td>null</td><td>null</td></tr><tr><td>1998</td><td>null</td><td>null</td><td>null</td><td>null</td><td>null</td><td>null</td><td>null</td><td>null</td><td>null</td><td>null</td><td>null</td><td>null</td><td>null</td><td>null</td><td>1</td><td>null</td><td>null</td><td>null</td><td>null</td><td>null</td><td>null</td><td>null</td><td>null</td></tr><tr><td> after all. A booming out-of-home babysitting business quickly becomes the answer to their empty-pocket problems</td><td>null</td><td>null</td><td>null</td><td>null</td><td>null</td><td>null</td><td>1</td><td>null</td><td>null</td><td>null</td><td>null</td><td>null</td><td>null</td><td>null</td><td>null</td><td>null</td><td>null</td><td>null</td><td>null</td><td>null</td><td>null</td><td>null</td><td>null</td></tr><tr><td> and they are about to discover the cruel fate that awaits the children living at Grace Field</td><td>null</td><td>null</td><td>null</td><td>null</td><td>null</td><td>null</td><td>null</td><td>1</td><td>null</td><td>null</td><td>null</td><td>null</td><td>null</td><td>null</td><td>null</td><td>null</td><td>null</td><td>null</td><td>null</td><td>null</td><td>null</td><td>null</td><td>null</td></tr><tr><td>2006</td><td>null</td><td>null</td><td>null</td><td>null</td><td>null</td><td>null</td><td>null</td><td>null</td><td>null</td><td>null</td><td>null</td><td>null</td><td>1</td><td>null</td><td>null</td><td>null</td><td>null</td><td>null</td><td>null</td><td>null</td><td>null</td><td>null</td><td>null</td></tr><tr><td>2018</td><td>null</td><td>null</td><td>null</td><td>null</td><td>null</td><td>null</td><td>null</td><td>null</td><td>null</td><td>null</td><td>null</td><td>null</td><td>null</td><td>null</td><td>null</td><td>1</td><td>null</td><td>null</td><td>null</td><td>null</td><td>null</td><td>null</td><td>null</td></tr><tr><td>2011</td><td>null</td><td>null</td><td>null</td><td>null</td><td>null</td><td>null</td><td>null</td><td>null</td><td>null</td><td>null</td><td>null</td><td>null</td><td>null</td><td>1</td><td>null</td><td>null</td><td>null</td><td>null</td><td>null</td><td>1</td><td>null</td><td>null</td><td>null</td></tr><tr><td>2020</td><td>null</td><td>null</td><td>null</td><td>null</td><td>null</td><td>null</td><td>null</td><td>null</td><td>null</td><td>null</td><td>null</td><td>null</td><td>null</td><td>null</td><td>null</td><td>null</td><td>null</td><td>null</td><td>1</td><td>null</td><td>null</td><td>null</td><td>null</td></tr><tr><td>2001</td><td>null</td><td>null</td><td>null</td><td>null</td><td>null</td><td>null</td><td>null</td><td>null</td><td>null</td><td>null</td><td>null</td><td>null</td><td>null</td><td>null</td><td>null</td><td>null</td><td>1</td><td>null</td><td>null</td><td>null</td><td>null</td><td>null</td><td>null</td></tr></tbody></table></div>"
      ]
     },
     "metadata": {
      "application/vnd.databricks.v1+output": {
       "addedWidgets": {},
       "aggData": [],
       "aggError": "",
       "aggOverflow": false,
       "aggSchema": [],
       "aggSeriesLimitReached": false,
       "aggType": "",
       "arguments": {},
       "columnCustomDisplayInfos": {},
       "data": [
        [
         " classmates and the media follow his every move. He meets Chen Qing Qing",
         null,
         null,
         null,
         null,
         null,
         1,
         null,
         null,
         null,
         null,
         null,
         null,
         null,
         null,
         null,
         null,
         null,
         null,
         null,
         null,
         null,
         null,
         null
        ],
        [
         "2019",
         null,
         null,
         null,
         null,
         null,
         null,
         null,
         null,
         null,
         null,
         null,
         null,
         null,
         null,
         null,
         null,
         null,
         null,
         null,
         null,
         null,
         1,
         null
        ],
        [
         "2017",
         null,
         null,
         null,
         null,
         null,
         null,
         null,
         null,
         null,
         null,
         null,
         null,
         null,
         null,
         null,
         null,
         null,
         1,
         null,
         null,
         null,
         null,
         null
        ],
        [
         " cast out of the pod. They know there's only one way they will be allowed to rejoin the pod: They must get legs",
         null,
         null,
         null,
         null,
         null,
         null,
         1,
         null,
         null,
         null,
         null,
         null,
         null,
         null,
         null,
         null,
         null,
         null,
         null,
         null,
         null,
         null,
         null
        ],
        [
         "MOVIE",
         100,
         14,
         220,
         421,
         511,
         null,
         null,
         2083,
         null,
         null,
         null,
         null,
         null,
         null,
         null,
         null,
         null,
         null,
         null,
         null,
         null,
         null,
         null
        ],
        [
         " two courts",
         null,
         null,
         null,
         null,
         null,
         null,
         null,
         1,
         null,
         null,
         null,
         null,
         null,
         null,
         null,
         null,
         null,
         null,
         null,
         null,
         null,
         null,
         null
        ],
        [
         "SHOW",
         null,
         null,
         null,
         null,
         null,
         410,
         66,
         1015,
         165,
         95,
         104,
         null,
         null,
         null,
         null,
         null,
         null,
         null,
         null,
         null,
         null,
         null,
         null
        ],
        [
         "2010",
         null,
         null,
         null,
         null,
         null,
         null,
         null,
         null,
         null,
         null,
         null,
         1,
         null,
         null,
         null,
         null,
         null,
         null,
         null,
         null,
         null,
         null,
         null
        ],
        [
         "2022",
         null,
         null,
         null,
         null,
         null,
         null,
         null,
         null,
         null,
         null,
         null,
         null,
         null,
         null,
         null,
         null,
         null,
         null,
         null,
         null,
         1,
         null,
         null
        ],
        [
         "2015",
         null,
         null,
         null,
         null,
         null,
         null,
         null,
         null,
         null,
         null,
         null,
         null,
         null,
         null,
         null,
         null,
         null,
         null,
         null,
         null,
         null,
         null,
         1
        ],
        [
         " as of May 2008",
         null,
         null,
         null,
         null,
         null,
         null,
         null,
         1,
         null,
         null,
         null,
         null,
         null,
         null,
         null,
         null,
         null,
         null,
         null,
         null,
         null,
         null,
         null
        ],
        [
         "1998",
         null,
         null,
         null,
         null,
         null,
         null,
         null,
         null,
         null,
         null,
         null,
         null,
         null,
         null,
         1,
         null,
         null,
         null,
         null,
         null,
         null,
         null,
         null
        ],
        [
         " after all. A booming out-of-home babysitting business quickly becomes the answer to their empty-pocket problems",
         null,
         null,
         null,
         null,
         null,
         null,
         1,
         null,
         null,
         null,
         null,
         null,
         null,
         null,
         null,
         null,
         null,
         null,
         null,
         null,
         null,
         null,
         null
        ],
        [
         " and they are about to discover the cruel fate that awaits the children living at Grace Field",
         null,
         null,
         null,
         null,
         null,
         null,
         null,
         1,
         null,
         null,
         null,
         null,
         null,
         null,
         null,
         null,
         null,
         null,
         null,
         null,
         null,
         null,
         null
        ],
        [
         "2006",
         null,
         null,
         null,
         null,
         null,
         null,
         null,
         null,
         null,
         null,
         null,
         null,
         1,
         null,
         null,
         null,
         null,
         null,
         null,
         null,
         null,
         null,
         null
        ],
        [
         "2018",
         null,
         null,
         null,
         null,
         null,
         null,
         null,
         null,
         null,
         null,
         null,
         null,
         null,
         null,
         null,
         1,
         null,
         null,
         null,
         null,
         null,
         null,
         null
        ],
        [
         "2011",
         null,
         null,
         null,
         null,
         null,
         null,
         null,
         null,
         null,
         null,
         null,
         null,
         null,
         1,
         null,
         null,
         null,
         null,
         null,
         1,
         null,
         null,
         null
        ],
        [
         "2020",
         null,
         null,
         null,
         null,
         null,
         null,
         null,
         null,
         null,
         null,
         null,
         null,
         null,
         null,
         null,
         null,
         null,
         null,
         1,
         null,
         null,
         null,
         null
        ],
        [
         "2001",
         null,
         null,
         null,
         null,
         null,
         null,
         null,
         null,
         null,
         null,
         null,
         null,
         null,
         null,
         null,
         null,
         1,
         null,
         null,
         null,
         null,
         null,
         null
        ]
       ],
       "datasetInfos": [],
       "dbfsResultPath": null,
       "isJsonSchema": true,
       "metadata": {},
       "overflow": false,
       "plotOptions": {
        "customPlotOptions": {},
        "displayType": "table",
        "pivotAggregation": null,
        "pivotColumns": null,
        "xColumns": null,
        "yColumns": null
       },
       "removedWidgets": [],
       "schema": [
        {
         "metadata": "{}",
         "name": "type",
         "type": "\"string\""
        },
        {
         "metadata": "{}",
         "name": "G",
         "type": "\"long\""
        },
        {
         "metadata": "{}",
         "name": "NC-17",
         "type": "\"long\""
        },
        {
         "metadata": "{}",
         "name": "PG",
         "type": "\"long\""
        },
        {
         "metadata": "{}",
         "name": "PG-13",
         "type": "\"long\""
        },
        {
         "metadata": "{}",
         "name": "R",
         "type": "\"long\""
        },
        {
         "metadata": "{}",
         "name": "TV-14",
         "type": "\"long\""
        },
        {
         "metadata": "{}",
         "name": "TV-G",
         "type": "\"long\""
        },
        {
         "metadata": "{}",
         "name": "TV-MA",
         "type": "\"long\""
        },
        {
         "metadata": "{}",
         "name": "TV-PG",
         "type": "\"long\""
        },
        {
         "metadata": "{}",
         "name": "TV-Y",
         "type": "\"long\""
        },
        {
         "metadata": "{}",
         "name": "TV-Y7",
         "type": "\"long\""
        },
        {
         "metadata": "{}",
         "name": "['action', 'animation', 'comedy', 'family']",
         "type": "\"long\""
        },
        {
         "metadata": "{}",
         "name": "['animation', 'comedy', 'family', 'music', 'fantasy', 'european']",
         "type": "\"long\""
        },
        {
         "metadata": "{}",
         "name": "['comedy', 'drama', 'romance']",
         "type": "\"long\""
        },
        {
         "metadata": "{}",
         "name": "['comedy']",
         "type": "\"long\""
        },
        {
         "metadata": "{}",
         "name": "['drama', 'comedy', 'reality']",
         "type": "\"long\""
        },
        {
         "metadata": "{}",
         "name": "['drama', 'comedy']",
         "type": "\"long\""
        },
        {
         "metadata": "{}",
         "name": "['drama', 'fantasy', 'romance']",
         "type": "\"long\""
        },
        {
         "metadata": "{}",
         "name": "['drama', 'romance']",
         "type": "\"long\""
        },
        {
         "metadata": "{}",
         "name": "['drama', 'scifi', 'thriller', 'european']",
         "type": "\"long\""
        },
        {
         "metadata": "{}",
         "name": "['drama']",
         "type": "\"long\""
        },
        {
         "metadata": "{}",
         "name": "['scifi', 'drama', 'animation', 'music']",
         "type": "\"long\""
        },
        {
         "metadata": "{}",
         "name": "['scifi', 'fantasy', 'comedy', 'drama']",
         "type": "\"long\""
        }
       ],
       "type": "table"
      }
     },
     "output_type": "display_data"
    }
   ],
   "source": [
    "titles_df.groupBy(\"type\").pivot(\"age_certification\").agg(count(lit(1))).display()"
   ]
  }
 ],
 "metadata": {
  "application/vnd.databricks.v1+notebook": {
   "computePreferences": null,
   "dashboards": [],
   "environmentMetadata": {
    "base_environment": "",
    "environment_version": "2"
   },
   "inputWidgetPreferences": null,
   "language": "python",
   "notebookMetadata": {
    "pythonIndentUnit": 4
   },
   "notebookName": "Netflix",
   "widgets": {}
  },
  "language_info": {
   "name": "python"
  }
 },
 "nbformat": 4,
 "nbformat_minor": 0
}