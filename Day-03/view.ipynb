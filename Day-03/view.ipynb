{
 "cells": [
  {
   "cell_type": "code",
   "execution_count": 1,
   "id": "0a3bc6e1",
   "metadata": {},
   "outputs": [],
   "source": [
    "from proc_conn import load_db_connection, logging, pymysql"
   ]
  },
  {
   "cell_type": "code",
   "execution_count": 19,
   "id": "ee5aacad",
   "metadata": {},
   "outputs": [
    {
     "name": "stderr",
     "output_type": "stream",
     "text": [
      "2025-06-09 17:35:37,232 - INFO - Connected to the database successfully\n"
     ]
    },
    {
     "name": "stderr",
     "output_type": "stream",
     "text": [
      "2025-06-09 17:35:37,252 - INFO - Query executed with no result set: CREATE OR REPLACE VIEW emp_basic_view AS SELECT eid,deptid, ename, salary FROM emp\n",
      "2025-06-09 17:35:37,257 - INFO - Query executed with no result set: CREATE OR REPLACE VIEW emp_dept_view AS SELECT e.eid, e.ename, e.salary, d.deptname FROM emp e JOIN dept d ON e.deptid = d.deptid\n",
      "2025-06-09 17:35:37,273 - INFO - Query executed with no result set: CREATE OR REPLACE VIEW avg_salary_dept AS  SELECT d.deptname, AVG(e.salary) AS avg_salary FROM emp e JOIN dept d ON e.deptid = d.deptid GROUP BY d.deptname\n",
      "2025-06-09 17:35:37,278 - INFO - Query returned result set: SELECT * from emp_basic_view limit 10\n",
      "2025-06-09 17:35:37,280 - INFO - Query executed with no result set: UPDATE emp_basic_view SET salary = 999 WHERE eid = 1\n",
      "2025-06-09 17:35:37,280 - INFO - Query returned result set: SELECT * from emp_basic_view limit 10\n",
      "2025-06-09 17:35:37,293 - INFO - Query executed with no result set: RENAME TABLE emp_dept_view TO join_view\n",
      "2025-06-09 17:35:37,294 - INFO - Query returned result set: show tables\n",
      "2025-06-09 17:35:37,312 - INFO - Query executed with no result set: Drop view join_view\n",
      "2025-06-09 17:35:37,313 - INFO - Query returned result set: show tables\n",
      "2025-06-09 17:35:37,319 - INFO - All queries executed successfully.\n"
     ]
    },
    {
     "name": "stdout",
     "output_type": "stream",
     "text": [
      "\n",
      "Results of query: 'SELECT * from emp_basic_view limit 10'\n",
      "(1, 1, 'a', 999)\n",
      "(2, 2, 'b', 1023)\n",
      "(3, 3, 'c', 23)\n",
      "(4, 3, 'd', 123)\n",
      "(5, 1, 'e', 122)\n",
      "(6, 3, 'f', 2023)\n",
      "(7, 1, 'g', 388)\n",
      "(8, 2, 'h', 523)\n",
      "(9, 1, 'i', 163)\n",
      "(10, 1, 'j', 752)\n",
      "\n",
      "Results of query: 'SELECT * from emp_basic_view limit 10'\n",
      "(1, 1, 'a', 999)\n",
      "(2, 2, 'b', 1023)\n",
      "(3, 3, 'c', 23)\n",
      "(4, 3, 'd', 123)\n",
      "(5, 1, 'e', 122)\n",
      "(6, 3, 'f', 2023)\n",
      "(7, 1, 'g', 388)\n",
      "(8, 2, 'h', 523)\n",
      "(9, 1, 'i', 163)\n",
      "(10, 1, 'j', 752)\n",
      "\n",
      "Results of query: 'show tables'\n",
      "('avg_salary_dept',)\n",
      "('courses',)\n",
      "('dept',)\n",
      "('emp',)\n",
      "('emp_basic_view',)\n",
      "('enrollments',)\n",
      "('join_view',)\n",
      "('students',)\n",
      "\n",
      "Results of query: 'show tables'\n",
      "('avg_salary_dept',)\n",
      "('courses',)\n",
      "('dept',)\n",
      "('emp',)\n",
      "('emp_basic_view',)\n",
      "('enrollments',)\n",
      "('students',)\n"
     ]
    }
   ],
   "source": [
    "conn = load_db_connection()\n",
    "\n",
    "if conn:\n",
    "    try:\n",
    "        queries = [\n",
    "            \"CREATE OR REPLACE VIEW emp_basic_view AS SELECT eid,deptid, ename, salary FROM emp\",\n",
    "            \"CREATE OR REPLACE VIEW emp_dept_view AS SELECT e.eid, e.ename, e.salary, d.deptname FROM emp e JOIN dept d ON e.deptid = d.deptid\",\n",
    "            \"CREATE OR REPLACE VIEW avg_salary_dept AS  SELECT d.deptname, AVG(e.salary) AS avg_salary FROM emp e JOIN dept d ON e.deptid = d.deptid GROUP BY d.deptname\",\n",
    "            \"SELECT * from emp_basic_view limit 10\",\n",
    "            \"UPDATE emp_basic_view SET salary = 999 WHERE eid = 1\",\n",
    "            \"SELECT * from emp_basic_view limit 10\",\n",
    "            \"RENAME TABLE emp_dept_view TO join_view\",\n",
    "            \"show tables\",\n",
    "            \"Drop view join_view\",\n",
    "            \"show tables\"\n",
    "        ]\n",
    "        \n",
    "        with conn.cursor() as cursor:\n",
    "            for query in queries:\n",
    "                cursor.execute(query)\n",
    "                \n",
    "                if cursor.description:\n",
    "                    results = cursor.fetchall()\n",
    "                    print(f\"\\nResults of query: '{query}'\")\n",
    "                    for row in results:\n",
    "                        print(row)\n",
    "                    logging.info(f\"Query returned result set: {query}\")\n",
    "                else:\n",
    "                    logging.info(f\"Query executed with no result set: {query}\")\n",
    "\n",
    "            \n",
    "            conn.commit()\n",
    "            logging.info(\"All queries executed successfully.\")\n",
    "    \n",
    "    except pymysql.MySQLError as e:\n",
    "        logging.error(f\"Error executing queries: {e}\")\n",
    "    \n",
    "    finally:\n",
    "        conn.close()"
   ]
  }
 ],
 "metadata": {
  "kernelspec": {
   "display_name": "venv",
   "language": "python",
   "name": "python3"
  },
  "language_info": {
   "codemirror_mode": {
    "name": "ipython",
    "version": 3
   },
   "file_extension": ".py",
   "mimetype": "text/x-python",
   "name": "python",
   "nbconvert_exporter": "python",
   "pygments_lexer": "ipython3",
   "version": "3.12.10"
  }
 },
 "nbformat": 4,
 "nbformat_minor": 5
}
