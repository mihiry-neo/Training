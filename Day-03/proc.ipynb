{
 "cells": [
  {
   "cell_type": "code",
   "execution_count": 1,
   "id": "0a849337",
   "metadata": {},
   "outputs": [],
   "source": [
    "from proc_conn import db_main\n"
   ]
  },
  {
   "cell_type": "markdown",
   "id": "11323d1b",
   "metadata": {},
   "source": [
    "#### Employees with Salary Above Department Average"
   ]
  },
  {
   "cell_type": "code",
   "execution_count": null,
   "id": "91187edf",
   "metadata": {},
   "outputs": [
    {
     "name": "stderr",
     "output_type": "stream",
     "text": [
      "2025-06-09 16:06:00,285 - INFO - Connected to the database successfully\n"
     ]
    },
    {
     "name": "stderr",
     "output_type": "stream",
     "text": [
      "2025-06-09 16:06:00,301 - INFO - Query executed successfully.\n",
      "2025-06-09 16:06:00,301 - INFO - Called Stored Procedure `GetEmpAboveDeptAvgSalary` without parameters\n",
      "2025-06-09 16:06:00,301 - INFO - Stored Procedure `GetEmpAboveDeptAvgSalary` returned a result set\n",
      "2025-06-09 16:06:00,309 - INFO - Database connection closed.\n"
     ]
    },
    {
     "name": "stdout",
     "output_type": "stream",
     "text": [
      "    eid ename  salary  deptid    avg_sal\n",
      "0    22     v    9029       1  3855.8571\n",
      "1    23     w   20001       3  3814.2143\n",
      "2    24     x   28222       1  3855.8571\n",
      "3    25     y   19212       3  3814.2143\n",
      "4    26     z   12111       1  3855.8571\n",
      "5    28    a2    9238       1  3855.8571\n",
      "6    38    b3    4212       2  1540.7000\n",
      "7    39    b4    4444       3  3814.2143\n",
      "8    42    b7    6432       1  3855.8571\n",
      "9    43    b8    4532       2  1540.7000\n",
      "10   45    c1    2324       2  1540.7000\n"
     ]
    }
   ],
   "source": [
    "proc = \"\"\"\n",
    "CREATE PROCEDURE if not exists GetEmpAboveDeptAvgSalary()\n",
    "BEGIN\n",
    "    SELECT e.eid, e.ename, e.salary, e.deptid, avg_dept.avg_sal\n",
    "    FROM emp e\n",
    "    JOIN (\n",
    "        SELECT deptid, AVG(salary) AS avg_sal\n",
    "        FROM emp\n",
    "        GROUP BY deptid\n",
    "    ) avg_dept ON e.deptid = avg_dept.deptid\n",
    "    WHERE e.salary > avg_dept.avg_sal;\n",
    "END;\n",
    "\"\"\"\n",
    "\n",
    "result_df = db_main(proc, \"GetEmpAboveDeptAvgSalary\")\n",
    "print(result_df)\n"
   ]
  },
  {
   "cell_type": "markdown",
   "id": "4eb6068b",
   "metadata": {},
   "source": [
    "#### Department with Highest Average Salary"
   ]
  },
  {
   "cell_type": "code",
   "execution_count": 19,
   "id": "41ccd0b3",
   "metadata": {},
   "outputs": [
    {
     "name": "stderr",
     "output_type": "stream",
     "text": [
      "2025-06-09 16:14:48,192 - INFO - Connected to the database successfully\n"
     ]
    },
    {
     "name": "stderr",
     "output_type": "stream",
     "text": [
      "2025-06-09 16:14:48,204 - INFO - Query executed successfully.\n",
      "2025-06-09 16:14:48,213 - INFO - Called Stored Procedure `DeptwthHighAvgSal` without parameters\n",
      "2025-06-09 16:14:48,215 - INFO - Stored Procedure `DeptwthHighAvgSal` returned a result set\n",
      "2025-06-09 16:14:48,217 - INFO - Database connection closed.\n"
     ]
    },
    {
     "name": "stdout",
     "output_type": "stream",
     "text": [
      "  deptname    Avg_sal\n",
      "0       HR  3855.8571\n"
     ]
    }
   ],
   "source": [
    "proc = \"\"\"\n",
    "Create procedure if not exists DeptwthHighAvgSal()\n",
    "BEGIN\n",
    "    Select d.deptname, avg(e.salary) as Avg_sal\n",
    "    from emp e\n",
    "    join dept d on e.deptid = d.deptid\n",
    "    group by d.deptname\n",
    "    order by Avg_sal Desc\n",
    "    limit 1;\n",
    "END;\n",
    "\"\"\"\n",
    "\n",
    "result_df = db_main(proc, \"DeptwthHighAvgSal\")\n",
    "print(result_df)"
   ]
  },
  {
   "cell_type": "markdown",
   "id": "1eb62ce5",
   "metadata": {},
   "source": [
    "#### Increasing salary by percentage for a Department"
   ]
  },
  {
   "cell_type": "code",
   "execution_count": 2,
   "id": "8540ca08",
   "metadata": {},
   "outputs": [
    {
     "name": "stderr",
     "output_type": "stream",
     "text": [
      "2025-06-09 16:36:52,130 - INFO - Connected to the database successfully\n",
      "2025-06-09 16:36:52,135 - INFO - Query executed successfully.\n"
     ]
    },
    {
     "name": "stderr",
     "output_type": "stream",
     "text": [
      "2025-06-09 16:36:52,136 - INFO - Called Stored Procedure `IncSalbyPer` with params ('HR', 20)\n",
      "2025-06-09 16:36:52,146 - INFO - Stored Procedure `IncSalbyPer` executed successfully but returned no result set\n",
      "2025-06-09 16:36:52,146 - INFO - 21 rows affected by Stored Procedure `IncSalbyPer`\n",
      "2025-06-09 16:36:52,152 - INFO - Database connection closed.\n"
     ]
    },
    {
     "name": "stdout",
     "output_type": "stream",
     "text": [
      "Empty DataFrame\n",
      "Columns: []\n",
      "Index: []\n"
     ]
    }
   ],
   "source": [
    "proc = \"\"\"\n",
    "Create Procedure if not exists IncSalbyPer(IN p_deptname varchar(50), IN p_percent int)\n",
    "BEGIN\n",
    "    Update emp e\n",
    "    join dept d on e.deptid = d.deptid\n",
    "    set e.salary = e.salary + (e.salary * p_percent / 100)\n",
    "    where d.deptname = p_deptname;\n",
    "END;\n",
    "\"\"\"\n",
    "\n",
    "param = ('HR', 20)\n",
    "result_df = db_main(proc, \"IncSalbyPer\", param)\n",
    "print(result_df)"
   ]
  },
  {
   "cell_type": "markdown",
   "id": "b91a9715",
   "metadata": {},
   "source": [
    "#### Find Employees with duplicate salaries"
   ]
  },
  {
   "cell_type": "code",
   "execution_count": 5,
   "id": "8865cc20",
   "metadata": {},
   "outputs": [
    {
     "name": "stderr",
     "output_type": "stream",
     "text": [
      "2025-06-09 16:44:35,758 - INFO - Connected to the database successfully\n",
      "2025-06-09 16:44:35,788 - INFO - Query executed successfully.\n",
      "2025-06-09 16:44:35,791 - INFO - Called Stored Procedure `EmpDupSal` without parameters\n",
      "2025-06-09 16:44:35,795 - INFO - Stored Procedure `EmpDupSal` returned a result set\n",
      "2025-06-09 16:44:35,795 - INFO - Database connection closed.\n"
     ]
    },
    {
     "name": "stdout",
     "output_type": "stream",
     "text": [
      "  ename  deptid  salary\n",
      "0     z       1   14533\n",
      "1    a2       1   14533\n"
     ]
    }
   ],
   "source": [
    "proc = \"\"\"\n",
    "Create Procedure if not exists EmpDupSal()\n",
    "BEGIN\n",
    "    select e.ename, e.deptid, e.salary\n",
    "    from emp e\n",
    "    join (\n",
    "    select salary\n",
    "    from emp\n",
    "    group by salary\n",
    "    having count(*) > 1\n",
    "    ) dup on e.salary = dup.salary;\n",
    "END;\n",
    "\"\"\"\n",
    "result_df = db_main(proc, \"EmpDupSal\")\n",
    "print(result_df)"
   ]
  },
  {
   "cell_type": "markdown",
   "id": "88df4eae",
   "metadata": {},
   "source": [
    "#### Department Salary Stats"
   ]
  },
  {
   "cell_type": "code",
   "execution_count": 9,
   "id": "58573ba9",
   "metadata": {},
   "outputs": [
    {
     "name": "stderr",
     "output_type": "stream",
     "text": [
      "2025-06-09 16:53:14,968 - INFO - Connected to the database successfully\n",
      "2025-06-09 16:53:14,978 - INFO - Query executed successfully.\n",
      "2025-06-09 16:53:14,978 - INFO - Called Stored Procedure `DeptStats` with params ('Finance',)\n",
      "2025-06-09 16:53:14,983 - INFO - Stored Procedure `DeptStats` returned a result set\n",
      "2025-06-09 16:53:14,986 - INFO - Database connection closed.\n"
     ]
    },
    {
     "name": "stdout",
     "output_type": "stream",
     "text": [
      "  deptname  Min_Dept_Sal  Max_Dept_Sal Avg_Dept_Sal\n",
      "0  Finance            23         20001      3814.21\n"
     ]
    }
   ],
   "source": [
    "proc = \"\"\"\n",
    "Create Procedure if not exists DeptStats(IN p_deptname varchar(50))\n",
    "BEGIN\n",
    "    Select d.deptname,\n",
    "    min(e.salary) as Min_Dept_Sal,\n",
    "    max(e.salary) as Max_Dept_Sal,\n",
    "    round(avg(e.salary),2) as Avg_Dept_Sal\n",
    "    from emp e\n",
    "    join dept d on e.deptid = d.deptid\n",
    "    where d.deptname = p_deptname\n",
    "    group by d.deptname;\n",
    "END;\n",
    "\"\"\"\n",
    "\n",
    "param = (\"Finance\",)\n",
    "result_df = db_main(proc,\"DeptStats\",param)\n",
    "print(result_df)"
   ]
  }
 ],
 "metadata": {
  "kernelspec": {
   "display_name": "venv",
   "language": "python",
   "name": "python3"
  },
  "language_info": {
   "codemirror_mode": {
    "name": "ipython",
    "version": 3
   },
   "file_extension": ".py",
   "mimetype": "text/x-python",
   "name": "python",
   "nbconvert_exporter": "python",
   "pygments_lexer": "ipython3",
   "version": "3.12.10"
  }
 },
 "nbformat": 4,
 "nbformat_minor": 5
}
