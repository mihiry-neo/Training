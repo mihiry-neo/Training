{
 "cells": [
  {
   "cell_type": "code",
   "execution_count": 2,
   "id": "e4222448",
   "metadata": {},
   "outputs": [],
   "source": [
    "from db_connection import run_ddl_query, run_dml_query, run_select_query"
   ]
  },
  {
   "cell_type": "markdown",
   "id": "cd67d0c2",
   "metadata": {},
   "source": [
    "#### Before Insert Trigger"
   ]
  },
  {
   "cell_type": "code",
   "execution_count": 3,
   "id": "4a9962b5",
   "metadata": {},
   "outputs": [
    {
     "name": "stderr",
     "output_type": "stream",
     "text": [
      "2025-06-10 10:36:12,829 - INFO - DDL executed (e.g., trigger/table created or dropped)\n"
     ]
    },
    {
     "name": "stderr",
     "output_type": "stream",
     "text": [
      "2025-06-10 10:36:12,837 - INFO - DDL executed (e.g., trigger/table created or dropped)\n"
     ]
    }
   ],
   "source": [
    "run_ddl_query(\"DROP TRIGGER IF EXISTS prevent_low_salary\")\n",
    "\n",
    "query = \"\"\"\n",
    "Create trigger if not exists prevent_low_salary\n",
    "before insert on emp\n",
    "for each row\n",
    "BEGIN\n",
    "    If NEW.salary < 50 then\n",
    "        SIGNAL SQLSTATE '45000'\n",
    "        SET Message_Text = 'Salary must at least be 50';\n",
    "    END IF;\n",
    "END;\n",
    "\"\"\"\n",
    "\n",
    "run_ddl_query(query)"
   ]
  },
  {
   "cell_type": "code",
   "execution_count": 4,
   "id": "fdcae6ed",
   "metadata": {},
   "outputs": [
    {
     "name": "stderr",
     "output_type": "stream",
     "text": [
      "2025-06-10 10:38:07,856 - ERROR - Error executing DML: (1644, 'Salary must at least be 50')\n"
     ]
    }
   ],
   "source": [
    "query = \"\"\"\n",
    "Insert into emp (eid, ename, salary, deptid) values (101, 'rom', 10, 1)\"\"\"\n",
    "\n",
    "run_dml_query(query)"
   ]
  },
  {
   "cell_type": "markdown",
   "id": "75b1b2b0",
   "metadata": {},
   "source": [
    "#### After Insert Trigger "
   ]
  },
  {
   "cell_type": "code",
   "execution_count": 5,
   "id": "5dbd02a6",
   "metadata": {},
   "outputs": [
    {
     "name": "stderr",
     "output_type": "stream",
     "text": [
      "2025-06-10 10:41:50,352 - INFO - DDL executed (e.g., trigger/table created or dropped)\n"
     ]
    }
   ],
   "source": [
    "run_ddl_query(\"\"\"\n",
    "CREATE TABLE IF NOT EXISTS emp_audit (\n",
    "    audit_id INT AUTO_INCREMENT PRIMARY KEY,\n",
    "    eid INT,\n",
    "    ename VARCHAR(50),\n",
    "    salary INT,\n",
    "    action_time DATETIME DEFAULT NOW()\n",
    ");\n",
    "\"\"\")\n"
   ]
  },
  {
   "cell_type": "code",
   "execution_count": 6,
   "id": "ebed47b8",
   "metadata": {},
   "outputs": [
    {
     "name": "stderr",
     "output_type": "stream",
     "text": [
      "2025-06-10 10:45:29,604 - INFO - DDL executed (e.g., trigger/table created or dropped)\n",
      "2025-06-10 10:45:29,613 - INFO - DDL executed (e.g., trigger/table created or dropped)\n"
     ]
    }
   ],
   "source": [
    "run_ddl_query(\"DROP TRIGGER IF EXISTS log_high_salary;\")\n",
    "\n",
    "query = \"\"\"\n",
    "Create trigger if not exists log_high_salary\n",
    "after insert on emp\n",
    "for each row\n",
    "BEGIN\n",
    "    If NEW.salary > 10000 then\n",
    "    Insert into emp_audit (eid, ename, salary)\n",
    "    values (NEW.eid, NEW.ename, NEW.salary);\n",
    "    END IF;\n",
    "END;\n",
    "\"\"\"\n",
    "\n",
    "run_ddl_query(query)"
   ]
  },
  {
   "cell_type": "code",
   "execution_count": 9,
   "id": "963e1381",
   "metadata": {},
   "outputs": [
    {
     "name": "stderr",
     "output_type": "stream",
     "text": [
      "2025-06-10 10:50:20,262 - INFO - SELECT query executed\n"
     ]
    },
    {
     "data": {
      "text/html": [
       "<div>\n",
       "<style scoped>\n",
       "    .dataframe tbody tr th:only-of-type {\n",
       "        vertical-align: middle;\n",
       "    }\n",
       "\n",
       "    .dataframe tbody tr th {\n",
       "        vertical-align: top;\n",
       "    }\n",
       "\n",
       "    .dataframe thead th {\n",
       "        text-align: right;\n",
       "    }\n",
       "</style>\n",
       "<table border=\"1\" class=\"dataframe\">\n",
       "  <thead>\n",
       "    <tr style=\"text-align: right;\">\n",
       "      <th></th>\n",
       "      <th>audit_id</th>\n",
       "      <th>eid</th>\n",
       "      <th>ename</th>\n",
       "      <th>salary</th>\n",
       "      <th>action_time</th>\n",
       "    </tr>\n",
       "  </thead>\n",
       "  <tbody>\n",
       "  </tbody>\n",
       "</table>\n",
       "</div>"
      ],
      "text/plain": [
       "Empty DataFrame\n",
       "Columns: [audit_id, eid, ename, salary, action_time]\n",
       "Index: []"
      ]
     },
     "execution_count": 9,
     "metadata": {},
     "output_type": "execute_result"
    }
   ],
   "source": [
    "run_select_query(\"Select * from emp_audit\")"
   ]
  },
  {
   "cell_type": "code",
   "execution_count": 11,
   "id": "a0b0e471",
   "metadata": {},
   "outputs": [
    {
     "name": "stderr",
     "output_type": "stream",
     "text": [
      "2025-06-10 10:50:38,923 - INFO - DML query executed (insert/update/delete)\n"
     ]
    }
   ],
   "source": [
    "run_dml_query(\"Insert into emp (eid, ename, salary, deptid) values (103, 'roman', 13000, 2)\")"
   ]
  },
  {
   "cell_type": "code",
   "execution_count": 12,
   "id": "ba4fece2",
   "metadata": {},
   "outputs": [
    {
     "name": "stderr",
     "output_type": "stream",
     "text": [
      "2025-06-10 10:50:41,344 - INFO - SELECT query executed\n"
     ]
    },
    {
     "data": {
      "text/html": [
       "<div>\n",
       "<style scoped>\n",
       "    .dataframe tbody tr th:only-of-type {\n",
       "        vertical-align: middle;\n",
       "    }\n",
       "\n",
       "    .dataframe tbody tr th {\n",
       "        vertical-align: top;\n",
       "    }\n",
       "\n",
       "    .dataframe thead th {\n",
       "        text-align: right;\n",
       "    }\n",
       "</style>\n",
       "<table border=\"1\" class=\"dataframe\">\n",
       "  <thead>\n",
       "    <tr style=\"text-align: right;\">\n",
       "      <th></th>\n",
       "      <th>audit_id</th>\n",
       "      <th>eid</th>\n",
       "      <th>ename</th>\n",
       "      <th>salary</th>\n",
       "      <th>action_time</th>\n",
       "    </tr>\n",
       "  </thead>\n",
       "  <tbody>\n",
       "    <tr>\n",
       "      <th>0</th>\n",
       "      <td>2</td>\n",
       "      <td>103</td>\n",
       "      <td>roman</td>\n",
       "      <td>13000</td>\n",
       "      <td>2025-06-10 10:50:38</td>\n",
       "    </tr>\n",
       "  </tbody>\n",
       "</table>\n",
       "</div>"
      ],
      "text/plain": [
       "   audit_id  eid  ename  salary         action_time\n",
       "0         2  103  roman   13000 2025-06-10 10:50:38"
      ]
     },
     "execution_count": 12,
     "metadata": {},
     "output_type": "execute_result"
    }
   ],
   "source": [
    "run_select_query(\"Select * from emp_audit\")"
   ]
  },
  {
   "cell_type": "markdown",
   "id": "058430d0",
   "metadata": {},
   "source": [
    "#### After Update"
   ]
  },
  {
   "cell_type": "code",
   "execution_count": 22,
   "id": "3671ca7f",
   "metadata": {},
   "outputs": [
    {
     "name": "stderr",
     "output_type": "stream",
     "text": [
      "2025-06-10 11:12:31,462 - INFO - DDL executed (e.g., trigger/table created or dropped)\n"
     ]
    }
   ],
   "source": [
    "run_ddl_query(\"\"\"CREATE TABLE IF NOT EXISTS salary_log (\n",
    "    log_id INT AUTO_INCREMENT PRIMARY KEY,\n",
    "    eid INT,\n",
    "    old_salary INT,\n",
    "    new_salary INT,\n",
    "    change_time DATETIME DEFAULT NOW()\n",
    ");\n",
    "\"\"\")"
   ]
  },
  {
   "cell_type": "code",
   "execution_count": 17,
   "id": "d56adcbf",
   "metadata": {},
   "outputs": [
    {
     "name": "stderr",
     "output_type": "stream",
     "text": [
      "2025-06-10 11:05:27,157 - INFO - DDL executed (e.g., trigger/table created or dropped)\n"
     ]
    }
   ],
   "source": [
    "run_ddl_query(\"DROP TRIGGER IF EXISTS track_salary_change;\")"
   ]
  },
  {
   "cell_type": "code",
   "execution_count": 23,
   "id": "e1bea67f",
   "metadata": {},
   "outputs": [
    {
     "name": "stderr",
     "output_type": "stream",
     "text": [
      "2025-06-10 11:12:48,135 - INFO - DDL executed (e.g., trigger/table created or dropped)\n"
     ]
    }
   ],
   "source": [
    "query = \"\"\"\n",
    "Create trigger if not exists track_salary_change\n",
    "after update on emp\n",
    "for each row\n",
    "BEGIN\n",
    "    If NEW.salary != OLD.salary then\n",
    "    Insert into salary_log (eid, old_salary, new_salary)\n",
    "    values (OLD.eid, OLD.salary, NEW.salary);\n",
    "    END IF;\n",
    "END;\n",
    "\"\"\"\n",
    "\n",
    "run_ddl_query(query)"
   ]
  },
  {
   "cell_type": "code",
   "execution_count": 24,
   "id": "c2ce9c82",
   "metadata": {},
   "outputs": [
    {
     "name": "stderr",
     "output_type": "stream",
     "text": [
      "2025-06-10 11:12:50,975 - INFO - SELECT query executed\n"
     ]
    },
    {
     "data": {
      "text/html": [
       "<div>\n",
       "<style scoped>\n",
       "    .dataframe tbody tr th:only-of-type {\n",
       "        vertical-align: middle;\n",
       "    }\n",
       "\n",
       "    .dataframe tbody tr th {\n",
       "        vertical-align: top;\n",
       "    }\n",
       "\n",
       "    .dataframe thead th {\n",
       "        text-align: right;\n",
       "    }\n",
       "</style>\n",
       "<table border=\"1\" class=\"dataframe\">\n",
       "  <thead>\n",
       "    <tr style=\"text-align: right;\">\n",
       "      <th></th>\n",
       "      <th>log_id</th>\n",
       "      <th>eid</th>\n",
       "      <th>old_salary</th>\n",
       "      <th>new_salary</th>\n",
       "      <th>change_time</th>\n",
       "    </tr>\n",
       "  </thead>\n",
       "  <tbody>\n",
       "  </tbody>\n",
       "</table>\n",
       "</div>"
      ],
      "text/plain": [
       "Empty DataFrame\n",
       "Columns: [log_id, eid, old_salary, new_salary, change_time]\n",
       "Index: []"
      ]
     },
     "execution_count": 24,
     "metadata": {},
     "output_type": "execute_result"
    }
   ],
   "source": [
    "run_select_query(\"select * from salary_log\")"
   ]
  },
  {
   "cell_type": "code",
   "execution_count": 25,
   "id": "80310b14",
   "metadata": {},
   "outputs": [
    {
     "name": "stderr",
     "output_type": "stream",
     "text": [
      "2025-06-10 11:12:53,362 - INFO - DML query executed (insert/update/delete)\n"
     ]
    }
   ],
   "source": [
    "run_dml_query(\"Update emp set salary = salary + 500 where eid = 1\")"
   ]
  },
  {
   "cell_type": "code",
   "execution_count": 26,
   "id": "5fdd365b",
   "metadata": {},
   "outputs": [
    {
     "name": "stderr",
     "output_type": "stream",
     "text": [
      "2025-06-10 11:12:55,483 - INFO - SELECT query executed\n"
     ]
    },
    {
     "data": {
      "text/html": [
       "<div>\n",
       "<style scoped>\n",
       "    .dataframe tbody tr th:only-of-type {\n",
       "        vertical-align: middle;\n",
       "    }\n",
       "\n",
       "    .dataframe tbody tr th {\n",
       "        vertical-align: top;\n",
       "    }\n",
       "\n",
       "    .dataframe thead th {\n",
       "        text-align: right;\n",
       "    }\n",
       "</style>\n",
       "<table border=\"1\" class=\"dataframe\">\n",
       "  <thead>\n",
       "    <tr style=\"text-align: right;\">\n",
       "      <th></th>\n",
       "      <th>log_id</th>\n",
       "      <th>eid</th>\n",
       "      <th>old_salary</th>\n",
       "      <th>new_salary</th>\n",
       "      <th>change_time</th>\n",
       "    </tr>\n",
       "  </thead>\n",
       "  <tbody>\n",
       "    <tr>\n",
       "      <th>0</th>\n",
       "      <td>2</td>\n",
       "      <td>1</td>\n",
       "      <td>1500</td>\n",
       "      <td>2000</td>\n",
       "      <td>2025-06-10 11:12:53</td>\n",
       "    </tr>\n",
       "  </tbody>\n",
       "</table>\n",
       "</div>"
      ],
      "text/plain": [
       "   log_id  eid  old_salary  new_salary         change_time\n",
       "0       2    1        1500        2000 2025-06-10 11:12:53"
      ]
     },
     "execution_count": 26,
     "metadata": {},
     "output_type": "execute_result"
    }
   ],
   "source": [
    "run_select_query(\"select * from salary_log\")"
   ]
  },
  {
   "cell_type": "markdown",
   "id": "26834ba9",
   "metadata": {},
   "source": [
    "#### Before Update"
   ]
  },
  {
   "cell_type": "code",
   "execution_count": 27,
   "id": "e4e1d014",
   "metadata": {},
   "outputs": [
    {
     "name": "stderr",
     "output_type": "stream",
     "text": [
      "2025-06-10 11:14:23,542 - INFO - DDL executed (e.g., trigger/table created or dropped)\n"
     ]
    }
   ],
   "source": [
    "run_ddl_query(\"Drop trigger if exists enfore_salary_cap\")"
   ]
  },
  {
   "cell_type": "code",
   "execution_count": 30,
   "id": "e9a1ccae",
   "metadata": {},
   "outputs": [
    {
     "name": "stderr",
     "output_type": "stream",
     "text": [
      "2025-06-10 11:16:40,720 - INFO - DDL executed (e.g., trigger/table created or dropped)\n"
     ]
    }
   ],
   "source": [
    "query = \"\"\"\n",
    "Create trigger if not exists enforce_salary_cap\n",
    "before update on emp\n",
    "for each row\n",
    "BEGIN\n",
    "    IF NEW.salary > OLD.salary * 2 then\n",
    "        SIGNAL SQLSTATE '45000'\n",
    "        SET MESSAGE_TEXT = 'Salary cannot be increased more than 2 times the current salary';\n",
    "    END IF;\n",
    "END;\n",
    "\"\"\"\n",
    "\n",
    "run_ddl_query(query)"
   ]
  },
  {
   "cell_type": "code",
   "execution_count": 31,
   "id": "cba2c198",
   "metadata": {},
   "outputs": [
    {
     "name": "stderr",
     "output_type": "stream",
     "text": [
      "2025-06-10 11:17:44,027 - ERROR - Error executing DML: (1644, 'Salary cannot be increased more than 2 times the current salary')\n"
     ]
    }
   ],
   "source": [
    "run_dml_query(\"Update emp set salary = 4500 where eid = 1\")"
   ]
  },
  {
   "cell_type": "code",
   "execution_count": 32,
   "id": "65e21682",
   "metadata": {},
   "outputs": [
    {
     "name": "stderr",
     "output_type": "stream",
     "text": [
      "2025-06-10 11:17:54,979 - INFO - DML query executed (insert/update/delete)\n"
     ]
    }
   ],
   "source": [
    "run_dml_query(\"Update emp set salary = 4000 where eid = 1\")"
   ]
  },
  {
   "cell_type": "code",
   "execution_count": 33,
   "id": "5d82dfae",
   "metadata": {},
   "outputs": [
    {
     "name": "stderr",
     "output_type": "stream",
     "text": [
      "2025-06-10 11:18:15,148 - INFO - SELECT query executed\n"
     ]
    },
    {
     "data": {
      "text/html": [
       "<div>\n",
       "<style scoped>\n",
       "    .dataframe tbody tr th:only-of-type {\n",
       "        vertical-align: middle;\n",
       "    }\n",
       "\n",
       "    .dataframe tbody tr th {\n",
       "        vertical-align: top;\n",
       "    }\n",
       "\n",
       "    .dataframe thead th {\n",
       "        text-align: right;\n",
       "    }\n",
       "</style>\n",
       "<table border=\"1\" class=\"dataframe\">\n",
       "  <thead>\n",
       "    <tr style=\"text-align: right;\">\n",
       "      <th></th>\n",
       "      <th>eid</th>\n",
       "      <th>ename</th>\n",
       "      <th>salary</th>\n",
       "      <th>deptid</th>\n",
       "    </tr>\n",
       "  </thead>\n",
       "  <tbody>\n",
       "    <tr>\n",
       "      <th>0</th>\n",
       "      <td>1</td>\n",
       "      <td>a</td>\n",
       "      <td>4000</td>\n",
       "      <td>1</td>\n",
       "    </tr>\n",
       "  </tbody>\n",
       "</table>\n",
       "</div>"
      ],
      "text/plain": [
       "   eid ename  salary  deptid\n",
       "0    1     a    4000       1"
      ]
     },
     "execution_count": 33,
     "metadata": {},
     "output_type": "execute_result"
    }
   ],
   "source": [
    "run_select_query(\"select * from emp where eid = 1\")"
   ]
  },
  {
   "cell_type": "markdown",
   "id": "27d1ae0b",
   "metadata": {},
   "source": [
    "#### Before Delete"
   ]
  },
  {
   "cell_type": "code",
   "execution_count": 38,
   "id": "2997dd9f",
   "metadata": {},
   "outputs": [
    {
     "name": "stderr",
     "output_type": "stream",
     "text": [
      "2025-06-10 11:23:19,727 - INFO - DDL executed (e.g., trigger/table created or dropped)\n"
     ]
    }
   ],
   "source": [
    "run_ddl_query(\"Drop trigger if exists prevent_fin_emp_deletion\")"
   ]
  },
  {
   "cell_type": "code",
   "execution_count": 40,
   "id": "a881ba8b",
   "metadata": {},
   "outputs": [
    {
     "name": "stderr",
     "output_type": "stream",
     "text": [
      "2025-06-10 11:23:56,394 - INFO - DDL executed (e.g., trigger/table created or dropped)\n"
     ]
    }
   ],
   "source": [
    "query = \"\"\"\n",
    "Create trigger if not exists prevent_fin_emp_deletion\n",
    "before delete on emp\n",
    "for each row\n",
    "BEGIN\n",
    "    If OLD.deptid = 3 then\n",
    "        SIGNAL SQLSTATE '45000'\n",
    "        SET MESSAGE_TEXT = 'You cannot delete an emp from finance dept';\n",
    "    END IF;\n",
    "END;\n",
    "\"\"\"\n",
    "run_ddl_query(query)"
   ]
  },
  {
   "cell_type": "code",
   "execution_count": 41,
   "id": "776379ca",
   "metadata": {},
   "outputs": [
    {
     "name": "stderr",
     "output_type": "stream",
     "text": [
      "2025-06-10 11:25:00,395 - ERROR - Error executing DML: (1644, 'You cannot delete an emp from finance dept')\n"
     ]
    }
   ],
   "source": [
    "run_dml_query(\"Delete from emp where eid = 3\")"
   ]
  },
  {
   "cell_type": "code",
   "execution_count": 42,
   "id": "ad09398c",
   "metadata": {},
   "outputs": [
    {
     "name": "stderr",
     "output_type": "stream",
     "text": [
      "2025-06-10 11:25:23,332 - INFO - DML query executed (insert/update/delete)\n"
     ]
    }
   ],
   "source": [
    "run_dml_query(\"Delete from emp where eid = 10\")"
   ]
  },
  {
   "cell_type": "markdown",
   "id": "74856841",
   "metadata": {},
   "source": [
    "#### After Delete"
   ]
  },
  {
   "cell_type": "markdown",
   "id": "144f91ce",
   "metadata": {},
   "source": [
    "You cannot delete a row in dept if it's referenced in emp — unless specified otherwise using ON DELETE CASCADE, SET NULL, etc."
   ]
  },
  {
   "cell_type": "code",
   "execution_count": 43,
   "id": "ea2b2eb2",
   "metadata": {},
   "outputs": [
    {
     "name": "stderr",
     "output_type": "stream",
     "text": [
      "2025-06-10 11:35:32,630 - INFO - DML query executed (insert/update/delete)\n"
     ]
    }
   ],
   "source": [
    "run_ddl_query(\"DROP TABLE IF EXISTS emp;\")"
   ]
  },
  {
   "cell_type": "code",
   "execution_count": 44,
   "id": "e6f44bc9",
   "metadata": {},
   "outputs": [
    {
     "name": "stderr",
     "output_type": "stream",
     "text": [
      "2025-06-10 11:36:03,408 - INFO - DDL executed (e.g., trigger/table created or dropped)\n"
     ]
    }
   ],
   "source": [
    "run_ddl_query(\"\"\"\n",
    "CREATE TABLE emp (\n",
    "    eid INT PRIMARY KEY,\n",
    "    ename VARCHAR(50) NOT NULL,\n",
    "    salary INT CHECK (salary > 0),\n",
    "    deptid INT NOT NULL,\n",
    "    FOREIGN KEY (deptid) REFERENCES dept(deptid) ON DELETE CASCADE\n",
    ");\n",
    "\"\"\")"
   ]
  },
  {
   "cell_type": "code",
   "execution_count": 45,
   "id": "6bb96715",
   "metadata": {},
   "outputs": [
    {
     "name": "stderr",
     "output_type": "stream",
     "text": [
      "2025-06-10 11:36:30,440 - INFO - DML query executed (insert/update/delete)\n"
     ]
    }
   ],
   "source": [
    "run_dml_query(\"\"\"\n",
    "INSERT INTO emp (eid, ename, salary, deptid) VALUES\n",
    "(1,'a',1000,1), (2,'b',1023,2), (3,'c',23,3), (4,'d',123,3),\n",
    "(5,'e',102,1), (6,'f',2023,3), (7,'g',323,1), (8,'h',523,2),\n",
    "(9,'i',136,1), (10,'j',627,1), (11,'k',978,3), (12,'l',222,1),\n",
    "(13,'m',746,1), (14,'n',3223,1), (15,'o',1999,3), (16,'p',821,3),\n",
    "(17,'q',324,1), (18,'r',546,3), (19,'s',717,2), (20,'t',817,2),\n",
    "(21,'u',888,3), (22,'v',9029,1), (23,'w',20001,3), (24,'x',28222,1),\n",
    "(25,'y',19212,3), (26,'z',12111,1), (27,'a1',3211,1), (28,'a2',9238,1),\n",
    "(29,'a3',653,3), (30,'a4',44,1), (31,'a5',3,2), (32,'a6',16,1),\n",
    "(33,'a7',14,2), (34,'a8',845,1), (35,'a9',135,3), (36,'b1',1212,1),\n",
    "(37,'b2',1242,2), (38,'b3',4212,2), (39,'b4',4444,3), (40,'b5',555,1),\n",
    "(41,'b6',1553,3), (42,'b7',6432,1), (43,'b8',4532,2), (44,'b9',3355,1),\n",
    "(45,'c1',2324,2);\n",
    "\"\"\")"
   ]
  },
  {
   "cell_type": "code",
   "execution_count": 46,
   "id": "0cecf488",
   "metadata": {},
   "outputs": [
    {
     "name": "stderr",
     "output_type": "stream",
     "text": [
      "2025-06-10 11:36:50,872 - INFO - DDL executed (e.g., trigger/table created or dropped)\n"
     ]
    }
   ],
   "source": [
    "run_ddl_query(\"\"\"\n",
    "CREATE TABLE IF NOT EXISTS deleted_depts_log (\n",
    "    deptid INT,\n",
    "    deptname VARCHAR(50),\n",
    "    deleted_at DATETIME DEFAULT NOW()\n",
    ");\n",
    "\"\"\")"
   ]
  },
  {
   "cell_type": "code",
   "execution_count": 48,
   "id": "3d4da5b3",
   "metadata": {},
   "outputs": [
    {
     "name": "stderr",
     "output_type": "stream",
     "text": [
      "2025-06-10 11:37:08,231 - INFO - DDL executed (e.g., trigger/table created or dropped)\n"
     ]
    }
   ],
   "source": [
    "run_ddl_query(\"DROP TRIGGER IF EXISTS log_deleted_dept;\")"
   ]
  },
  {
   "cell_type": "code",
   "execution_count": 50,
   "id": "eacd9840",
   "metadata": {},
   "outputs": [
    {
     "name": "stderr",
     "output_type": "stream",
     "text": [
      "2025-06-10 11:38:05,800 - INFO - DDL executed (e.g., trigger/table created or dropped)\n"
     ]
    }
   ],
   "source": [
    "query = \"\"\"\n",
    "CREATE TRIGGER log_deleted_dept\n",
    "AFTER DELETE ON dept\n",
    "FOR EACH ROW\n",
    "BEGIN\n",
    "    INSERT INTO deleted_depts_log (deptid, deptname)\n",
    "    VALUES (OLD.deptid, OLD.deptname);\n",
    "END;\n",
    "\"\"\"\n",
    "run_ddl_query(query)"
   ]
  },
  {
   "cell_type": "code",
   "execution_count": 51,
   "id": "15084618",
   "metadata": {},
   "outputs": [
    {
     "name": "stderr",
     "output_type": "stream",
     "text": [
      "2025-06-10 11:38:20,294 - INFO - DML query executed (insert/update/delete)\n"
     ]
    }
   ],
   "source": [
    "run_dml_query(\"INSERT INTO dept (deptid, deptname) VALUES (10, 'TEST');\")"
   ]
  },
  {
   "cell_type": "code",
   "execution_count": 52,
   "id": "af3cbd96",
   "metadata": {},
   "outputs": [
    {
     "name": "stderr",
     "output_type": "stream",
     "text": [
      "2025-06-10 11:38:35,970 - INFO - DML query executed (insert/update/delete)\n"
     ]
    }
   ],
   "source": [
    "run_dml_query(\"\"\"\n",
    "INSERT INTO emp (eid, ename, salary, deptid) VALUES\n",
    "(100, 'TestEmp1', 2000, 10),\n",
    "(101, 'TestEmp2', 2500, 10);\n",
    "\"\"\")"
   ]
  },
  {
   "cell_type": "code",
   "execution_count": 56,
   "id": "4ba81492",
   "metadata": {},
   "outputs": [
    {
     "name": "stderr",
     "output_type": "stream",
     "text": [
      "2025-06-10 11:40:07,186 - INFO - DML query executed (insert/update/delete)\n"
     ]
    }
   ],
   "source": [
    "run_dml_query(\"DELETE FROM dept WHERE deptid = 10;\")"
   ]
  },
  {
   "cell_type": "code",
   "execution_count": 59,
   "id": "bf6eae89",
   "metadata": {},
   "outputs": [
    {
     "name": "stderr",
     "output_type": "stream",
     "text": [
      "2025-06-10 11:40:36,342 - INFO - SELECT query executed\n"
     ]
    },
    {
     "data": {
      "text/html": [
       "<div>\n",
       "<style scoped>\n",
       "    .dataframe tbody tr th:only-of-type {\n",
       "        vertical-align: middle;\n",
       "    }\n",
       "\n",
       "    .dataframe tbody tr th {\n",
       "        vertical-align: top;\n",
       "    }\n",
       "\n",
       "    .dataframe thead th {\n",
       "        text-align: right;\n",
       "    }\n",
       "</style>\n",
       "<table border=\"1\" class=\"dataframe\">\n",
       "  <thead>\n",
       "    <tr style=\"text-align: right;\">\n",
       "      <th></th>\n",
       "      <th>deptid</th>\n",
       "      <th>deptname</th>\n",
       "      <th>deleted_at</th>\n",
       "    </tr>\n",
       "  </thead>\n",
       "  <tbody>\n",
       "    <tr>\n",
       "      <th>0</th>\n",
       "      <td>10</td>\n",
       "      <td>TEST</td>\n",
       "      <td>2025-06-10 11:38:55</td>\n",
       "    </tr>\n",
       "  </tbody>\n",
       "</table>\n",
       "</div>"
      ],
      "text/plain": [
       "   deptid deptname          deleted_at\n",
       "0      10     TEST 2025-06-10 11:38:55"
      ]
     },
     "execution_count": 59,
     "metadata": {},
     "output_type": "execute_result"
    }
   ],
   "source": [
    "run_select_query(\"select * from deleted_depts_log;\")"
   ]
  },
  {
   "cell_type": "code",
   "execution_count": 60,
   "id": "ce5f9ff0",
   "metadata": {},
   "outputs": [
    {
     "name": "stderr",
     "output_type": "stream",
     "text": [
      "2025-06-10 11:40:41,005 - INFO - SELECT query executed\n"
     ]
    },
    {
     "data": {
      "text/html": [
       "<div>\n",
       "<style scoped>\n",
       "    .dataframe tbody tr th:only-of-type {\n",
       "        vertical-align: middle;\n",
       "    }\n",
       "\n",
       "    .dataframe tbody tr th {\n",
       "        vertical-align: top;\n",
       "    }\n",
       "\n",
       "    .dataframe thead th {\n",
       "        text-align: right;\n",
       "    }\n",
       "</style>\n",
       "<table border=\"1\" class=\"dataframe\">\n",
       "  <thead>\n",
       "    <tr style=\"text-align: right;\">\n",
       "      <th></th>\n",
       "      <th>eid</th>\n",
       "      <th>ename</th>\n",
       "      <th>salary</th>\n",
       "      <th>deptid</th>\n",
       "    </tr>\n",
       "  </thead>\n",
       "  <tbody>\n",
       "  </tbody>\n",
       "</table>\n",
       "</div>"
      ],
      "text/plain": [
       "Empty DataFrame\n",
       "Columns: [eid, ename, salary, deptid]\n",
       "Index: []"
      ]
     },
     "execution_count": 60,
     "metadata": {},
     "output_type": "execute_result"
    }
   ],
   "source": [
    "run_select_query(\"SELECT * FROM emp WHERE deptid = 10;\")"
   ]
  }
 ],
 "metadata": {
  "kernelspec": {
   "display_name": "venv",
   "language": "python",
   "name": "python3"
  },
  "language_info": {
   "codemirror_mode": {
    "name": "ipython",
    "version": 3
   },
   "file_extension": ".py",
   "mimetype": "text/x-python",
   "name": "python",
   "nbconvert_exporter": "python",
   "pygments_lexer": "ipython3",
   "version": "3.12.10"
  }
 },
 "nbformat": 4,
 "nbformat_minor": 5
}
