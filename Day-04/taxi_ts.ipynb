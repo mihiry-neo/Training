{
 "cells": [
  {
   "cell_type": "code",
   "execution_count": 36,
   "id": "1f0a8ffb",
   "metadata": {},
   "outputs": [],
   "source": [
    "import pandas as pd\n",
    "import matplotlib.pyplot as plt"
   ]
  },
  {
   "cell_type": "code",
   "execution_count": 37,
   "id": "be8e72cd",
   "metadata": {},
   "outputs": [],
   "source": [
    "taxi_df = pd.read_csv('cleaned_taxi_data.csv')"
   ]
  },
  {
   "cell_type": "code",
   "execution_count": 38,
   "id": "7de44fd4",
   "metadata": {},
   "outputs": [
    {
     "name": "stdout",
     "output_type": "stream",
     "text": [
      "<class 'pandas.core.frame.DataFrame'>\n",
      "RangeIndex: 6133289 entries, 0 to 6133288\n",
      "Data columns (total 8 columns):\n",
      " #   Column                 Dtype  \n",
      "---  ------                 -----  \n",
      " 0   tpep_pickup_datetime   object \n",
      " 1   tpep_dropoff_datetime  object \n",
      " 2   trip_distance          float64\n",
      " 3   passenger_count        float64\n",
      " 4   PULocationID           int64  \n",
      " 5   DOLocationID           int64  \n",
      " 6   fare_amount            float64\n",
      " 7   trip_duration          float64\n",
      "dtypes: float64(4), int64(2), object(2)\n",
      "memory usage: 374.3+ MB\n",
      "None\n"
     ]
    }
   ],
   "source": [
    "print(taxi_df.info())"
   ]
  },
  {
   "cell_type": "code",
   "execution_count": 39,
   "id": "d096cf1f",
   "metadata": {},
   "outputs": [],
   "source": [
    "taxi_df['tpep_pickup_datetime'] = pd.to_datetime(taxi_df['tpep_pickup_datetime'])\n",
    "taxi_df['tpep_dropoff_datetime'] = pd.to_datetime(taxi_df['tpep_dropoff_datetime'])"
   ]
  },
  {
   "cell_type": "code",
   "execution_count": 40,
   "id": "6f3d29dc",
   "metadata": {},
   "outputs": [],
   "source": [
    "taxi_df = taxi_df[taxi_df['tpep_pickup_datetime'] >= '2023-01-01']"
   ]
  },
  {
   "cell_type": "code",
   "execution_count": 41,
   "id": "8487fffe",
   "metadata": {},
   "outputs": [],
   "source": [
    "taxi_df.set_index('tpep_pickup_datetime', inplace=True)"
   ]
  },
  {
   "cell_type": "code",
   "execution_count": 42,
   "id": "63da50e4",
   "metadata": {},
   "outputs": [
    {
     "name": "stdout",
     "output_type": "stream",
     "text": [
      "Min Date: 2023-11-30 22:54:23\n",
      "Max Date: 2024-02-01 00:01:15\n"
     ]
    }
   ],
   "source": [
    "print(\"Min Date:\", taxi_df.index.min())\n",
    "print(\"Max Date:\", taxi_df.index.max())"
   ]
  },
  {
   "cell_type": "code",
   "execution_count": 43,
   "id": "9321b29b",
   "metadata": {},
   "outputs": [],
   "source": [
    "taxi_df['year'] = taxi_df.index.year\n",
    "taxi_df['month'] = taxi_df.index.month\n",
    "taxi_df['day'] = taxi_df.index.day\n",
    "taxi_df['hour'] = taxi_df.index.hour\n",
    "taxi_df['day_name'] = taxi_df.index.day_name()"
   ]
  },
  {
   "cell_type": "code",
   "execution_count": 44,
   "id": "e66b5bb9",
   "metadata": {},
   "outputs": [
    {
     "name": "stdout",
     "output_type": "stream",
     "text": [
      "                     tpep_dropoff_datetime  trip_distance  passenger_count  \\\n",
      "tpep_pickup_datetime                                                         \n",
      "2023-12-01 00:06:06    2023-12-01 00:15:47           1.10              0.0   \n",
      "2023-12-01 00:22:26    2023-12-01 00:28:53           1.50              0.0   \n",
      "2023-12-01 00:59:44    2023-12-01 01:13:22           2.20              2.0   \n",
      "2023-12-01 00:22:17    2023-12-01 00:30:59           0.66              1.0   \n",
      "2023-12-01 00:18:16    2023-12-01 00:25:32           2.20              2.0   \n",
      "...                                    ...            ...              ...   \n",
      "2023-12-31 23:49:12    2024-01-01 00:04:32           3.14              1.0   \n",
      "2023-12-31 23:47:28    2023-12-31 23:57:07           1.44              2.0   \n",
      "2023-12-31 23:58:35    2024-01-01 00:13:06           8.39              6.0   \n",
      "2023-12-31 23:58:37    2024-01-01 00:08:37           0.59              2.0   \n",
      "2023-12-31 23:54:27    2024-01-01 00:13:12           7.70              1.0   \n",
      "\n",
      "                      PULocationID  DOLocationID  fare_amount  trip_duration  \\\n",
      "tpep_pickup_datetime                                                           \n",
      "2023-12-01 00:06:06            230            48         10.0       9.683333   \n",
      "2023-12-01 00:22:26            142           238          9.3       6.450000   \n",
      "2023-12-01 00:59:44            114           186         13.5      13.633333   \n",
      "2023-12-01 00:22:17             79            79          7.2       8.700000   \n",
      "2023-12-01 00:18:16            229           263         11.4       7.266667   \n",
      "...                            ...           ...          ...            ...   \n",
      "2023-12-31 23:49:12            234           237         17.0      15.333333   \n",
      "2023-12-31 23:47:28             68           137         10.7       9.650000   \n",
      "2023-12-31 23:58:35            138           217         33.1      14.516667   \n",
      "2023-12-31 23:58:37            161           170         10.0      10.000000   \n",
      "2023-12-31 23:54:27            229           244         33.1      18.750000   \n",
      "\n",
      "                      year  month  day  hour day_name  \n",
      "tpep_pickup_datetime                                   \n",
      "2023-12-01 00:06:06   2023     12    1     0   Friday  \n",
      "2023-12-01 00:22:26   2023     12    1     0   Friday  \n",
      "2023-12-01 00:59:44   2023     12    1     0   Friday  \n",
      "2023-12-01 00:22:17   2023     12    1     0   Friday  \n",
      "2023-12-01 00:18:16   2023     12    1     0   Friday  \n",
      "...                    ...    ...  ...   ...      ...  \n",
      "2023-12-31 23:49:12   2023     12   31    23   Sunday  \n",
      "2023-12-31 23:47:28   2023     12   31    23   Sunday  \n",
      "2023-12-31 23:58:35   2023     12   31    23   Sunday  \n",
      "2023-12-31 23:58:37   2023     12   31    23   Sunday  \n",
      "2023-12-31 23:54:27   2023     12   31    23   Sunday  \n",
      "\n",
      "[3263689 rows x 12 columns]\n"
     ]
    }
   ],
   "source": [
    "taxi_2023 = taxi_df[taxi_df.index.year == 2023]\n",
    "print(taxi_2023)"
   ]
  },
  {
   "cell_type": "code",
   "execution_count": 45,
   "id": "c7c36876",
   "metadata": {},
   "outputs": [
    {
     "data": {
      "image/png": "[encoded data removed]",
      "text/plain": [
       "<Figure size 640x480 with 1 Axes>"
      ]
     },
     "metadata": {},
     "output_type": "display_data"
    }
   ],
   "source": [
    "weekday_order = ['Monday', 'Tuesday', 'Wednesday', 'Thursday', 'Friday', 'Saturday', 'Sunday']\n",
    "weekday_counts = taxi_df['day_name'].value_counts().reindex(weekday_order)\n",
    "weekday_counts.plot(kind='bar', title='Trips by Weekday')\n",
    "plt.show()"
   ]
  },
  {
   "cell_type": "code",
   "execution_count": 100,
   "id": "f37038f4",
   "metadata": {},
   "outputs": [
    {
     "name": "stdout",
     "output_type": "stream",
     "text": [
      "tpep_pickup_datetime\n",
      "2023-11-30 00:00:00-05:00      8396\n",
      "2023-12-01 00:00:00-05:00    134796\n",
      "2023-12-02 00:00:00-05:00    121455\n",
      "2023-12-03 00:00:00-05:00     86362\n",
      "2023-12-04 00:00:00-05:00     99934\n",
      "Freq: D, dtype: int64\n"
     ]
    }
   ],
   "source": [
    "daily_trips = taxi_df.resample('D').size()\n",
    "print(daily_trips.head())"
   ]
  },
  {
   "cell_type": "code",
   "execution_count": 47,
   "id": "e507c07a",
   "metadata": {},
   "outputs": [
    {
     "name": "stdout",
     "output_type": "stream",
     "text": [
      "tpep_pickup_datetime\n",
      "2024-01-28    1639072.72\n",
      "2024-01-29    1551065.39\n",
      "2024-01-30    1739120.87\n",
      "2024-01-31    1774334.91\n",
      "2024-02-01         58.00\n",
      "Freq: D, Name: fare_amount, dtype: float64\n"
     ]
    }
   ],
   "source": [
    "daily_revenue = taxi_df['fare_amount'].resample('D').sum()\n",
    "print(daily_revenue.tail())"
   ]
  },
  {
   "cell_type": "code",
   "execution_count": 48,
   "id": "e8968cc8",
   "metadata": {},
   "outputs": [
    {
     "name": "stdout",
     "output_type": "stream",
     "text": [
      "                      fare_amount                    trip_distance         \\\n",
      "                              sum       mean   count          mean median   \n",
      "tpep_pickup_datetime                                                        \n",
      "2024-01-07            11489487.85  19.548090  587755      3.832770   1.82   \n",
      "2024-01-14            11992513.81  18.285062  655864      3.746552   1.70   \n",
      "2024-01-21            12039310.99  18.313719  657393      3.717722   1.67   \n",
      "2024-01-28            12497995.14  18.152129  688514      3.411491   1.70   \n",
      "2024-02-04             5064579.17  18.083456  280067      4.318154   1.66   \n",
      "\n",
      "                                passenger_count  \n",
      "                            max             sum  \n",
      "tpep_pickup_datetime                             \n",
      "2024-01-07             59282.45        823841.0  \n",
      "2024-01-14             59076.43        870153.0  \n",
      "2024-01-21             82015.45        865251.0  \n",
      "2024-01-28             97793.92        896008.0  \n",
      "2024-02-04            312722.30        349855.0  \n"
     ]
    }
   ],
   "source": [
    "weekly_stats = taxi_df.resample('W').agg({\n",
    "    'fare_amount': ['sum', 'mean', 'count'],\n",
    "    'trip_distance': ['mean', 'median', 'max'],\n",
    "    'passenger_count': 'sum'\n",
    "})\n",
    "\n",
    "print(weekly_stats.tail())"
   ]
  },
  {
   "cell_type": "code",
   "execution_count": 50,
   "id": "25dc4a63",
   "metadata": {},
   "outputs": [
    {
     "name": "stdout",
     "output_type": "stream",
     "text": [
      "                      fare_amount                     trip_distance       \n",
      "                              sum       mean    count          mean median\n",
      "tpep_pickup_datetime                                                      \n",
      "2023-11-30                 549.80  16.660606       33      2.968788   2.06\n",
      "2023-12-31            65320418.31  20.014492  3263656      3.764539   1.74\n",
      "2024-01-31            53083828.96  18.498750  2869590      3.733001   1.70\n",
      "2024-02-29                  58.00  19.333333        3      4.083333   2.22\n"
     ]
    }
   ],
   "source": [
    "monthly_stats = taxi_df.resample('ME').agg({\n",
    "    'fare_amount': ['sum', 'mean', 'count'],\n",
    "    'trip_distance': ['mean', 'median']\n",
    "})\n",
    "print(monthly_stats)"
   ]
  },
  {
   "cell_type": "code",
   "execution_count": 52,
   "id": "5947d2ca",
   "metadata": {},
   "outputs": [
    {
     "name": "stdout",
     "output_type": "stream",
     "text": [
      "                      fare_amount                                     \\\n",
      "                              sum   min      max       mean    count   \n",
      "tpep_pickup_datetime                                                   \n",
      "2023-12-31            65320968.11  0.01  2320.11  20.014459  3263689   \n",
      "2024-12-31            53083886.96  0.01  2221.30  18.498751  2869593   \n",
      "\n",
      "                                            trip_distance                   \\\n",
      "                            std first  last          mean median       max   \n",
      "tpep_pickup_datetime                                                         \n",
      "2023-12-31            17.821061  13.5  22.6      3.764531   1.74  161726.1   \n",
      "2024-12-31            17.265482   4.4   7.9      3.733001   1.70  312722.3   \n",
      "\n",
      "                                        \n",
      "                       min         std  \n",
      "tpep_pickup_datetime                    \n",
      "2023-12-31            0.01  156.798380  \n",
      "2024-12-31            0.01  229.164092  \n"
     ]
    }
   ],
   "source": [
    "yearly_stats = taxi_df.resample('YE').agg({\n",
    "    'fare_amount': ['sum', 'min', 'max', 'mean', 'count', 'std', 'first', 'last'],\n",
    "    'trip_distance': ['mean', 'median', 'max', 'min', 'std']\n",
    "})\n",
    "print(yearly_stats)"
   ]
  },
  {
   "cell_type": "code",
   "execution_count": 53,
   "id": "abe15295",
   "metadata": {},
   "outputs": [
    {
     "name": "stdout",
     "output_type": "stream",
     "text": [
      "Current timezone info: None\n"
     ]
    }
   ],
   "source": [
    "print(\"Current timezone info:\", taxi_df.index.tz)"
   ]
  },
  {
   "cell_type": "code",
   "execution_count": 54,
   "id": "d90afe92",
   "metadata": {},
   "outputs": [],
   "source": [
    "taxi_df.index = taxi_df.index.tz_localize('UTC')"
   ]
  },
  {
   "cell_type": "code",
   "execution_count": 55,
   "id": "e557cf10",
   "metadata": {},
   "outputs": [
    {
     "name": "stdout",
     "output_type": "stream",
     "text": [
      "                          tpep_dropoff_datetime  trip_distance  \\\n",
      "tpep_pickup_datetime                                             \n",
      "2023-12-01 00:06:06+00:00   2023-12-01 00:15:47           1.10   \n",
      "2023-12-01 00:22:26+00:00   2023-12-01 00:28:53           1.50   \n",
      "2023-12-01 00:59:44+00:00   2023-12-01 01:13:22           2.20   \n",
      "2023-12-01 00:22:17+00:00   2023-12-01 00:30:59           0.66   \n",
      "2023-12-01 00:18:16+00:00   2023-12-01 00:25:32           2.20   \n",
      "\n",
      "                           passenger_count  PULocationID  DOLocationID  \\\n",
      "tpep_pickup_datetime                                                     \n",
      "2023-12-01 00:06:06+00:00              0.0           230            48   \n",
      "2023-12-01 00:22:26+00:00              0.0           142           238   \n",
      "2023-12-01 00:59:44+00:00              2.0           114           186   \n",
      "2023-12-01 00:22:17+00:00              1.0            79            79   \n",
      "2023-12-01 00:18:16+00:00              2.0           229           263   \n",
      "\n",
      "                           fare_amount  trip_duration  year  month  day  hour  \\\n",
      "tpep_pickup_datetime                                                            \n",
      "2023-12-01 00:06:06+00:00         10.0       9.683333  2023     12    1     0   \n",
      "2023-12-01 00:22:26+00:00          9.3       6.450000  2023     12    1     0   \n",
      "2023-12-01 00:59:44+00:00         13.5      13.633333  2023     12    1     0   \n",
      "2023-12-01 00:22:17+00:00          7.2       8.700000  2023     12    1     0   \n",
      "2023-12-01 00:18:16+00:00         11.4       7.266667  2023     12    1     0   \n",
      "\n",
      "                          day_name  \n",
      "tpep_pickup_datetime                \n",
      "2023-12-01 00:06:06+00:00   Friday  \n",
      "2023-12-01 00:22:26+00:00   Friday  \n",
      "2023-12-01 00:59:44+00:00   Friday  \n",
      "2023-12-01 00:22:17+00:00   Friday  \n",
      "2023-12-01 00:18:16+00:00   Friday  \n"
     ]
    }
   ],
   "source": [
    "print(taxi_df.head())"
   ]
  },
  {
   "cell_type": "code",
   "execution_count": 56,
   "id": "a51de6ef",
   "metadata": {},
   "outputs": [],
   "source": [
    "taxi_df.index = taxi_df.index.tz_convert('America/New_York')"
   ]
  },
  {
   "cell_type": "code",
   "execution_count": 57,
   "id": "f4d603f7",
   "metadata": {},
   "outputs": [
    {
     "name": "stdout",
     "output_type": "stream",
     "text": [
      "                          tpep_dropoff_datetime  trip_distance  \\\n",
      "tpep_pickup_datetime                                             \n",
      "2023-11-30 19:06:06-05:00   2023-12-01 00:15:47           1.10   \n",
      "2023-11-30 19:22:26-05:00   2023-12-01 00:28:53           1.50   \n",
      "2023-11-30 19:59:44-05:00   2023-12-01 01:13:22           2.20   \n",
      "2023-11-30 19:22:17-05:00   2023-12-01 00:30:59           0.66   \n",
      "2023-11-30 19:18:16-05:00   2023-12-01 00:25:32           2.20   \n",
      "\n",
      "                           passenger_count  PULocationID  DOLocationID  \\\n",
      "tpep_pickup_datetime                                                     \n",
      "2023-11-30 19:06:06-05:00              0.0           230            48   \n",
      "2023-11-30 19:22:26-05:00              0.0           142           238   \n",
      "2023-11-30 19:59:44-05:00              2.0           114           186   \n",
      "2023-11-30 19:22:17-05:00              1.0            79            79   \n",
      "2023-11-30 19:18:16-05:00              2.0           229           263   \n",
      "\n",
      "                           fare_amount  trip_duration  year  month  day  hour  \\\n",
      "tpep_pickup_datetime                                                            \n",
      "2023-11-30 19:06:06-05:00         10.0       9.683333  2023     12    1     0   \n",
      "2023-11-30 19:22:26-05:00          9.3       6.450000  2023     12    1     0   \n",
      "2023-11-30 19:59:44-05:00         13.5      13.633333  2023     12    1     0   \n",
      "2023-11-30 19:22:17-05:00          7.2       8.700000  2023     12    1     0   \n",
      "2023-11-30 19:18:16-05:00         11.4       7.266667  2023     12    1     0   \n",
      "\n",
      "                          day_name  \n",
      "tpep_pickup_datetime                \n",
      "2023-11-30 19:06:06-05:00   Friday  \n",
      "2023-11-30 19:22:26-05:00   Friday  \n",
      "2023-11-30 19:59:44-05:00   Friday  \n",
      "2023-11-30 19:22:17-05:00   Friday  \n",
      "2023-11-30 19:18:16-05:00   Friday  \n"
     ]
    }
   ],
   "source": [
    "print(taxi_df.head())"
   ]
  },
  {
   "cell_type": "code",
   "execution_count": 77,
   "id": "e610ef20",
   "metadata": {},
   "outputs": [],
   "source": [
    "taxi_df['rolling_7day'] = daily_trips.rolling(7).mean()"
   ]
  },
  {
   "cell_type": "code",
   "execution_count": 82,
   "id": "18062080",
   "metadata": {},
   "outputs": [
    {
     "name": "stdout",
     "output_type": "stream",
     "text": [
      "                          tpep_dropoff_datetime  trip_distance  \\\n",
      "tpep_pickup_datetime                                             \n",
      "2023-11-30 19:06:06-05:00   2023-12-01 00:15:47           1.10   \n",
      "2023-11-30 19:22:26-05:00   2023-12-01 00:28:53           1.50   \n",
      "2023-11-30 19:59:44-05:00   2023-12-01 01:13:22           2.20   \n",
      "2023-11-30 19:22:17-05:00   2023-12-01 00:30:59           0.66   \n",
      "2023-11-30 19:18:16-05:00   2023-12-01 00:25:32           2.20   \n",
      "...                                         ...            ...   \n",
      "2023-11-30 19:08:05-05:00   2023-12-01 00:18:30           2.22   \n",
      "2023-11-30 19:27:15-05:00   2023-12-01 00:34:25           1.04   \n",
      "2023-11-30 19:38:11-05:00   2023-12-01 00:56:33           3.59   \n",
      "2023-11-30 19:41:08-05:00   2023-12-01 01:04:46           4.60   \n",
      "2023-11-30 19:27:05-05:00   2023-12-01 00:38:03           2.66   \n",
      "\n",
      "                           passenger_count  PULocationID  DOLocationID  \\\n",
      "tpep_pickup_datetime                                                     \n",
      "2023-11-30 19:06:06-05:00              0.0           230            48   \n",
      "2023-11-30 19:22:26-05:00              0.0           142           238   \n",
      "2023-11-30 19:59:44-05:00              2.0           114           186   \n",
      "2023-11-30 19:22:17-05:00              1.0            79            79   \n",
      "2023-11-30 19:18:16-05:00              2.0           229           263   \n",
      "...                                    ...           ...           ...   \n",
      "2023-11-30 19:08:05-05:00              1.0           113           162   \n",
      "2023-11-30 19:27:15-05:00              1.0           161           163   \n",
      "2023-11-30 19:38:11-05:00              1.0           230            79   \n",
      "2023-11-30 19:41:08-05:00              1.0           237           144   \n",
      "2023-11-30 19:27:05-05:00              1.0            87           113   \n",
      "\n",
      "                           fare_amount  trip_duration  year  month  day  hour  \\\n",
      "tpep_pickup_datetime                                                            \n",
      "2023-11-30 19:06:06-05:00         10.0       9.683333  2023     12    1     0   \n",
      "2023-11-30 19:22:26-05:00          9.3       6.450000  2023     12    1     0   \n",
      "2023-11-30 19:59:44-05:00         13.5      13.633333  2023     12    1     0   \n",
      "2023-11-30 19:22:17-05:00          7.2       8.700000  2023     12    1     0   \n",
      "2023-11-30 19:18:16-05:00         11.4       7.266667  2023     12    1     0   \n",
      "...                                ...            ...   ...    ...  ...   ...   \n",
      "2023-11-30 19:08:05-05:00         12.8      10.416667  2023     12    1     0   \n",
      "2023-11-30 19:27:15-05:00          8.6       7.166667  2023     12    1     0   \n",
      "2023-11-30 19:38:11-05:00         20.5      18.366667  2023     12    1     0   \n",
      "2023-11-30 19:41:08-05:00         26.1      23.633333  2023     12    1     0   \n",
      "2023-11-30 19:27:05-05:00         14.2      10.966667  2023     12    1     0   \n",
      "\n",
      "                          day_name  rolling_7day  rolling_24hr  \n",
      "tpep_pickup_datetime                                            \n",
      "2023-11-30 19:06:06-05:00   Friday           NaN           NaN  \n",
      "2023-11-30 19:22:26-05:00   Friday           NaN           NaN  \n",
      "2023-11-30 19:59:44-05:00   Friday           NaN           NaN  \n",
      "2023-11-30 19:22:17-05:00   Friday           NaN           NaN  \n",
      "2023-11-30 19:18:16-05:00   Friday           NaN           NaN  \n",
      "...                            ...           ...           ...  \n",
      "2023-11-30 19:08:05-05:00   Friday           NaN           NaN  \n",
      "2023-11-30 19:27:15-05:00   Friday           NaN           NaN  \n",
      "2023-11-30 19:38:11-05:00   Friday           NaN           NaN  \n",
      "2023-11-30 19:41:08-05:00   Friday           NaN           NaN  \n",
      "2023-11-30 19:27:05-05:00   Friday           NaN           NaN  \n",
      "\n",
      "[200 rows x 14 columns]\n"
     ]
    }
   ],
   "source": [
    "print(taxi_df.head(200))"
   ]
  },
  {
   "cell_type": "code",
   "execution_count": 93,
   "id": "5587d499",
   "metadata": {},
   "outputs": [
    {
     "data": {
      "text/html": [
       "<div>\n",
       "<style scoped>\n",
       "    .dataframe tbody tr th:only-of-type {\n",
       "        vertical-align: middle;\n",
       "    }\n",
       "\n",
       "    .dataframe tbody tr th {\n",
       "        vertical-align: top;\n",
       "    }\n",
       "\n",
       "    .dataframe thead th {\n",
       "        text-align: right;\n",
       "    }\n",
       "</style>\n",
       "<table border=\"1\" class=\"dataframe\">\n",
       "  <thead>\n",
       "    <tr style=\"text-align: right;\">\n",
       "      <th></th>\n",
       "      <th>tpep_dropoff_datetime</th>\n",
       "      <th>trip_distance</th>\n",
       "      <th>passenger_count</th>\n",
       "      <th>PULocationID</th>\n",
       "      <th>DOLocationID</th>\n",
       "      <th>fare_amount</th>\n",
       "      <th>trip_duration</th>\n",
       "      <th>year</th>\n",
       "      <th>month</th>\n",
       "      <th>day</th>\n",
       "      <th>hour</th>\n",
       "      <th>day_name</th>\n",
       "    </tr>\n",
       "    <tr>\n",
       "      <th>tpep_pickup_datetime</th>\n",
       "      <th></th>\n",
       "      <th></th>\n",
       "      <th></th>\n",
       "      <th></th>\n",
       "      <th></th>\n",
       "      <th></th>\n",
       "      <th></th>\n",
       "      <th></th>\n",
       "      <th></th>\n",
       "      <th></th>\n",
       "      <th></th>\n",
       "      <th></th>\n",
       "    </tr>\n",
       "  </thead>\n",
       "  <tbody>\n",
       "    <tr>\n",
       "      <th>2023-11-30 19:06:06-05:00</th>\n",
       "      <td>2023-12-01 00:15:47</td>\n",
       "      <td>1.10</td>\n",
       "      <td>0.0</td>\n",
       "      <td>230</td>\n",
       "      <td>48</td>\n",
       "      <td>10.00</td>\n",
       "      <td>9.683333</td>\n",
       "      <td>2023</td>\n",
       "      <td>12</td>\n",
       "      <td>1</td>\n",
       "      <td>0</td>\n",
       "      <td>Friday</td>\n",
       "    </tr>\n",
       "    <tr>\n",
       "      <th>2023-11-30 19:22:26-05:00</th>\n",
       "      <td>2023-12-01 00:28:53</td>\n",
       "      <td>1.50</td>\n",
       "      <td>0.0</td>\n",
       "      <td>142</td>\n",
       "      <td>238</td>\n",
       "      <td>9.30</td>\n",
       "      <td>6.450000</td>\n",
       "      <td>2023</td>\n",
       "      <td>12</td>\n",
       "      <td>1</td>\n",
       "      <td>0</td>\n",
       "      <td>Friday</td>\n",
       "    </tr>\n",
       "    <tr>\n",
       "      <th>2023-11-30 19:59:44-05:00</th>\n",
       "      <td>2023-12-01 01:13:22</td>\n",
       "      <td>2.20</td>\n",
       "      <td>2.0</td>\n",
       "      <td>114</td>\n",
       "      <td>186</td>\n",
       "      <td>13.50</td>\n",
       "      <td>13.633333</td>\n",
       "      <td>2023</td>\n",
       "      <td>12</td>\n",
       "      <td>1</td>\n",
       "      <td>0</td>\n",
       "      <td>Friday</td>\n",
       "    </tr>\n",
       "    <tr>\n",
       "      <th>2023-11-30 19:22:17-05:00</th>\n",
       "      <td>2023-12-01 00:30:59</td>\n",
       "      <td>0.66</td>\n",
       "      <td>1.0</td>\n",
       "      <td>79</td>\n",
       "      <td>79</td>\n",
       "      <td>7.20</td>\n",
       "      <td>8.700000</td>\n",
       "      <td>2023</td>\n",
       "      <td>12</td>\n",
       "      <td>1</td>\n",
       "      <td>0</td>\n",
       "      <td>Friday</td>\n",
       "    </tr>\n",
       "    <tr>\n",
       "      <th>2023-11-30 19:18:16-05:00</th>\n",
       "      <td>2023-12-01 00:25:32</td>\n",
       "      <td>2.20</td>\n",
       "      <td>2.0</td>\n",
       "      <td>229</td>\n",
       "      <td>263</td>\n",
       "      <td>11.40</td>\n",
       "      <td>7.266667</td>\n",
       "      <td>2023</td>\n",
       "      <td>12</td>\n",
       "      <td>1</td>\n",
       "      <td>0</td>\n",
       "      <td>Friday</td>\n",
       "    </tr>\n",
       "    <tr>\n",
       "      <th>...</th>\n",
       "      <td>...</td>\n",
       "      <td>...</td>\n",
       "      <td>...</td>\n",
       "      <td>...</td>\n",
       "      <td>...</td>\n",
       "      <td>...</td>\n",
       "      <td>...</td>\n",
       "      <td>...</td>\n",
       "      <td>...</td>\n",
       "      <td>...</td>\n",
       "      <td>...</td>\n",
       "      <td>...</td>\n",
       "    </tr>\n",
       "    <tr>\n",
       "      <th>2024-01-31 18:45:59-05:00</th>\n",
       "      <td>2024-01-31 23:54:36</td>\n",
       "      <td>3.18</td>\n",
       "      <td>1.0</td>\n",
       "      <td>107</td>\n",
       "      <td>263</td>\n",
       "      <td>15.77</td>\n",
       "      <td>8.616667</td>\n",
       "      <td>2024</td>\n",
       "      <td>1</td>\n",
       "      <td>31</td>\n",
       "      <td>23</td>\n",
       "      <td>Wednesday</td>\n",
       "    </tr>\n",
       "    <tr>\n",
       "      <th>2024-01-31 18:13:07-05:00</th>\n",
       "      <td>2024-01-31 23:27:52</td>\n",
       "      <td>4.00</td>\n",
       "      <td>1.0</td>\n",
       "      <td>114</td>\n",
       "      <td>236</td>\n",
       "      <td>18.40</td>\n",
       "      <td>14.750000</td>\n",
       "      <td>2024</td>\n",
       "      <td>1</td>\n",
       "      <td>31</td>\n",
       "      <td>23</td>\n",
       "      <td>Wednesday</td>\n",
       "    </tr>\n",
       "    <tr>\n",
       "      <th>2024-01-31 18:19:00-05:00</th>\n",
       "      <td>2024-01-31 23:38:00</td>\n",
       "      <td>3.33</td>\n",
       "      <td>1.0</td>\n",
       "      <td>211</td>\n",
       "      <td>25</td>\n",
       "      <td>19.97</td>\n",
       "      <td>19.000000</td>\n",
       "      <td>2024</td>\n",
       "      <td>1</td>\n",
       "      <td>31</td>\n",
       "      <td>23</td>\n",
       "      <td>Wednesday</td>\n",
       "    </tr>\n",
       "    <tr>\n",
       "      <th>2024-01-31 18:07:23-05:00</th>\n",
       "      <td>2024-01-31 23:25:14</td>\n",
       "      <td>3.06</td>\n",
       "      <td>1.0</td>\n",
       "      <td>107</td>\n",
       "      <td>13</td>\n",
       "      <td>23.88</td>\n",
       "      <td>17.850000</td>\n",
       "      <td>2024</td>\n",
       "      <td>1</td>\n",
       "      <td>31</td>\n",
       "      <td>23</td>\n",
       "      <td>Wednesday</td>\n",
       "    </tr>\n",
       "    <tr>\n",
       "      <th>2024-01-31 18:58:25-05:00</th>\n",
       "      <td>2024-02-01 00:13:30</td>\n",
       "      <td>8.10</td>\n",
       "      <td>1.0</td>\n",
       "      <td>138</td>\n",
       "      <td>75</td>\n",
       "      <td>32.40</td>\n",
       "      <td>15.083333</td>\n",
       "      <td>2024</td>\n",
       "      <td>1</td>\n",
       "      <td>31</td>\n",
       "      <td>23</td>\n",
       "      <td>Wednesday</td>\n",
       "    </tr>\n",
       "  </tbody>\n",
       "</table>\n",
       "<p>6133282 rows × 12 columns</p>\n",
       "</div>"
      ],
      "text/plain": [
       "                          tpep_dropoff_datetime  trip_distance  \\\n",
       "tpep_pickup_datetime                                             \n",
       "2023-11-30 19:06:06-05:00   2023-12-01 00:15:47           1.10   \n",
       "2023-11-30 19:22:26-05:00   2023-12-01 00:28:53           1.50   \n",
       "2023-11-30 19:59:44-05:00   2023-12-01 01:13:22           2.20   \n",
       "2023-11-30 19:22:17-05:00   2023-12-01 00:30:59           0.66   \n",
       "2023-11-30 19:18:16-05:00   2023-12-01 00:25:32           2.20   \n",
       "...                                         ...            ...   \n",
       "2024-01-31 18:45:59-05:00   2024-01-31 23:54:36           3.18   \n",
       "2024-01-31 18:13:07-05:00   2024-01-31 23:27:52           4.00   \n",
       "2024-01-31 18:19:00-05:00   2024-01-31 23:38:00           3.33   \n",
       "2024-01-31 18:07:23-05:00   2024-01-31 23:25:14           3.06   \n",
       "2024-01-31 18:58:25-05:00   2024-02-01 00:13:30           8.10   \n",
       "\n",
       "                           passenger_count  PULocationID  DOLocationID  \\\n",
       "tpep_pickup_datetime                                                     \n",
       "2023-11-30 19:06:06-05:00              0.0           230            48   \n",
       "2023-11-30 19:22:26-05:00              0.0           142           238   \n",
       "2023-11-30 19:59:44-05:00              2.0           114           186   \n",
       "2023-11-30 19:22:17-05:00              1.0            79            79   \n",
       "2023-11-30 19:18:16-05:00              2.0           229           263   \n",
       "...                                    ...           ...           ...   \n",
       "2024-01-31 18:45:59-05:00              1.0           107           263   \n",
       "2024-01-31 18:13:07-05:00              1.0           114           236   \n",
       "2024-01-31 18:19:00-05:00              1.0           211            25   \n",
       "2024-01-31 18:07:23-05:00              1.0           107            13   \n",
       "2024-01-31 18:58:25-05:00              1.0           138            75   \n",
       "\n",
       "                           fare_amount  trip_duration  year  month  day  hour  \\\n",
       "tpep_pickup_datetime                                                            \n",
       "2023-11-30 19:06:06-05:00        10.00       9.683333  2023     12    1     0   \n",
       "2023-11-30 19:22:26-05:00         9.30       6.450000  2023     12    1     0   \n",
       "2023-11-30 19:59:44-05:00        13.50      13.633333  2023     12    1     0   \n",
       "2023-11-30 19:22:17-05:00         7.20       8.700000  2023     12    1     0   \n",
       "2023-11-30 19:18:16-05:00        11.40       7.266667  2023     12    1     0   \n",
       "...                                ...            ...   ...    ...  ...   ...   \n",
       "2024-01-31 18:45:59-05:00        15.77       8.616667  2024      1   31    23   \n",
       "2024-01-31 18:13:07-05:00        18.40      14.750000  2024      1   31    23   \n",
       "2024-01-31 18:19:00-05:00        19.97      19.000000  2024      1   31    23   \n",
       "2024-01-31 18:07:23-05:00        23.88      17.850000  2024      1   31    23   \n",
       "2024-01-31 18:58:25-05:00        32.40      15.083333  2024      1   31    23   \n",
       "\n",
       "                            day_name  \n",
       "tpep_pickup_datetime                  \n",
       "2023-11-30 19:06:06-05:00     Friday  \n",
       "2023-11-30 19:22:26-05:00     Friday  \n",
       "2023-11-30 19:59:44-05:00     Friday  \n",
       "2023-11-30 19:22:17-05:00     Friday  \n",
       "2023-11-30 19:18:16-05:00     Friday  \n",
       "...                              ...  \n",
       "2024-01-31 18:45:59-05:00  Wednesday  \n",
       "2024-01-31 18:13:07-05:00  Wednesday  \n",
       "2024-01-31 18:19:00-05:00  Wednesday  \n",
       "2024-01-31 18:07:23-05:00  Wednesday  \n",
       "2024-01-31 18:58:25-05:00  Wednesday  \n",
       "\n",
       "[6133282 rows x 12 columns]"
      ]
     },
     "execution_count": 93,
     "metadata": {},
     "output_type": "execute_result"
    }
   ],
   "source": [
    "taxi_df.drop(['rolling_24hr','rolling_7day'], axis=1)"
   ]
  },
  {
   "cell_type": "code",
   "execution_count": 95,
   "id": "a8f31e50",
   "metadata": {},
   "outputs": [],
   "source": [
    "daily_trips = daily_trips.reindex(taxi_df.index, fill_value=0)"
   ]
  },
  {
   "cell_type": "code",
   "execution_count": 101,
   "id": "1dc04617",
   "metadata": {},
   "outputs": [],
   "source": [
    "rolling_avg = daily_trips.rolling(7).mean()"
   ]
  },
  {
   "cell_type": "code",
   "execution_count": 102,
   "id": "26d43134",
   "metadata": {},
   "outputs": [
    {
     "name": "stdout",
     "output_type": "stream",
     "text": [
      "tpep_pickup_datetime\n",
      "2023-11-30 00:00:00-05:00              NaN\n",
      "2023-12-01 00:00:00-05:00              NaN\n",
      "2023-12-02 00:00:00-05:00              NaN\n",
      "2023-12-03 00:00:00-05:00              NaN\n",
      "2023-12-04 00:00:00-05:00              NaN\n",
      "2023-12-05 00:00:00-05:00              NaN\n",
      "2023-12-06 00:00:00-05:00     99947.857143\n",
      "2023-12-07 00:00:00-05:00    118220.285714\n",
      "2023-12-08 00:00:00-05:00    118491.142857\n",
      "2023-12-09 00:00:00-05:00    120024.857143\n",
      "2023-12-10 00:00:00-05:00    120457.142857\n",
      "2023-12-11 00:00:00-05:00    121573.857143\n",
      "2023-12-12 00:00:00-05:00    122144.571429\n",
      "2023-12-13 00:00:00-05:00    122976.857143\n",
      "2023-12-14 00:00:00-05:00    124230.571429\n",
      "2023-12-15 00:00:00-05:00    125404.571429\n",
      "2023-12-16 00:00:00-05:00    125341.000000\n",
      "2023-12-17 00:00:00-05:00    124704.714286\n",
      "2023-12-18 00:00:00-05:00    123330.142857\n",
      "2023-12-19 00:00:00-05:00    122682.714286\n",
      "Freq: D, dtype: float64\n"
     ]
    }
   ],
   "source": [
    "print(rolling_avg.head(20))"
   ]
  },
  {
   "cell_type": "code",
   "execution_count": 103,
   "id": "5644c481",
   "metadata": {},
   "outputs": [
    {
     "data": {
      "image/png": "[encoded data removed]",
      "text/plain": [
       "<Figure size 1200x600 with 1 Axes>"
      ]
     },
     "metadata": {},
     "output_type": "display_data"
    }
   ],
   "source": [
    "plt.figure(figsize=(12, 6))\n",
    "daily_trips.plot(alpha=0.5, label='Daily Trips')\n",
    "rolling_avg.plot(color='orange', linewidth=3, label='7-Day Rolling Avg')\n",
    "plt.title(\"Daily Trips vs 7-Day Rolling Average\")\n",
    "plt.xlabel(\"Date\")\n",
    "plt.ylabel(\"Trips\")\n",
    "plt.legend()\n",
    "plt.grid(True)\n",
    "plt.show()"
   ]
  },
  {
   "cell_type": "code",
   "execution_count": null,
   "id": "2e28fab0",
   "metadata": {},
   "outputs": [
    {
     "name": "stdout",
     "output_type": "stream",
     "text": [
      "tpep_pickup_datetime\n",
      "2023-11-30 00:00:00-05:00         NaN\n",
      "2023-12-01 00:00:00-05:00         NaN\n",
      "2023-12-02 00:00:00-05:00         NaN\n",
      "2023-12-03 00:00:00-05:00      8396.0\n",
      "2023-12-04 00:00:00-05:00    134796.0\n",
      "                               ...   \n",
      "2024-01-27 00:00:00-05:00    102504.0\n",
      "2024-01-28 00:00:00-05:00    109393.0\n",
      "2024-01-29 00:00:00-05:00    112300.0\n",
      "2024-01-30 00:00:00-05:00    110934.0\n",
      "2024-01-31 00:00:00-05:00     72454.0\n",
      "Freq: D, Length: 63, dtype: float64\n"
     ]
    }
   ],
   "source": [
    "prev_day_trips = daily_trips.shift(3)\n",
    "print(prev_day_trips.head(200))"
   ]
  },
  {
   "cell_type": "code",
   "execution_count": 115,
   "id": "481978c7",
   "metadata": {},
   "outputs": [
    {
     "name": "stdout",
     "output_type": "stream",
     "text": [
      "tpep_pickup_datetime\n",
      "2023-11-30 00:00:00-05:00     empty\n",
      "2023-12-01 00:00:00-05:00     empty\n",
      "2023-12-02 00:00:00-05:00     empty\n",
      "2023-12-03 00:00:00-05:00      8396\n",
      "2023-12-04 00:00:00-05:00    134796\n",
      "                              ...  \n",
      "2024-01-27 00:00:00-05:00    102504\n",
      "2024-01-28 00:00:00-05:00    109393\n",
      "2024-01-29 00:00:00-05:00    112300\n",
      "2024-01-30 00:00:00-05:00    110934\n",
      "2024-01-31 00:00:00-05:00     72454\n",
      "Freq: D, Length: 63, dtype: object\n"
     ]
    }
   ],
   "source": [
    "prev_day_trips = daily_trips.shift(3, fill_value='empty')\n",
    "print(prev_day_trips.head(200))"
   ]
  },
  {
   "cell_type": "code",
   "execution_count": 116,
   "id": "528e3179",
   "metadata": {},
   "outputs": [
    {
     "name": "stdout",
     "output_type": "stream",
     "text": [
      "tpep_pickup_datetime\n",
      "2023-12-03 00:00:00-05:00      8396\n",
      "2023-12-04 00:00:00-05:00    134796\n",
      "2023-12-05 00:00:00-05:00    121455\n",
      "2023-12-06 00:00:00-05:00     86362\n",
      "2023-12-07 00:00:00-05:00     99934\n",
      "                              ...  \n",
      "2024-01-30 00:00:00-05:00    110934\n",
      "2024-01-31 00:00:00-05:00     72454\n",
      "2024-02-01 00:00:00-05:00     82501\n",
      "2024-02-02 00:00:00-05:00     98344\n",
      "2024-02-03 00:00:00-05:00     96990\n",
      "Freq: D, Length: 63, dtype: int64\n"
     ]
    }
   ],
   "source": [
    "prev_day_trips = daily_trips.shift(3, freq='D')\n",
    "print(prev_day_trips.head(200))"
   ]
  },
  {
   "cell_type": "code",
   "execution_count": null,
   "id": "d798e0dc",
   "metadata": {},
   "outputs": [
    {
     "name": "stdout",
     "output_type": "stream",
     "text": [
      "                                time_diff  time_diff_minutes\n",
      "tpep_pickup_datetime                                        \n",
      "2023-11-30 17:54:23-05:00             NaT                NaN\n",
      "2023-11-30 18:24:47-05:00 0 days 00:30:24          30.400000\n",
      "2023-11-30 18:38:43-05:00 0 days 00:13:56          13.933333\n",
      "2023-11-30 18:52:15-05:00 0 days 00:13:32          13.533333\n",
      "2023-11-30 18:52:53-05:00 0 days 00:00:38           0.633333\n",
      "2023-11-30 18:53:13-05:00 0 days 00:00:20           0.333333\n",
      "2023-11-30 18:53:20-05:00 0 days 00:00:07           0.116667\n",
      "2023-11-30 18:54:29-05:00 0 days 00:01:09           1.150000\n",
      "2023-11-30 18:54:32-05:00 0 days 00:00:03           0.050000\n",
      "2023-11-30 18:54:57-05:00 0 days 00:00:25           0.416667\n"
     ]
    }
   ],
   "source": [
    "taxi_df = taxi_df.sort_index()\n",
    "\n",
    "taxi_df['time_diff'] = taxi_df.index.to_series().diff()\n",
    "taxi_df['time_diff_minutes'] = taxi_df['time_diff'].dt.total_seconds() / 60\n",
    "\n",
    "print(taxi_df[['time_diff', 'time_diff_minutes']].head(10))"
   ]
  },
  {
   "cell_type": "code",
   "execution_count": null,
   "id": "cd201a5a",
   "metadata": {},
   "outputs": [
    {
     "name": "stdout",
     "output_type": "stream",
     "text": [
      "Average time between trips: 0.01 minutes\n",
      "High-frequency periods: 6133278 trips\n"
     ]
    }
   ],
   "source": [
    "# Average time between trips\n",
    "avg_time_between = taxi_df['time_diff_minutes'].mean()\n",
    "print(f\"Average time between trips: {avg_time_between:.2f} minutes\")\n",
    "\n",
    "# Busiest periods (shortest time between trips)\n",
    "busy_periods = taxi_df[taxi_df['time_diff_minutes'] < 5]\n",
    "print(f\"High-frequency periods: {len(busy_periods)} trips\")"
   ]
  },
  {
   "cell_type": "markdown",
   "id": "0f5460b8",
   "metadata": {},
   "source": [
    "This is irrelavant here as the data is not for a single taxi. But time diff can be used like this!"
   ]
  },
  {
   "cell_type": "markdown",
   "id": "d1032315",
   "metadata": {},
   "source": [
    "#### Most Frequent Pickup Hours per Day"
   ]
  },
  {
   "cell_type": "code",
   "execution_count": 125,
   "id": "51b14583",
   "metadata": {},
   "outputs": [
    {
     "name": "stdout",
     "output_type": "stream",
     "text": [
      "         date  hour  trip_count\n",
      "0  2023-11-30    17           1\n",
      "1  2023-11-30    18          32\n",
      "2  2023-11-30    19        3933\n",
      "3  2023-11-30    20        1935\n",
      "4  2023-11-30    21        1292\n",
      "5  2023-11-30    22         689\n",
      "6  2023-11-30    23         514\n",
      "7  2023-12-01     0         664\n",
      "8  2023-12-01     1        1500\n",
      "9  2023-12-01     2        3414\n"
     ]
    }
   ],
   "source": [
    "# Reset index to get datetime back as column\n",
    "taxi_df_reset = taxi_df.reset_index()\n",
    "\n",
    "# Get pickup hour\n",
    "taxi_df_reset['hour'] = taxi_df_reset['tpep_pickup_datetime'].dt.hour\n",
    "taxi_df_reset['date'] = taxi_df_reset['tpep_pickup_datetime'].dt.date\n",
    "\n",
    "# Group by date and aggregate all hours into a list\n",
    "hour_lists = taxi_df_reset.groupby('date')['hour'].apply(list).reset_index()\n",
    "\n",
    "# Explode the list to get one hour per row\n",
    "exploded = hour_lists.explode('hour')\n",
    "\n",
    "# Count frequency\n",
    "hourly_counts = exploded.groupby(['date', 'hour']).size().reset_index(name='trip_count')\n",
    "print(hourly_counts.head(10))\n"
   ]
  },
  {
   "cell_type": "code",
   "execution_count": 124,
   "id": "7f3daa6a",
   "metadata": {},
   "outputs": [
    {
     "data": {
      "text/html": [
       "<div>\n",
       "<style scoped>\n",
       "    .dataframe tbody tr th:only-of-type {\n",
       "        vertical-align: middle;\n",
       "    }\n",
       "\n",
       "    .dataframe tbody tr th {\n",
       "        vertical-align: top;\n",
       "    }\n",
       "\n",
       "    .dataframe thead th {\n",
       "        text-align: right;\n",
       "    }\n",
       "</style>\n",
       "<table border=\"1\" class=\"dataframe\">\n",
       "  <thead>\n",
       "    <tr style=\"text-align: right;\">\n",
       "      <th></th>\n",
       "      <th>date</th>\n",
       "      <th>hour</th>\n",
       "    </tr>\n",
       "  </thead>\n",
       "  <tbody>\n",
       "    <tr>\n",
       "      <th>0</th>\n",
       "      <td>2023-11-30</td>\n",
       "      <td>[17, 18, 18, 18, 18, 18, 18, 18, 18, 18, 18, 1...</td>\n",
       "    </tr>\n",
       "    <tr>\n",
       "      <th>1</th>\n",
       "      <td>2023-12-01</td>\n",
       "      <td>[0, 0, 0, 0, 0, 0, 0, 0, 0, 0, 0, 0, 0, 0, 0, ...</td>\n",
       "    </tr>\n",
       "    <tr>\n",
       "      <th>2</th>\n",
       "      <td>2023-12-02</td>\n",
       "      <td>[0, 0, 0, 0, 0, 0, 0, 0, 0, 0, 0, 0, 0, 0, 0, ...</td>\n",
       "    </tr>\n",
       "    <tr>\n",
       "      <th>3</th>\n",
       "      <td>2023-12-03</td>\n",
       "      <td>[0, 0, 0, 0, 0, 0, 0, 0, 0, 0, 0, 0, 0, 0, 0, ...</td>\n",
       "    </tr>\n",
       "    <tr>\n",
       "      <th>4</th>\n",
       "      <td>2023-12-04</td>\n",
       "      <td>[0, 0, 0, 0, 0, 0, 0, 0, 0, 0, 0, 0, 0, 0, 0, ...</td>\n",
       "    </tr>\n",
       "    <tr>\n",
       "      <th>...</th>\n",
       "      <td>...</td>\n",
       "      <td>...</td>\n",
       "    </tr>\n",
       "    <tr>\n",
       "      <th>58</th>\n",
       "      <td>2024-01-27</td>\n",
       "      <td>[0, 0, 0, 0, 0, 0, 0, 0, 0, 0, 0, 0, 0, 0, 0, ...</td>\n",
       "    </tr>\n",
       "    <tr>\n",
       "      <th>59</th>\n",
       "      <td>2024-01-28</td>\n",
       "      <td>[0, 0, 0, 0, 0, 0, 0, 0, 0, 0, 0, 0, 0, 0, 0, ...</td>\n",
       "    </tr>\n",
       "    <tr>\n",
       "      <th>60</th>\n",
       "      <td>2024-01-29</td>\n",
       "      <td>[0, 0, 0, 0, 0, 0, 0, 0, 0, 0, 0, 0, 0, 0, 0, ...</td>\n",
       "    </tr>\n",
       "    <tr>\n",
       "      <th>61</th>\n",
       "      <td>2024-01-30</td>\n",
       "      <td>[0, 0, 0, 0, 0, 0, 0, 0, 0, 0, 0, 0, 0, 0, 0, ...</td>\n",
       "    </tr>\n",
       "    <tr>\n",
       "      <th>62</th>\n",
       "      <td>2024-01-31</td>\n",
       "      <td>[0, 0, 0, 0, 0, 0, 0, 0, 0, 0, 0, 0, 0, 0, 0, ...</td>\n",
       "    </tr>\n",
       "  </tbody>\n",
       "</table>\n",
       "<p>63 rows × 2 columns</p>\n",
       "</div>"
      ],
      "text/plain": [
       "          date                                               hour\n",
       "0   2023-11-30  [17, 18, 18, 18, 18, 18, 18, 18, 18, 18, 18, 1...\n",
       "1   2023-12-01  [0, 0, 0, 0, 0, 0, 0, 0, 0, 0, 0, 0, 0, 0, 0, ...\n",
       "2   2023-12-02  [0, 0, 0, 0, 0, 0, 0, 0, 0, 0, 0, 0, 0, 0, 0, ...\n",
       "3   2023-12-03  [0, 0, 0, 0, 0, 0, 0, 0, 0, 0, 0, 0, 0, 0, 0, ...\n",
       "4   2023-12-04  [0, 0, 0, 0, 0, 0, 0, 0, 0, 0, 0, 0, 0, 0, 0, ...\n",
       "..         ...                                                ...\n",
       "58  2024-01-27  [0, 0, 0, 0, 0, 0, 0, 0, 0, 0, 0, 0, 0, 0, 0, ...\n",
       "59  2024-01-28  [0, 0, 0, 0, 0, 0, 0, 0, 0, 0, 0, 0, 0, 0, 0, ...\n",
       "60  2024-01-29  [0, 0, 0, 0, 0, 0, 0, 0, 0, 0, 0, 0, 0, 0, 0, ...\n",
       "61  2024-01-30  [0, 0, 0, 0, 0, 0, 0, 0, 0, 0, 0, 0, 0, 0, 0, ...\n",
       "62  2024-01-31  [0, 0, 0, 0, 0, 0, 0, 0, 0, 0, 0, 0, 0, 0, 0, ...\n",
       "\n",
       "[63 rows x 2 columns]"
      ]
     },
     "execution_count": 124,
     "metadata": {},
     "output_type": "execute_result"
    }
   ],
   "source": [
    "hour_lists"
   ]
  },
  {
   "cell_type": "markdown",
   "id": "201965fd",
   "metadata": {},
   "source": [
    "#### Time Periods"
   ]
  },
  {
   "cell_type": "code",
   "execution_count": 126,
   "id": "d73ee82e",
   "metadata": {},
   "outputs": [],
   "source": [
    "# Categorize each trip into multiple time periods it spans\n",
    "def get_time_categories(hour):\n",
    "    categories = []\n",
    "    if 6 <= hour <= 9: categories.append('morning_rush')\n",
    "    if 17 <= hour <= 19: categories.append('evening_rush')\n",
    "    if 22 <= hour or hour <= 5: categories.append('late_night')\n",
    "    if 9 <= hour <= 17: categories.append('business_hours')\n",
    "    return categories if categories else ['off_peak']\n",
    "\n",
    "taxi_df_reset['time_categories'] = taxi_df_reset['hour'].apply(get_time_categories)\n",
    "\n",
    "# Explode to analyze overlapping time periods\n",
    "time_exploded = taxi_df_reset[['date', 'time_categories', 'trip_distance']].explode('time_categories')\n",
    "avg_distance_by_period = time_exploded.groupby('time_categories')['trip_distance'].mean()"
   ]
  },
  {
   "cell_type": "code",
   "execution_count": 127,
   "id": "9c7262e4",
   "metadata": {},
   "outputs": [
    {
     "name": "stdout",
     "output_type": "stream",
     "text": [
      "         date time_categories  trip_distance\n",
      "0  2023-11-30    evening_rush           2.09\n",
      "0  2023-11-30  business_hours           2.09\n",
      "1  2023-11-30    evening_rush           1.39\n",
      "2  2023-11-30    evening_rush           1.52\n",
      "3  2023-11-30    evening_rush           1.14\n",
      "4  2023-11-30    evening_rush           6.70\n",
      "5  2023-11-30    evening_rush           3.60\n",
      "6  2023-11-30    evening_rush           8.14\n",
      "7  2023-11-30    evening_rush           1.29\n",
      "8  2023-11-30    evening_rush           1.05\n",
      "time_categories\n",
      "business_hours    3383146\n",
      "morning_rush      1383593\n",
      "late_night        1126701\n",
      "evening_rush       733266\n",
      "off_peak           195428\n",
      "Name: count, dtype: int64\n"
     ]
    }
   ],
   "source": [
    "# Show the first 10 rows after exploding\n",
    "print(time_exploded.head(10))\n",
    "\n",
    "# Count trips per category\n",
    "print(time_exploded['time_categories'].value_counts())"
   ]
  }
 ],
 "metadata": {
  "kernelspec": {
   "display_name": "venv",
   "language": "python",
   "name": "python3"
  },
  "language_info": {
   "codemirror_mode": {
    "name": "ipython",
    "version": 3
   },
   "file_extension": ".py",
   "mimetype": "text/x-python",
   "name": "python",
   "nbconvert_exporter": "python",
   "pygments_lexer": "ipython3",
   "version": "3.12.10"
  }
 },
 "nbformat": 4,
 "nbformat_minor": 5
}
