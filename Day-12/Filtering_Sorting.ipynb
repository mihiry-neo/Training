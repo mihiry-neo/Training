{
  "cells": [
    {
      "cell_type": "markdown",
      "metadata": {
        "id": "1cjYi9f1lbD0"
      },
      "source": [
        "# Filtering and Sorting Data"
      ]
    },
    {
      "cell_type": "markdown",
      "metadata": {
        "id": "YSnabptalbD2"
      },
      "source": [
        "This time we are going to pull data directly from the internet.\n",
        "\n",
        "### Step 1. Import the necessary libraries"
      ]
    },
    {
      "cell_type": "code",
      "execution_count": 4,
      "metadata": {
        "id": "XtO3L_j1lbD3"
      },
      "outputs": [],
      "source": [
        "from pyspark.sql.functions import *\n",
        "from pyspark.sql.window import *\n",
        "from pyspark.sql import SparkSession"
      ]
    },
    {
      "cell_type": "code",
      "source": [
        "spark = SparkSession.builder.appName(\"Euro\").getOrCreate()"
      ],
      "metadata": {
        "id": "8AAUwogcl0l2"
      },
      "execution_count": 7,
      "outputs": []
    },
    {
      "cell_type": "markdown",
      "metadata": {
        "id": "hPmYeWYBlbD4"
      },
      "source": [
        "### Step 2. Import the dataset from this [address](https://raw.githubusercontent.com/guipsamora/pandas_exercises/master/02_Filtering_%26_Sorting/Euro12/Euro_2012_stats_TEAM.csv)."
      ]
    },
    {
      "cell_type": "markdown",
      "metadata": {
        "id": "stC3C75ulbD4"
      },
      "source": [
        "### Step 3. Assign it to a variable called euro12."
      ]
    },
    {
      "cell_type": "code",
      "source": [
        "!wget https://raw.githubusercontent.com/guipsamora/pandas_exercises/master/02_Filtering_%26_Sorting/Euro12/Euro_2012_stats_TEAM.csv -O euro"
      ],
      "metadata": {
        "colab": {
          "base_uri": "https://localhost:8080/"
        },
        "id": "yoSdwqh5mVMf",
        "outputId": "a6d6bfc7-5fa5-4b80-8568-b6e061637ac8"
      },
      "execution_count": 8,
      "outputs": [
        {
          "output_type": "stream",
          "name": "stdout",
          "text": [
            "--2025-06-20 09:09:27--  https://raw.githubusercontent.com/guipsamora/pandas_exercises/master/02_Filtering_%26_Sorting/Euro12/Euro_2012_stats_TEAM.csv\n",
            "Resolving raw.githubusercontent.com (raw.githubusercontent.com)... 185.199.111.133, 185.199.108.133, 185.199.109.133, ...\n",
            "Connecting to raw.githubusercontent.com (raw.githubusercontent.com)|185.199.111.133|:443... connected.\n",
            "HTTP request sent, awaiting response... 200 OK\n",
            "Length: 2319 (2.3K) [text/plain]\n",
            "Saving to: ‘euro’\n",
            "\n",
            "\reuro                  0%[                    ]       0  --.-KB/s               \reuro                100%[===================>]   2.26K  --.-KB/s    in 0s      \n",
            "\n",
            "2025-06-20 09:09:27 (29.8 MB/s) - ‘euro’ saved [2319/2319]\n",
            "\n"
          ]
        }
      ]
    },
    {
      "cell_type": "code",
      "execution_count": 9,
      "metadata": {
        "id": "zUFYS-9tlbD5"
      },
      "outputs": [],
      "source": [
        "euro12 = spark.read.format(\"csv\") \\\n",
        ".option(\"header\",\"true\") \\\n",
        ".option(\"inferSchema\",\"true\") \\\n",
        ".load(\"euro\")"
      ]
    },
    {
      "cell_type": "markdown",
      "metadata": {
        "id": "ByE0DBiglbD5"
      },
      "source": [
        "### Step 4. Select only the Goal column."
      ]
    },
    {
      "cell_type": "code",
      "execution_count": 11,
      "metadata": {
        "colab": {
          "base_uri": "https://localhost:8080/"
        },
        "id": "iiAjBOcklbD5",
        "outputId": "9d748e0d-ced4-46e4-8ca7-3ea169ecad0b"
      },
      "outputs": [
        {
          "output_type": "stream",
          "name": "stdout",
          "text": [
            "+-----+\n",
            "|Goals|\n",
            "+-----+\n",
            "|    4|\n",
            "|    4|\n",
            "|    4|\n",
            "|    5|\n",
            "|    3|\n",
            "|   10|\n",
            "|    5|\n",
            "|    6|\n",
            "|    2|\n",
            "|    2|\n",
            "|    6|\n",
            "|    1|\n",
            "|    5|\n",
            "|   12|\n",
            "|    5|\n",
            "|    2|\n",
            "+-----+\n",
            "\n"
          ]
        }
      ],
      "source": [
        "euro12.select(\"Goals\").show()"
      ]
    },
    {
      "cell_type": "code",
      "source": [
        "euro12.columns"
      ],
      "metadata": {
        "colab": {
          "base_uri": "https://localhost:8080/"
        },
        "id": "ENKcsuBpnEb2",
        "outputId": "1b17cab5-4334-45c8-b226-28ea666164bb"
      },
      "execution_count": 12,
      "outputs": [
        {
          "output_type": "execute_result",
          "data": {
            "text/plain": [
              "['Team',\n",
              " 'Goals',\n",
              " 'Shots on target',\n",
              " 'Shots off target',\n",
              " 'Shooting Accuracy',\n",
              " '% Goals-to-shots',\n",
              " 'Total shots (inc. Blocked)',\n",
              " 'Hit Woodwork',\n",
              " 'Penalty goals',\n",
              " 'Penalties not scored',\n",
              " 'Headed goals',\n",
              " 'Passes',\n",
              " 'Passes completed',\n",
              " 'Passing Accuracy',\n",
              " 'Touches',\n",
              " 'Crosses',\n",
              " 'Dribbles',\n",
              " 'Corners Taken',\n",
              " 'Tackles',\n",
              " 'Clearances',\n",
              " 'Interceptions',\n",
              " 'Clearances off line',\n",
              " 'Clean Sheets',\n",
              " 'Blocks',\n",
              " 'Goals conceded',\n",
              " 'Saves made',\n",
              " 'Saves-to-shots ratio',\n",
              " 'Fouls Won',\n",
              " 'Fouls Conceded',\n",
              " 'Offsides',\n",
              " 'Yellow Cards',\n",
              " 'Red Cards',\n",
              " 'Subs on',\n",
              " 'Subs off',\n",
              " 'Players Used']"
            ]
          },
          "metadata": {},
          "execution_count": 12
        }
      ]
    },
    {
      "cell_type": "markdown",
      "metadata": {
        "id": "S1V1_4XclbD5"
      },
      "source": [
        "### Step 5. How many team participated in the Euro2012?"
      ]
    },
    {
      "cell_type": "code",
      "execution_count": 14,
      "metadata": {
        "colab": {
          "base_uri": "https://localhost:8080/"
        },
        "id": "pyBRnceulbD6",
        "outputId": "aa24af7b-69dd-4b4a-ade5-ae5669d05245"
      },
      "outputs": [
        {
          "output_type": "execute_result",
          "data": {
            "text/plain": [
              "16"
            ]
          },
          "metadata": {},
          "execution_count": 14
        }
      ],
      "source": [
        "euro12.select(\"Team\").distinct().count()"
      ]
    },
    {
      "cell_type": "markdown",
      "metadata": {
        "id": "ggppQ-hKlbD6"
      },
      "source": [
        "### Step 6. What is the number of columns in the dataset?"
      ]
    },
    {
      "cell_type": "code",
      "execution_count": 15,
      "metadata": {
        "colab": {
          "base_uri": "https://localhost:8080/"
        },
        "id": "CwEIVZRHlbD7",
        "outputId": "65f08297-7852-4c02-8eb8-2001dfe76702"
      },
      "outputs": [
        {
          "output_type": "stream",
          "name": "stdout",
          "text": [
            "35\n"
          ]
        }
      ],
      "source": [
        "print(len(euro12.columns))"
      ]
    },
    {
      "cell_type": "markdown",
      "metadata": {
        "id": "d6X9Z9jFlbD7"
      },
      "source": [
        "### Step 7. View only the columns Team, Yellow Cards and Red Cards and assign them to a dataframe called discipline"
      ]
    },
    {
      "cell_type": "code",
      "execution_count": 16,
      "metadata": {
        "colab": {
          "base_uri": "https://localhost:8080/"
        },
        "id": "WY-znyfFlbD7",
        "outputId": "ff288058-f8a8-4f6b-d4c4-fa0a188f011c"
      },
      "outputs": [
        {
          "output_type": "stream",
          "name": "stdout",
          "text": [
            "+-------------------+------------+---------+\n",
            "|               Team|Yellow Cards|Red Cards|\n",
            "+-------------------+------------+---------+\n",
            "|            Croatia|           9|        0|\n",
            "|     Czech Republic|           7|        0|\n",
            "|            Denmark|           4|        0|\n",
            "|            England|           5|        0|\n",
            "|             France|           6|        0|\n",
            "|            Germany|           4|        0|\n",
            "|             Greece|           9|        1|\n",
            "|              Italy|          16|        0|\n",
            "|        Netherlands|           5|        0|\n",
            "|             Poland|           7|        1|\n",
            "|           Portugal|          12|        0|\n",
            "|Republic of Ireland|           6|        1|\n",
            "|             Russia|           6|        0|\n",
            "|              Spain|          11|        0|\n",
            "|             Sweden|           7|        0|\n",
            "|            Ukraine|           5|        0|\n",
            "+-------------------+------------+---------+\n",
            "\n"
          ]
        }
      ],
      "source": [
        "discipline = euro12.select(\"Team\",\"Yellow Cards\",\"Red Cards\")\n",
        "discipline.show()"
      ]
    },
    {
      "cell_type": "markdown",
      "metadata": {
        "id": "QNSiYivzlbD7"
      },
      "source": [
        "### Step 8. Sort the teams by Red Cards, then to Yellow Cards"
      ]
    },
    {
      "cell_type": "code",
      "execution_count": 26,
      "metadata": {
        "scrolled": true,
        "colab": {
          "base_uri": "https://localhost:8080/"
        },
        "id": "Jlgc5VbwlbD7",
        "outputId": "ae6b561c-53d4-4edb-a179-ca9345c5f605"
      },
      "outputs": [
        {
          "output_type": "stream",
          "name": "stdout",
          "text": [
            "+-------------------+------------+---------+\n",
            "|               Team|Yellow Cards|Red Cards|\n",
            "+-------------------+------------+---------+\n",
            "|             Greece|           9|        1|\n",
            "|             Poland|           7|        1|\n",
            "|Republic of Ireland|           6|        1|\n",
            "|              Italy|          16|        0|\n",
            "|           Portugal|          12|        0|\n",
            "|              Spain|          11|        0|\n",
            "|            Croatia|           9|        0|\n",
            "|     Czech Republic|           7|        0|\n",
            "|             Sweden|           7|        0|\n",
            "|             France|           6|        0|\n",
            "|             Russia|           6|        0|\n",
            "|            England|           5|        0|\n",
            "|        Netherlands|           5|        0|\n",
            "|            Ukraine|           5|        0|\n",
            "|            Denmark|           4|        0|\n",
            "|            Germany|           4|        0|\n",
            "+-------------------+------------+---------+\n",
            "\n"
          ]
        }
      ],
      "source": [
        "discipline.orderBy(col(\"Red Cards\").desc(), col(\"Yellow Cards\").desc()).show()\n",
        "# Here we have passed two cols in order as needed, to sort first by red cards and then by yellow cards"
      ]
    },
    {
      "cell_type": "markdown",
      "metadata": {
        "id": "VjE8RdxClbD8"
      },
      "source": [
        "### Step 9. Calculate the mean Yellow Cards given per Team"
      ]
    },
    {
      "cell_type": "code",
      "execution_count": 31,
      "metadata": {
        "colab": {
          "base_uri": "https://localhost:8080/"
        },
        "id": "-S9iQyfolbD8",
        "outputId": "c5a55483-bb1c-4c14-e381-28a5dec9ad3e"
      },
      "outputs": [
        {
          "output_type": "stream",
          "name": "stdout",
          "text": [
            "+-------------------+--------------+\n",
            "|               Team|Mean_Yel_cards|\n",
            "+-------------------+--------------+\n",
            "|             Russia|           6.0|\n",
            "|             Sweden|           7.0|\n",
            "|            Germany|           4.0|\n",
            "|             France|           6.0|\n",
            "|             Greece|           9.0|\n",
            "|            Croatia|           9.0|\n",
            "|              Italy|          16.0|\n",
            "|              Spain|          11.0|\n",
            "|            Denmark|           4.0|\n",
            "|            Ukraine|           5.0|\n",
            "|     Czech Republic|           7.0|\n",
            "|Republic of Ireland|           6.0|\n",
            "|            England|           5.0|\n",
            "|             Poland|           7.0|\n",
            "|           Portugal|          12.0|\n",
            "|        Netherlands|           5.0|\n",
            "+-------------------+--------------+\n",
            "\n"
          ]
        }
      ],
      "source": [
        "discipline.groupBy(\"Team\").agg(mean(\"Yellow Cards\").alias(\"Mean_Yel_cards\")).show()\n",
        "# OR discipline.agg(mean(\"Yellow Cards\").alias(\"Mean_yellow_cards\")).show()"
      ]
    },
    {
      "cell_type": "markdown",
      "metadata": {
        "id": "BfkwjQ14lbD8"
      },
      "source": [
        "### Step 10. Filter teams that scored more than 6 goals"
      ]
    },
    {
      "cell_type": "code",
      "execution_count": 32,
      "metadata": {
        "colab": {
          "base_uri": "https://localhost:8080/"
        },
        "id": "tLWKw88ZlbD8",
        "outputId": "a8341ab2-ac3e-4f38-f35f-668246a76251"
      },
      "outputs": [
        {
          "output_type": "stream",
          "name": "stdout",
          "text": [
            "+-------+-----+---------------+----------------+-----------------+----------------+--------------------------+------------+-------------+--------------------+------------+------+----------------+----------------+-------+-------+--------+-------------+-------+----------+-------------+-------------------+------------+------+--------------+----------+--------------------+---------+--------------+--------+------------+---------+-------+--------+------------+\n",
            "|   Team|Goals|Shots on target|Shots off target|Shooting Accuracy|% Goals-to-shots|Total shots (inc. Blocked)|Hit Woodwork|Penalty goals|Penalties not scored|Headed goals|Passes|Passes completed|Passing Accuracy|Touches|Crosses|Dribbles|Corners Taken|Tackles|Clearances|Interceptions|Clearances off line|Clean Sheets|Blocks|Goals conceded|Saves made|Saves-to-shots ratio|Fouls Won|Fouls Conceded|Offsides|Yellow Cards|Red Cards|Subs on|Subs off|Players Used|\n",
            "+-------+-----+---------------+----------------+-----------------+----------------+--------------------------+------------+-------------+--------------------+------------+------+----------------+----------------+-------+-------+--------+-------------+-------+----------+-------------+-------------------+------------+------+--------------+----------+--------------------+---------+--------------+--------+------------+---------+-------+--------+------------+\n",
            "|Germany|   10|             32|              32|            47.8%|           15.6%|                        80|           2|            1|                   0|           2|  2774|            2427|           87.4%|   3761|    101|      60|           35|     91|        73|           69|                  0|           1|    11|             6|        10|               62.6%|       63|            49|      12|           4|        0|     15|      15|          17|\n",
            "|  Spain|   12|             42|              33|            55.9%|           16.0%|                       100|           0|            1|                   0|           2|  4317|            3820|           88.4%|   5585|     69|     106|           44|    122|       102|           79|                  0|           5|     8|             1|        15|               93.8%|      102|            83|      19|          11|        0|     17|      17|          18|\n",
            "+-------+-----+---------------+----------------+-----------------+----------------+--------------------------+------------+-------------+--------------------+------------+------+----------------+----------------+-------+-------+--------+-------------+-------+----------+-------------+-------------------+------------+------+--------------+----------+--------------------+---------+--------------+--------+------------+---------+-------+--------+------------+\n",
            "\n"
          ]
        }
      ],
      "source": [
        "euro12.where(col(\"Goals\") > 6).show()"
      ]
    },
    {
      "cell_type": "markdown",
      "metadata": {
        "id": "LiEfDrkelbD9"
      },
      "source": [
        "### Step 11. Select the teams that start with G"
      ]
    },
    {
      "cell_type": "code",
      "execution_count": 35,
      "metadata": {
        "colab": {
          "base_uri": "https://localhost:8080/"
        },
        "id": "3XDGFmKElbD9",
        "outputId": "a3d4d850-0ffa-42b2-a744-80dd651b286b"
      },
      "outputs": [
        {
          "output_type": "stream",
          "name": "stdout",
          "text": [
            "+-------+-----+---------------+----------------+-----------------+----------------+--------------------------+------------+-------------+--------------------+------------+------+----------------+----------------+-------+-------+--------+-------------+-------+----------+-------------+-------------------+------------+------+--------------+----------+--------------------+---------+--------------+--------+------------+---------+-------+--------+------------+\n",
            "|   Team|Goals|Shots on target|Shots off target|Shooting Accuracy|% Goals-to-shots|Total shots (inc. Blocked)|Hit Woodwork|Penalty goals|Penalties not scored|Headed goals|Passes|Passes completed|Passing Accuracy|Touches|Crosses|Dribbles|Corners Taken|Tackles|Clearances|Interceptions|Clearances off line|Clean Sheets|Blocks|Goals conceded|Saves made|Saves-to-shots ratio|Fouls Won|Fouls Conceded|Offsides|Yellow Cards|Red Cards|Subs on|Subs off|Players Used|\n",
            "+-------+-----+---------------+----------------+-----------------+----------------+--------------------------+------------+-------------+--------------------+------------+------+----------------+----------------+-------+-------+--------+-------------+-------+----------+-------------+-------------------+------------+------+--------------+----------+--------------------+---------+--------------+--------+------------+---------+-------+--------+------------+\n",
            "|Germany|   10|             32|              32|            47.8%|           15.6%|                        80|           2|            1|                   0|           2|  2774|            2427|           87.4%|   3761|    101|      60|           35|     91|        73|           69|                  0|           1|    11|             6|        10|               62.6%|       63|            49|      12|           4|        0|     15|      15|          17|\n",
            "| Greece|    5|              8|              18|            30.7%|           19.2%|                        32|           1|            1|                   1|           0|  1187|             911|           76.7%|   2016|     52|      53|           10|     65|       123|           87|                  0|           1|    23|             7|        13|               65.1%|       67|            48|      12|           9|        1|     12|      12|          20|\n",
            "+-------+-----+---------------+----------------+-----------------+----------------+--------------------------+------------+-------------+--------------------+------------+------+----------------+----------------+-------+-------+--------+-------------+-------+----------+-------------+-------------------+------------+------+--------------+----------+--------------------+---------+--------------+--------+------------+---------+-------+--------+------------+\n",
            "\n"
          ]
        }
      ],
      "source": [
        "euro12.where(col(\"Team\").like(\"G%\")).show()"
      ]
    },
    {
      "cell_type": "markdown",
      "metadata": {
        "id": "yTQv90u8lbD9"
      },
      "source": [
        "### Step 12. Select the first 7 columns"
      ]
    },
    {
      "cell_type": "code",
      "execution_count": 39,
      "metadata": {
        "colab": {
          "base_uri": "https://localhost:8080/"
        },
        "id": "Wpnw1-JdlbD9",
        "outputId": "b7dbd342-73d1-419d-a849-bd5ec3ceaf8d"
      },
      "outputs": [
        {
          "output_type": "execute_result",
          "data": {
            "text/plain": [
              "['Team',\n",
              " 'Goals',\n",
              " 'Shots on target',\n",
              " 'Shots off target',\n",
              " 'Shooting Accuracy',\n",
              " '% Goals-to-shots',\n",
              " 'Total shots (inc. Blocked)']"
            ]
          },
          "metadata": {},
          "execution_count": 39
        }
      ],
      "source": [
        "euro12.columns[:7]"
      ]
    },
    {
      "cell_type": "markdown",
      "metadata": {
        "id": "pHWrIlMtlbD9"
      },
      "source": [
        "### Step 13. Select all columns except the last 3."
      ]
    },
    {
      "cell_type": "code",
      "execution_count": 42,
      "metadata": {
        "colab": {
          "base_uri": "https://localhost:8080/"
        },
        "id": "CQjqqcQClbD9",
        "outputId": "6ea4b4ee-68b2-4121-9ccd-2d88160adadd"
      },
      "outputs": [
        {
          "output_type": "execute_result",
          "data": {
            "text/plain": [
              "['Team',\n",
              " 'Goals',\n",
              " 'Shots on target',\n",
              " 'Shots off target',\n",
              " 'Shooting Accuracy',\n",
              " '% Goals-to-shots',\n",
              " 'Total shots (inc. Blocked)',\n",
              " 'Hit Woodwork',\n",
              " 'Penalty goals',\n",
              " 'Penalties not scored',\n",
              " 'Headed goals',\n",
              " 'Passes',\n",
              " 'Passes completed',\n",
              " 'Passing Accuracy',\n",
              " 'Touches',\n",
              " 'Crosses',\n",
              " 'Dribbles',\n",
              " 'Corners Taken',\n",
              " 'Tackles',\n",
              " 'Clearances',\n",
              " 'Interceptions',\n",
              " 'Clearances off line',\n",
              " 'Clean Sheets',\n",
              " 'Blocks',\n",
              " 'Goals conceded',\n",
              " 'Saves made',\n",
              " 'Saves-to-shots ratio',\n",
              " 'Fouls Won',\n",
              " 'Fouls Conceded',\n",
              " 'Offsides',\n",
              " 'Yellow Cards',\n",
              " 'Red Cards']"
            ]
          },
          "metadata": {},
          "execution_count": 42
        }
      ],
      "source": [
        "euro12.columns[:-3]"
      ]
    },
    {
      "cell_type": "markdown",
      "metadata": {
        "id": "yC_WGy27lbD-"
      },
      "source": [
        "### Step 14. Present only the Shooting Accuracy from England, Italy and Russia"
      ]
    },
    {
      "cell_type": "code",
      "execution_count": 47,
      "metadata": {
        "colab": {
          "base_uri": "https://localhost:8080/"
        },
        "id": "QWWyAvxHlbD-",
        "outputId": "282d358d-67e8-4a13-8df1-6b5047f77a9b"
      },
      "outputs": [
        {
          "output_type": "stream",
          "name": "stdout",
          "text": [
            "+-------+-----------------+\n",
            "|   Team|Shooting Accuracy|\n",
            "+-------+-----------------+\n",
            "|England|            50.0%|\n",
            "|  Italy|            43.0%|\n",
            "| Russia|            22.5%|\n",
            "+-------+-----------------+\n",
            "\n"
          ]
        }
      ],
      "source": [
        "euro12.select(\"Team\",\"Shooting Accuracy\").where(col(\"Team\").isin(\"England\",\"Italy\",\"Russia\")).show()"
      ]
    }
  ],
  "metadata": {
    "anaconda-cloud": {},
    "kernelspec": {
      "display_name": "Python [default]",
      "language": "python",
      "name": "python2"
    },
    "language_info": {
      "codemirror_mode": {
        "name": "ipython",
        "version": 2
      },
      "file_extension": ".py",
      "mimetype": "text/x-python",
      "name": "python",
      "nbconvert_exporter": "python",
      "pygments_lexer": "ipython2",
      "version": "2.7.12"
    },
    "colab": {
      "provenance": []
    }
  },
  "nbformat": 4,
  "nbformat_minor": 0
}