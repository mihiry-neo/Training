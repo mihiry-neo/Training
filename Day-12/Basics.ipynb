{
  "cells": [
    {
      "cell_type": "markdown",
      "metadata": {
        "id": "p1_pAYTPKVkr"
      },
      "source": [
        "# Getting and Knowing your Data"
      ]
    },
    {
      "cell_type": "markdown",
      "metadata": {
        "id": "V3DL2fEgKVks"
      },
      "source": [
        "This time we are going to pull data directly from the internet.\n",
        "Special thanks to: https://github.com/justmarkham for sharing the dataset and materials.\n",
        "\n",
        "### Step 1. Import the necessary libraries"
      ]
    },
    {
      "cell_type": "code",
      "execution_count": null,
      "metadata": {
        "id": "_j0T8yrFKVkt"
      },
      "outputs": [],
      "source": [
        "from pyspark.sql import SparkSession\n",
        "spark = SparkSession.builder.appName(\"Occupation Exercise\").getOrCreate()"
      ]
    },
    {
      "cell_type": "markdown",
      "metadata": {
        "id": "Wj5ZdC4jKVkt"
      },
      "source": [
        "### Step 2. Import the dataset from this [address](https://raw.githubusercontent.com/justmarkham/DAT8/master/data/u.user)."
      ]
    },
    {
      "cell_type": "code",
      "source": [
        "!wget https://raw.githubusercontent.com/justmarkham/DAT8/master/data/u.user -O u.user"
      ],
      "metadata": {
        "colab": {
          "base_uri": "https://localhost:8080/"
        },
        "id": "1lezYDVTb6aH",
        "outputId": "d17f68cf-ff8c-47db-9789-27df12544c14"
      },
      "execution_count": null,
      "outputs": [
        {
          "output_type": "stream",
          "name": "stdout",
          "text": [
            "--2025-06-20 08:41:39--  https://raw.githubusercontent.com/justmarkham/DAT8/master/data/u.user\n",
            "Resolving raw.githubusercontent.com (raw.githubusercontent.com)... 185.199.108.133, 185.199.109.133, 185.199.110.133, ...\n",
            "Connecting to raw.githubusercontent.com (raw.githubusercontent.com)|185.199.108.133|:443... connected.\n",
            "HTTP request sent, awaiting response... 200 OK\n",
            "Length: 22667 (22K) [text/plain]\n",
            "Saving to: ‘u.user’\n",
            "\n",
            "\ru.user                0%[                    ]       0  --.-KB/s               \ru.user              100%[===================>]  22.14K  --.-KB/s    in 0.001s  \n",
            "\n",
            "2025-06-20 08:41:39 (15.4 MB/s) - ‘u.user’ saved [22667/22667]\n",
            "\n"
          ]
        }
      ]
    },
    {
      "cell_type": "markdown",
      "metadata": {
        "id": "ctzLHgpBKVkt"
      },
      "source": [
        "### Step 3. Assign it to a variable called users and use the 'user_id' as index"
      ]
    },
    {
      "cell_type": "code",
      "execution_count": null,
      "metadata": {
        "id": "zQYe4AdEKVku"
      },
      "outputs": [],
      "source": [
        "users = spark.read.format(\"csv\") \\\n",
        ".option(\"delimiter\",\"|\") \\\n",
        ".option(\"header\",\"true\") \\\n",
        ".option(\"inferSchema\",\"true\") \\\n",
        ".load(\"u.user\")"
      ]
    },
    {
      "cell_type": "markdown",
      "metadata": {
        "id": "Xz4a5c-9KVku"
      },
      "source": [
        "### Step 4. See the first 25 entries"
      ]
    },
    {
      "cell_type": "code",
      "execution_count": null,
      "metadata": {
        "scrolled": true,
        "colab": {
          "base_uri": "https://localhost:8080/"
        },
        "id": "JGJF0kqrKVku",
        "outputId": "0dd508b9-3c4c-41f9-9aa8-a3bc360b37be"
      },
      "outputs": [
        {
          "output_type": "stream",
          "name": "stdout",
          "text": [
            "+-------+---+------+-------------+--------+\n",
            "|user_id|age|gender|   occupation|zip_code|\n",
            "+-------+---+------+-------------+--------+\n",
            "|      1| 24|     M|   technician|   85711|\n",
            "|      2| 53|     F|        other|   94043|\n",
            "|      3| 23|     M|       writer|   32067|\n",
            "|      4| 24|     M|   technician|   43537|\n",
            "|      5| 33|     F|        other|   15213|\n",
            "|      6| 42|     M|    executive|   98101|\n",
            "|      7| 57|     M|administrator|   91344|\n",
            "|      8| 36|     M|administrator|   05201|\n",
            "|      9| 29|     M|      student|   01002|\n",
            "|     10| 53|     M|       lawyer|   90703|\n",
            "|     11| 39|     F|        other|   30329|\n",
            "|     12| 28|     F|        other|   06405|\n",
            "|     13| 47|     M|     educator|   29206|\n",
            "|     14| 45|     M|    scientist|   55106|\n",
            "|     15| 49|     F|     educator|   97301|\n",
            "|     16| 21|     M|entertainment|   10309|\n",
            "|     17| 30|     M|   programmer|   06355|\n",
            "|     18| 35|     F|        other|   37212|\n",
            "|     19| 40|     M|    librarian|   02138|\n",
            "|     20| 42|     F|    homemaker|   95660|\n",
            "|     21| 26|     M|       writer|   30068|\n",
            "|     22| 25|     M|       writer|   40206|\n",
            "|     23| 30|     F|       artist|   48197|\n",
            "|     24| 21|     F|       artist|   94533|\n",
            "|     25| 39|     M|     engineer|   55107|\n",
            "+-------+---+------+-------------+--------+\n",
            "only showing top 25 rows\n",
            "\n"
          ]
        }
      ],
      "source": [
        "users.show(25)"
      ]
    },
    {
      "cell_type": "markdown",
      "metadata": {
        "id": "oRBqdgrcKVku"
      },
      "source": [
        "### Step 5. See the last 10 entries"
      ]
    },
    {
      "cell_type": "code",
      "execution_count": null,
      "metadata": {
        "scrolled": true,
        "colab": {
          "base_uri": "https://localhost:8080/"
        },
        "id": "BbVKzy_IKVku",
        "outputId": "8bc574c8-4902-4c2c-95c7-cd97c36e5ee2"
      },
      "outputs": [
        {
          "output_type": "execute_result",
          "data": {
            "text/plain": [
              "[Row(user_id=934, age=61, gender='M', occupation='engineer', zip_code='22902'),\n",
              " Row(user_id=935, age=42, gender='M', occupation='doctor', zip_code='66221'),\n",
              " Row(user_id=936, age=24, gender='M', occupation='other', zip_code='32789'),\n",
              " Row(user_id=937, age=48, gender='M', occupation='educator', zip_code='98072'),\n",
              " Row(user_id=938, age=38, gender='F', occupation='technician', zip_code='55038'),\n",
              " Row(user_id=939, age=26, gender='F', occupation='student', zip_code='33319'),\n",
              " Row(user_id=940, age=32, gender='M', occupation='administrator', zip_code='02215'),\n",
              " Row(user_id=941, age=20, gender='M', occupation='student', zip_code='97229'),\n",
              " Row(user_id=942, age=48, gender='F', occupation='librarian', zip_code='78209'),\n",
              " Row(user_id=943, age=22, gender='M', occupation='student', zip_code='77841')]"
            ]
          },
          "metadata": {},
          "execution_count": 51
        }
      ],
      "source": [
        "users.tail(10)"
      ]
    },
    {
      "cell_type": "markdown",
      "metadata": {
        "id": "l3XMbNRTKVkv"
      },
      "source": [
        "### Step 6. What is the number of observations in the dataset?"
      ]
    },
    {
      "cell_type": "code",
      "execution_count": null,
      "metadata": {
        "colab": {
          "base_uri": "https://localhost:8080/"
        },
        "id": "QCyhbJ5AKVkv",
        "outputId": "d5449c01-7895-489d-9d76-c8cff2cee0bf"
      },
      "outputs": [
        {
          "output_type": "execute_result",
          "data": {
            "text/plain": [
              "943"
            ]
          },
          "metadata": {},
          "execution_count": 52
        }
      ],
      "source": [
        "users.count()"
      ]
    },
    {
      "cell_type": "markdown",
      "metadata": {
        "id": "tDIHZfZJKVkv"
      },
      "source": [
        "### Step 7. What is the number of columns in the dataset?"
      ]
    },
    {
      "cell_type": "code",
      "execution_count": null,
      "metadata": {
        "colab": {
          "base_uri": "https://localhost:8080/"
        },
        "id": "VO1ciOL5KVkv",
        "outputId": "01cee99b-b95a-4951-ed0f-42f2024c4edc"
      },
      "outputs": [
        {
          "output_type": "stream",
          "name": "stdout",
          "text": [
            "5\n"
          ]
        }
      ],
      "source": [
        "print(len(users.columns))"
      ]
    },
    {
      "cell_type": "markdown",
      "metadata": {
        "id": "_pD43VegKVkv"
      },
      "source": [
        "### Step 8. Print the name of all the columns."
      ]
    },
    {
      "cell_type": "code",
      "execution_count": null,
      "metadata": {
        "colab": {
          "base_uri": "https://localhost:8080/"
        },
        "id": "pvoq9MocKVkv",
        "outputId": "480b0ea0-1806-4449-b1dc-97b7e70b9b3c"
      },
      "outputs": [
        {
          "output_type": "execute_result",
          "data": {
            "text/plain": [
              "['user_id', 'age', 'gender', 'occupation', 'zip_code']"
            ]
          },
          "metadata": {},
          "execution_count": 54
        }
      ],
      "source": [
        "users.columns"
      ]
    },
    {
      "cell_type": "markdown",
      "metadata": {
        "id": "CWy3DapSKVkv"
      },
      "source": [
        "### Step 9. How is the dataset indexed?"
      ]
    },
    {
      "cell_type": "code",
      "execution_count": null,
      "metadata": {
        "colab": {
          "base_uri": "https://localhost:8080/"
        },
        "id": "eM11OEPYKVkv",
        "outputId": "d72d5202-f0c7-4a66-a438-59dfd026ce33"
      },
      "outputs": [
        {
          "output_type": "stream",
          "name": "stdout",
          "text": [
            "+-------+---+------+-------------+--------+---------+\n",
            "|user_id|age|gender|   occupation|zip_code|row_index|\n",
            "+-------+---+------+-------------+--------+---------+\n",
            "|      1| 24|     M|   technician|   85711|        1|\n",
            "|      2| 53|     F|        other|   94043|        2|\n",
            "|      3| 23|     M|       writer|   32067|        3|\n",
            "|      4| 24|     M|   technician|   43537|        4|\n",
            "|      5| 33|     F|        other|   15213|        5|\n",
            "|      6| 42|     M|    executive|   98101|        6|\n",
            "|      7| 57|     M|administrator|   91344|        7|\n",
            "|      8| 36|     M|administrator|   05201|        8|\n",
            "|      9| 29|     M|      student|   01002|        9|\n",
            "|     10| 53|     M|       lawyer|   90703|       10|\n",
            "|     11| 39|     F|        other|   30329|       11|\n",
            "|     12| 28|     F|        other|   06405|       12|\n",
            "|     13| 47|     M|     educator|   29206|       13|\n",
            "|     14| 45|     M|    scientist|   55106|       14|\n",
            "|     15| 49|     F|     educator|   97301|       15|\n",
            "|     16| 21|     M|entertainment|   10309|       16|\n",
            "|     17| 30|     M|   programmer|   06355|       17|\n",
            "|     18| 35|     F|        other|   37212|       18|\n",
            "|     19| 40|     M|    librarian|   02138|       19|\n",
            "|     20| 42|     F|    homemaker|   95660|       20|\n",
            "+-------+---+------+-------------+--------+---------+\n",
            "only showing top 20 rows\n",
            "\n"
          ]
        }
      ],
      "source": [
        "from pyspark.sql.functions import row_number\n",
        "indexed_users = users.withColumn(\"row_index\", row_number().over(Window.orderBy(\"user_id\")))\n",
        "indexed_users.show()"
      ]
    },
    {
      "cell_type": "markdown",
      "metadata": {
        "id": "UqQotxnLKVkv"
      },
      "source": [
        "### Step 10. What is the data type of each column?"
      ]
    },
    {
      "cell_type": "code",
      "execution_count": null,
      "metadata": {
        "colab": {
          "base_uri": "https://localhost:8080/"
        },
        "id": "noMxUzu3KVkv",
        "outputId": "df008bce-609f-4c9f-842d-bfc570b7820d"
      },
      "outputs": [
        {
          "output_type": "execute_result",
          "data": {
            "text/plain": [
              "[('user_id', 'int'),\n",
              " ('age', 'int'),\n",
              " ('gender', 'string'),\n",
              " ('occupation', 'string'),\n",
              " ('zip_code', 'string')]"
            ]
          },
          "metadata": {},
          "execution_count": 56
        }
      ],
      "source": [
        "users.dtypes"
      ]
    },
    {
      "cell_type": "markdown",
      "metadata": {
        "id": "6UeD8xjIKVkv"
      },
      "source": [
        "### Step 11. Print only the occupation column"
      ]
    },
    {
      "cell_type": "code",
      "execution_count": null,
      "metadata": {
        "colab": {
          "base_uri": "https://localhost:8080/"
        },
        "id": "FMlRb81DKVkv",
        "outputId": "37e39c1f-8263-4afb-cec0-fdc3d806dbc3"
      },
      "outputs": [
        {
          "output_type": "stream",
          "name": "stdout",
          "text": [
            "+-------------+\n",
            "|   occupation|\n",
            "+-------------+\n",
            "|   technician|\n",
            "|        other|\n",
            "|       writer|\n",
            "|   technician|\n",
            "|        other|\n",
            "|    executive|\n",
            "|administrator|\n",
            "|administrator|\n",
            "|      student|\n",
            "|       lawyer|\n",
            "|        other|\n",
            "|        other|\n",
            "|     educator|\n",
            "|    scientist|\n",
            "|     educator|\n",
            "|entertainment|\n",
            "|   programmer|\n",
            "|        other|\n",
            "|    librarian|\n",
            "|    homemaker|\n",
            "+-------------+\n",
            "only showing top 20 rows\n",
            "\n"
          ]
        }
      ],
      "source": [
        "user.select(\"occupation\").show()"
      ]
    },
    {
      "cell_type": "markdown",
      "metadata": {
        "id": "HqPSWG_FKVkv"
      },
      "source": [
        "### Step 12. How many different occupations are in this dataset?"
      ]
    },
    {
      "cell_type": "code",
      "execution_count": null,
      "metadata": {
        "colab": {
          "base_uri": "https://localhost:8080/"
        },
        "id": "24zTLebeKVkv",
        "outputId": "2164394f-a830-4c25-e9c7-f87bbf0d5ed9"
      },
      "outputs": [
        {
          "output_type": "execute_result",
          "data": {
            "text/plain": [
              "21"
            ]
          },
          "metadata": {},
          "execution_count": 62
        }
      ],
      "source": [
        "users.select(\"occupation\").distinct().count()"
      ]
    },
    {
      "cell_type": "markdown",
      "metadata": {
        "id": "XyiZpJXAKVkw"
      },
      "source": [
        "### Step 13. What is the most frequent occupation?"
      ]
    },
    {
      "cell_type": "code",
      "execution_count": null,
      "metadata": {
        "colab": {
          "base_uri": "https://localhost:8080/"
        },
        "id": "wOeZhIt8KVkw",
        "outputId": "c2fd856a-e14a-4641-f117-c7572bf1bffe"
      },
      "outputs": [
        {
          "output_type": "stream",
          "name": "stdout",
          "text": [
            "Row(occupation='student', Users_per_occ=196)\n"
          ]
        }
      ],
      "source": [
        "from pyspark.sql.functions import count, desc, col\n",
        "occ_users = users.groupBy(\"occupation\").agg(count(\"*\").alias(\"Users_per_occ\"))\n",
        "most_freq_occ = occ_users.orderBy(col(\"Users_per_occ\").desc()).first()\n",
        "print(most_freq_occ)"
      ]
    },
    {
      "cell_type": "markdown",
      "metadata": {
        "id": "cmY_GtUlKVkw"
      },
      "source": [
        "### Step 14. Summarize the DataFrame."
      ]
    },
    {
      "cell_type": "code",
      "execution_count": null,
      "metadata": {
        "colab": {
          "base_uri": "https://localhost:8080/"
        },
        "id": "znrT8F6tKVkw",
        "outputId": "31785ee1-9baf-47e1-d698-a0b1a09b2922"
      },
      "outputs": [
        {
          "output_type": "stream",
          "name": "stdout",
          "text": [
            "+-------+-----------------+-----------------+------+-------------+------------------+\n",
            "|summary|          user_id|              age|gender|   occupation|          zip_code|\n",
            "+-------+-----------------+-----------------+------+-------------+------------------+\n",
            "|  count|              943|              943|   943|          943|               943|\n",
            "|   mean|            472.0|34.05196182396607|  NULL|         NULL| 50868.78810810811|\n",
            "| stddev|272.3649512449549|12.19273973305903|  NULL|         NULL|30891.373254138176|\n",
            "|    min|                1|                7|     F|administrator|             00000|\n",
            "|    max|              943|               73|     M|       writer|             Y1A6B|\n",
            "+-------+-----------------+-----------------+------+-------------+------------------+\n",
            "\n"
          ]
        }
      ],
      "source": [
        "users.describe().show()"
      ]
    },
    {
      "cell_type": "markdown",
      "metadata": {
        "id": "cxXLnWuZKVkw"
      },
      "source": [
        "### Step 15. Summarize all the columns"
      ]
    },
    {
      "cell_type": "code",
      "execution_count": null,
      "metadata": {
        "colab": {
          "base_uri": "https://localhost:8080/"
        },
        "id": "BHhRhj4fKVkw",
        "outputId": "80fb5dc3-998a-4bb0-d632-d133738ac09c"
      },
      "outputs": [
        {
          "output_type": "stream",
          "name": "stdout",
          "text": [
            "+-------+-----------------+-----------------+------+-------------+------------------+\n",
            "|summary|          user_id|              age|gender|   occupation|          zip_code|\n",
            "+-------+-----------------+-----------------+------+-------------+------------------+\n",
            "|  count|              943|              943|   943|          943|               943|\n",
            "|   mean|            472.0|34.05196182396607|  NULL|         NULL| 50868.78810810811|\n",
            "| stddev|272.3649512449549|12.19273973305903|  NULL|         NULL|30891.373254138176|\n",
            "|    min|                1|                7|     F|administrator|             00000|\n",
            "|    25%|              236|               25|  NULL|         NULL|           21227.0|\n",
            "|    50%|              472|               31|  NULL|         NULL|           53711.0|\n",
            "|    75%|              708|               43|  NULL|         NULL|           78741.0|\n",
            "|    max|              943|               73|     M|       writer|             Y1A6B|\n",
            "+-------+-----------------+-----------------+------+-------------+------------------+\n",
            "\n"
          ]
        }
      ],
      "source": [
        "users.summary().show()"
      ]
    },
    {
      "cell_type": "markdown",
      "metadata": {
        "id": "OFcHK-EEKVkw"
      },
      "source": [
        "### Step 16. Summarize only the occupation column"
      ]
    },
    {
      "cell_type": "code",
      "execution_count": null,
      "metadata": {
        "colab": {
          "base_uri": "https://localhost:8080/"
        },
        "id": "_S-tZ16EKVkw",
        "outputId": "128a7776-3221-41df-cfce-0b81780620ef"
      },
      "outputs": [
        {
          "output_type": "stream",
          "name": "stdout",
          "text": [
            "+-------+-------------+\n",
            "|summary|   occupation|\n",
            "+-------+-------------+\n",
            "|  count|          943|\n",
            "|   mean|         NULL|\n",
            "| stddev|         NULL|\n",
            "|    min|administrator|\n",
            "|    25%|         NULL|\n",
            "|    50%|         NULL|\n",
            "|    75%|         NULL|\n",
            "|    max|       writer|\n",
            "+-------+-------------+\n",
            "\n"
          ]
        }
      ],
      "source": [
        "users.select(\"occupation\").summary().show()"
      ]
    },
    {
      "cell_type": "markdown",
      "metadata": {
        "id": "uawWpfcIKVkw"
      },
      "source": [
        "### Step 17. What is the mean age of users?"
      ]
    },
    {
      "cell_type": "code",
      "execution_count": null,
      "metadata": {
        "colab": {
          "base_uri": "https://localhost:8080/"
        },
        "id": "HxwivfenKVkw",
        "outputId": "62fdf9e5-af55-432e-a42f-045acf32cef7"
      },
      "outputs": [
        {
          "output_type": "stream",
          "name": "stdout",
          "text": [
            "+-----------------+\n",
            "|   Mean_users_age|\n",
            "+-----------------+\n",
            "|34.05196182396607|\n",
            "+-----------------+\n",
            "\n"
          ]
        }
      ],
      "source": [
        "from pyspark.sql.functions import mean\n",
        "users.agg(mean(\"age\").alias(\"Mean_users_age\")).show()"
      ]
    },
    {
      "cell_type": "markdown",
      "metadata": {
        "id": "xLHfHOuVKVkw"
      },
      "source": [
        "### Step 18. What is the age with least occurrence?"
      ]
    },
    {
      "cell_type": "code",
      "execution_count": null,
      "metadata": {
        "colab": {
          "base_uri": "https://localhost:8080/"
        },
        "id": "T1yL4VhUKVkw",
        "outputId": "2a1b7063-364b-4ba1-8183-df873cffb74e"
      },
      "outputs": [
        {
          "output_type": "execute_result",
          "data": {
            "text/plain": [
              "Row(age=7, Count_age=1)"
            ]
          },
          "metadata": {},
          "execution_count": 86
        }
      ],
      "source": [
        "count_ages = users.groupBy(\"age\").agg(count(\"age\").alias(\"Count_age\"))\n",
        "count_ages.orderBy(col(\"Count_age\").asc()).first()"
      ]
    }
  ],
  "metadata": {
    "anaconda-cloud": {},
    "kernelspec": {
      "display_name": "Python [default]",
      "language": "python",
      "name": "python2"
    },
    "language_info": {
      "codemirror_mode": {
        "name": "ipython",
        "version": 2
      },
      "file_extension": ".py",
      "mimetype": "text/x-python",
      "name": "python",
      "nbconvert_exporter": "python",
      "pygments_lexer": "ipython2",
      "version": "2.7.12"
    },
    "colab": {
      "provenance": []
    }
  },
  "nbformat": 4,
  "nbformat_minor": 0
}